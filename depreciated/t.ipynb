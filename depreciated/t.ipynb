{
 "cells": [
  {
   "cell_type": "code",
   "execution_count": 1,
   "id": "42bb643b",
   "metadata": {},
   "outputs": [],
   "source": [
    "import os\n",
    "from tqdm.auto import tqdm\n",
    "from dotenv import load_dotenv\n",
    "from pinecone import ServerlessSpec\n",
    "from langchain_community.document_loaders import PyPDFLoader\n",
    "from langchain.text_splitter import RecursiveCharacterTextSplitter\n",
    "from pinecone_text.sparse import BM25Encoder\n",
    "from langchain_community.retrievers import PineconeHybridSearchRetriever\n",
    "from langchain_cohere import CohereRerank\n",
    "from langchain.chains import ConversationalRetrievalChain\n",
    "from langchain_groq import ChatGroq\n",
    "from pinecone import Pinecone\n",
    "from langchain_google_genai import GoogleGenerativeAIEmbeddings\n"
   ]
  },
  {
   "cell_type": "code",
   "execution_count": 3,
   "id": "3eaf0751",
   "metadata": {},
   "outputs": [
    {
     "data": {
      "text/plain": [
       "True"
      ]
     },
     "execution_count": 3,
     "metadata": {},
     "output_type": "execute_result"
    }
   ],
   "source": [
    "load_dotenv()"
   ]
  },
  {
   "cell_type": "code",
   "execution_count": 5,
   "id": "9364d1fc",
   "metadata": {},
   "outputs": [
    {
     "name": "stdout",
     "output_type": "stream",
     "text": [
      "Loading and splitting documents...\n"
     ]
    }
   ],
   "source": [
    "print(\"Loading and splitting documents...\")\n",
    "loader = PyPDFLoader(\"Carbon_adsorption.pdf\")\n",
    "documents = loader.load()"
   ]
  },
  {
   "cell_type": "code",
   "execution_count": 7,
   "id": "d5a02945",
   "metadata": {},
   "outputs": [
    {
     "name": "stdout",
     "output_type": "stream",
     "text": [
      "Loaded and split 41 chunks.\n"
     ]
    }
   ],
   "source": [
    "text_splitter = RecursiveCharacterTextSplitter(chunk_size=1000, chunk_overlap=200)\n",
    "docs = text_splitter.split_documents(documents)\n",
    "print(f\"Loaded and split {len(docs)} chunks.\")"
   ]
  },
  {
   "cell_type": "code",
   "execution_count": 8,
   "id": "9353b758",
   "metadata": {},
   "outputs": [
    {
     "name": "stdout",
     "output_type": "stream",
     "text": [
      "Initializing Pinecone...\n"
     ]
    }
   ],
   "source": [
    "# --- 2. Initialize Pinecone and Create Index ---\n",
    "print(\"Initializing Pinecone...\")\n",
    "pinecone_api_key = os.getenv(\"PINECONE_API_KEY\")\n",
    "if not pinecone_api_key:\n",
    "    raise ValueError(\"PINECONE_API_KEY not found in environment variables.\")\n",
    "\n",
    "index_name = \"langchain-test-index\"  # change if desired\n",
    "pc = Pinecone(api_key=pinecone_api_key)\n",
    "if not pc.has_index(index_name):\n",
    "    pc.create_index(\n",
    "        name=index_name,\n",
    "        dimension=1024,\n",
    "        metric=\"dotproduct\",\n",
    "        spec=ServerlessSpec(cloud=\"aws\", region=\"us-east-1\"),\n",
    "    )\n",
    "\n",
    "index = pc.Index(index_name)"
   ]
  },
  {
   "cell_type": "code",
   "execution_count": 9,
   "id": "4883032e",
   "metadata": {},
   "outputs": [
    {
     "name": "stderr",
     "output_type": "stream",
     "text": [
      "[nltk_data] Downloading package punkt_tab to /home/pk/nltk_data...\n",
      "[nltk_data]   Unzipping tokenizers/punkt_tab.zip.\n",
      "[nltk_data] Downloading package stopwords to /home/pk/nltk_data...\n",
      "[nltk_data]   Unzipping corpora/stopwords.zip.\n"
     ]
    },
    {
     "name": "stdout",
     "output_type": "stream",
     "text": [
      "Embeddings and sparse encoder initialized.\n"
     ]
    }
   ],
   "source": [
    "gemini_api_key = os.getenv(\"GEMINI_API_KEY\")\n",
    "\n",
    "# embeddings = GoogleGenerativeAIEmbeddings(\n",
    "#     model=\"models/embedding-001\",\n",
    "#     google_api_key=gemini_api_key,\n",
    "#     max_retries=3,\n",
    "#     timeout=60,\n",
    "# )\n",
    "\n",
    "from langchain_cohere import CohereEmbeddings\n",
    "\n",
    "embeddings = CohereEmbeddings(model=\"embed-english-v3.0\")\n",
    "# embeddings = HuggingFaceEmbeddings(model_name=\"/home/rohan/models\")\n",
    "bm25_encoder = BM25Encoder().default()\n",
    "print(\"Embeddings and sparse encoder initialized.\")"
   ]
  },
  {
   "cell_type": "code",
   "execution_count": 10,
   "id": "ed163221",
   "metadata": {},
   "outputs": [
    {
     "name": "stdout",
     "output_type": "stream",
     "text": [
      "Num doc chunks: 41\n",
      "Index stats: {'dimension': 1024,\n",
      " 'index_fullness': 0.0,\n",
      " 'metric': 'dotproduct',\n",
      " 'namespaces': {'': {'vector_count': 41}},\n",
      " 'total_vector_count': 41,\n",
      " 'vector_type': 'dense'}\n"
     ]
    }
   ],
   "source": [
    "# how many chunks produced locally\n",
    "print(\"Num doc chunks:\", len(docs))\n",
    "\n",
    "# pinecone index stats (replace `index` with your Pinecone index object if different)\n",
    "print(\"Index stats:\", index.describe_index_stats())\n"
   ]
  },
  {
   "cell_type": "code",
   "execution_count": 11,
   "id": "36b580c5",
   "metadata": {},
   "outputs": [
    {
     "name": "stdout",
     "output_type": "stream",
     "text": [
      "Upserting documents to Pinecone with hybrid search...\n"
     ]
    },
    {
     "data": {
      "application/vnd.jupyter.widget-view+json": {
       "model_id": "f093b91bed8e4691b47c5debe4536e9d",
       "version_major": 2,
       "version_minor": 0
      },
      "text/plain": [
       "  0%|          | 0/1 [00:00<?, ?it/s]"
      ]
     },
     "metadata": {},
     "output_type": "display_data"
    },
    {
     "name": "stdout",
     "output_type": "stream",
     "text": [
      "Documents upserted to Pinecone.\n"
     ]
    }
   ],
   "source": [
    "# --- 4. Upsert Documents to Pinecone (Hybrid Search) ---\n",
    "print(\"Upserting documents to Pinecone with hybrid search...\")\n",
    "batch_size = 100\n",
    "for i in tqdm(range(0, len(docs), batch_size)):\n",
    "    i_end = min(i + batch_size, len(docs))\n",
    "    docs_batch = docs[i:i_end]\n",
    "    \n",
    "    # Get page content\n",
    "    docs_content = [doc.page_content for doc in docs_batch]\n",
    "\n",
    "    # Create sparse vectors\n",
    "    sparse_embeds = bm25_encoder.encode_documents(docs_content)\n",
    "\n",
    "    # Create dense vectors\n",
    "    dense_embeds = embeddings.embed_documents(docs_content)\n",
    "\n",
    "    # Create metadata\n",
    "    metadata = [\n",
    "        {\n",
    "            \"text\": doc.page_content,\n",
    "            \"source\": doc.metadata.get(\"source\", \"Unknown\"),\n",
    "            \"page\": doc.metadata.get(\"page\", 0),\n",
    "        }\n",
    "        for doc in docs_batch\n",
    "    ]\n",
    "\n",
    "    # Create IDs\n",
    "    ids = [f\"doc_{i+j}\" for j in range(len(docs_batch))]\n",
    "    \n",
    "    # Create vectors for upsert\n",
    "    vectors_to_upsert = []\n",
    "    for doc_id, sparse, dense, meta in zip(ids, sparse_embeds, dense_embeds, metadata):\n",
    "        vectors_to_upsert.append({\n",
    "            \"id\": doc_id,\n",
    "            \"sparse_values\": sparse,\n",
    "            \"values\": dense,\n",
    "            \"metadata\": meta,\n",
    "        })\n",
    "\n",
    "    # Upsert to Pinecone\n",
    "    index.upsert(vectors=vectors_to_upsert)\n",
    "\n",
    "print(\"Documents upserted to Pinecone.\")"
   ]
  },
  {
   "cell_type": "code",
   "execution_count": 12,
   "id": "006bb734",
   "metadata": {},
   "outputs": [
    {
     "name": "stdout",
     "output_type": "stream",
     "text": [
      "Initializing retriever with hybrid search...\n",
      "Retriever initialized.\n"
     ]
    }
   ],
   "source": [
    "# --- 5. Initialize Retriever with Hybrid Search ---\n",
    "print(\"Initializing retriever with hybrid search...\")\n",
    "retriever = PineconeHybridSearchRetriever(\n",
    "    embeddings=embeddings, sparse_encoder=bm25_encoder, index=index, text_key = \"text\", top_k=20\n",
    ")\n",
    "print(\"Retriever initialized.\")"
   ]
  },
  {
   "cell_type": "code",
   "execution_count": 13,
   "id": "90cf7ee5",
   "metadata": {},
   "outputs": [],
   "source": [
    "groq_api_key = os.getenv(\"GROQ_API_KEY\")\n",
    "\n",
    "llm = ChatGroq(\n",
    "    model = \"llama-3.3-70b-versatile\",\n",
    "    temperature = 0.2,\n",
    "    max_tokens = 32000\n",
    ")\n"
   ]
  },
  {
   "cell_type": "code",
   "execution_count": 14,
   "id": "caa38841",
   "metadata": {},
   "outputs": [
    {
     "name": "stdout",
     "output_type": "stream",
     "text": [
      "Initializing Cohere reranker...\n",
      "Reranker initialized.\n"
     ]
    }
   ],
   "source": [
    "# --- 6. Initialize Reranker ---\n",
    "print(\"Initializing Cohere reranker...\")\n",
    "cohere_api_key = os.getenv(\"COHERE_API_KEY\")\n",
    "if not cohere_api_key:\n",
    "    raise ValueError(\"COHERE_API_KEY not found in environment variables.\")\n",
    "reranker = CohereRerank(model=\"rerank-english-v3.0\")\n",
    "print(\"Reranker initialized.\")"
   ]
  },
  {
   "cell_type": "code",
   "execution_count": 15,
   "id": "475fc4d8",
   "metadata": {},
   "outputs": [
    {
     "name": "stdout",
     "output_type": "stream",
     "text": [
      "Creating Conversational RAG Chain...\n",
      "Conversational RAG Chain created successfully.\n"
     ]
    }
   ],
   "source": [
    "# --- 7. Create Conversational RAG Chain ---\n",
    "print(\"Creating Conversational RAG Chain...\")\n",
    "\n",
    "# Use the default chain without custom prompt to avoid validation errors\n",
    "qa_chain = ConversationalRetrievalChain.from_llm(\n",
    "    llm=llm,\n",
    "    retriever=retriever,\n",
    "    condense_question_llm=llm,\n",
    "    return_source_documents=True\n",
    ")\n",
    "print(\"Conversational RAG Chain created successfully.\")"
   ]
  },
  {
   "cell_type": "code",
   "execution_count": 17,
   "id": "3e868b40",
   "metadata": {},
   "outputs": [
    {
     "name": "stdout",
     "output_type": "stream",
     "text": [
      "\n",
      "--- RAG Agent is Ready ---\n",
      "\n",
      "--- Answer ---\n",
      "Here are the abstracts:\n",
      "\n",
      "1. Abstract: Carbon dioxide (CO2) capture technology is a prominent way to mitigate global climate change originating from the excessive emission of greenhouse gas CO2. The structural modification of adsorbents with amine is a new attractive strategy to enhance their CO2 adsorption efficiency under low pressure. The current work is looking to boost the CO2 uptake performance of Zeolitic imidazolate framework -8 (ZIF -8) impregnated with aminoethylethanolamine (AEEA) inside the porous network of crystalline ZIF-8 nanoparticles via the wet functionalization process due to the enormous surface area and remarkable thermally and chemical stability of ZIF -8.\n",
      "\n",
      "2. Abstract: The rapid increase in atmospheric CO2 concentrations, driven by human activities, has become a critical factor in global climate change, posing severe risks to sustainable development. Addressing this challenge necessitates substantial CO2 removal, which demands innovative and efficient technologies. Carbon dioxide adsorption on porous materials is a promising strategy to mitigate this issue. This study investigates the synthesis of ordered mesoporous silica MCM-41 (Mobil Composition of Matter-41) by microwave irradiation, a technique that offers significant advantages over conventional hydrothermal methods.\n",
      "\n",
      "3. Abstract: The utilization of eutectic molten salt technology has emerged as a prominent area of investigation aimed at fabricating a novel carbon material sorbent based on biomass wastes. The adsorption mechanism on CO2 adsorption remains inadequately elucidated as well. Herein, the biochar fabrication process involving eutectic molten salt method at intermediate-low temperature of 550 °C was successfully achieved and investigated in detail.\n",
      "\n",
      "4. Abstract: Adsorption is fundamental to many industrial processes, including separation of carbon dioxide from other gases in pre- or post-combustion gas mixtures. Adsorbents should have high capacity and selectivity, which are both intimately linked with surface area, pore size distribution, and surface energy. Porous carbons are cheap and scalable adsorbents, but greater understanding of how their textural properties and surface chemistry affects their performance is needed.\n",
      "\n",
      "5. Abstract: The utilization of in-situ heteroatom doping and carbonization techniques to produce porous biochar from waste biomass sources has the potential to significantly enhance electrochemical and CO2 adsorption performance of supercapacitors. In this work, an initiative N, S-codoped biochar was prepared through carbonation and KOH-activated pyrolysis of bagasse-based polycondensate precursors, which were synthesized using sugarcane bagasse as a carbon source, 3-amino-5-methio-1,2,4-triazole as a nitrogen and sulfur source and triglycidyl isocyanurate (TGIC) as a cross-linker, for efficient CO2 capture and energy storage.\n",
      "\n",
      "6. Abstract: Cyanophyta blooms can lead to eutrophication and generate algal toxins. To reduce their environmental risks, hydrothermal carbonization was innovatively applied to simultaneously produce activated carbon (AC) and carbon dots (CDs). AC was further used for CO2 adsorption while CDs were for preparing fluorescent materials.\n",
      "\n",
      "7. Abstract: To enhance CO2 sorption efficiency under low-pressure conditions and effectively compete with N2 sorption in flue gas, modifications are implemented aimed at improving the adsorption capacity and selectivity of ZIF-8, renowned for their robust stability. Deep eutectic solvent (DES) comprising tetraethylammonium chloride (TEAC), tetrapropylammonium chloride (TPAC), and tetrabutylammonium bromide (TBAB) as hydrogen-bond acceptors, along with ethanolamine (MEA) as the hydrogen-bond donor, were meticulously prepared for this purpose.\n",
      "\n",
      "8. Abstract: The preparation of hierarchical porous silica aerogels from coal gasification fine slag (CGFS) offers an effective approach to achieving high-value utilization of solid waste and reducing the production cost of solid adsorbent matrix materials. However, the main challenges involve overcoming technical barriers to efficiently and value-added conversion of CGFS into silica aerogels with CO₂ adsorption properties, as well as elucidating the phase transformation mechanisms during the synthesis process.\n",
      "\n",
      "9. Abstract: Activated carbon from agro-industrial waste, namely tea twigs derived from the processing of Camellia Sinensis branches, using a potassium hydroxide activator for CO2 adsorption has been conducted in this study. Various carbonization temperatures (4000C and 5000C) and heating times of 1 h and 3 h were used in this study.\n",
      "\n",
      "10. Abstract: Resin-based porous carbon materials are considered to be an important direction for CO2 adsorption and supercapacitors due to their controllable chemical structure, large specific surface area, and stable physicochemical properties. But at present, the main source of resin-based porous carbon materials is petroleum-based polymer materials, which is incongruous with the tenets of green chemistry.\n",
      "\n",
      "11. Abstract: A series of porous hypercrosslinked polymers (HCP-x) were synthesized from waste polystyrene foam via Fridel-Crafts alkylation reaction, aiming to optimize the utilization of waste plastics. The impact of various crosslinkers on the structural characteristics and CO2 adsorption properties of HCP-x was investigated.\n",
      "\n",
      "12. Abstract: The utilization of ambient low-pressure CO2 adsorption for carbon neutrality initiatives holds great potential. However, conventional liquid amine absorption methods for CO2 capture are plagued by high energy consumption and equipment corrosion issues. In this study, we present a novel approach using industrial waste silica fume (SF) as a precursor and tetraethylenepentamine (TEPA) as a chemical modifying agent to efficiently synthesize low-cost mesoporous solid amine adsorbents within the waste-derived mesoporous powder sorbents (MPS) series.\n",
      "\n",
      "--- Reranked Sources ---\n",
      "Source: Carbon_adsorption.pdf, Page: 2.0\n",
      "Content: mmol/g at 100 kPa and 8.19 mmol/g at 2 MPa. At 323 K, the uptake further decreased to \n",
      "0.99 ± 0.02 mmol/g at 100 kPa and 6.40 mmol/g at 2 MPa. \n",
      " \n",
      " \n",
      "https://doi.org/10.1016/j.seppur.2024.129054 \n",
      " \n",
      "5. A...\n",
      "--------------------\n",
      "Source: Carbon_adsorption.pdf, Page: 7.0\n",
      "Content: 11. Abstract: \n",
      " \n",
      "A series of porous hypercrosslinked polymers (HCP-x) were synthesized from waste \n",
      "polystyrene foam via Fridel-Crafts alkylation reaction, aiming to optimize the utilization of \n",
      "waste ...\n",
      "--------------------\n",
      "Source: Carbon_adsorption.pdf, Page: 0.0\n",
      "Content: Sno.  Text data \n",
      "1. Abstract: Carbon dioxide (CO2) capture technology is a prominent way to mitigate global \n",
      "climate change originating from the excessive emission of greenhouse gas CO2. The \n",
      "structur...\n",
      "--------------------\n"
     ]
    },
    {
     "ename": "UnauthorizedException",
     "evalue": "(401)\nReason: Unauthorized\nHTTP response headers: HTTPHeaderDict({'Date': 'Sat, 23 Aug 2025 04:32:29 GMT', 'Content-Type': 'text/plain', 'Content-Length': '12', 'Connection': 'keep-alive', 'x-pinecone-auth-rejected-reason': 'Malformed domain', 'www-authenticate': 'Malformed domain', 'server': 'envoy'})\nHTTP response body: Unauthorized\n",
     "output_type": "error",
     "traceback": [
      "\u001b[31m---------------------------------------------------------------------------\u001b[39m",
      "\u001b[31mUnauthorizedException\u001b[39m                     Traceback (most recent call last)",
      "    \u001b[31m[... skipping hidden 1 frame]\u001b[39m\n",
      "\u001b[36mCell\u001b[39m\u001b[36m \u001b[39m\u001b[32mIn[17]\u001b[39m\u001b[32m, line 9\u001b[39m\n\u001b[32m      7\u001b[39m     \u001b[38;5;28;01mbreak\u001b[39;00m\n\u001b[32m----> \u001b[39m\u001b[32m9\u001b[39m result = \u001b[43mqa_chain\u001b[49m\u001b[43m(\u001b[49m\u001b[43m{\u001b[49m\u001b[33;43m\"\u001b[39;49m\u001b[33;43mquestion\u001b[39;49m\u001b[33;43m\"\u001b[39;49m\u001b[43m:\u001b[49m\u001b[43m \u001b[49m\u001b[43mquery\u001b[49m\u001b[43m,\u001b[49m\u001b[43m \u001b[49m\u001b[33;43m\"\u001b[39;49m\u001b[33;43mchat_history\u001b[39;49m\u001b[33;43m\"\u001b[39;49m\u001b[43m:\u001b[49m\u001b[43m \u001b[49m\u001b[43mchat_history\u001b[49m\u001b[43m}\u001b[49m\u001b[43m)\u001b[49m\n\u001b[32m     11\u001b[39m \u001b[38;5;66;03m# Rerank the retrieved documents\u001b[39;00m\n",
      "\u001b[36mFile \u001b[39m\u001b[32m~/miniconda3/envs/myenv/lib/python3.11/site-packages/langchain_core/_api/deprecation.py:189\u001b[39m, in \u001b[36mdeprecated.<locals>.deprecate.<locals>.warning_emitting_wrapper\u001b[39m\u001b[34m(*args, **kwargs)\u001b[39m\n\u001b[32m    188\u001b[39m     emit_warning()\n\u001b[32m--> \u001b[39m\u001b[32m189\u001b[39m \u001b[38;5;28;01mreturn\u001b[39;00m \u001b[43mwrapped\u001b[49m\u001b[43m(\u001b[49m\u001b[43m*\u001b[49m\u001b[43margs\u001b[49m\u001b[43m,\u001b[49m\u001b[43m \u001b[49m\u001b[43m*\u001b[49m\u001b[43m*\u001b[49m\u001b[43mkwargs\u001b[49m\u001b[43m)\u001b[49m\n",
      "\u001b[36mFile \u001b[39m\u001b[32m~/miniconda3/envs/myenv/lib/python3.11/site-packages/langchain/chains/base.py:410\u001b[39m, in \u001b[36mChain.__call__\u001b[39m\u001b[34m(self, inputs, return_only_outputs, callbacks, tags, metadata, run_name, include_run_info)\u001b[39m\n\u001b[32m    403\u001b[39m config = {\n\u001b[32m    404\u001b[39m     \u001b[33m\"\u001b[39m\u001b[33mcallbacks\u001b[39m\u001b[33m\"\u001b[39m: callbacks,\n\u001b[32m    405\u001b[39m     \u001b[33m\"\u001b[39m\u001b[33mtags\u001b[39m\u001b[33m\"\u001b[39m: tags,\n\u001b[32m    406\u001b[39m     \u001b[33m\"\u001b[39m\u001b[33mmetadata\u001b[39m\u001b[33m\"\u001b[39m: metadata,\n\u001b[32m    407\u001b[39m     \u001b[33m\"\u001b[39m\u001b[33mrun_name\u001b[39m\u001b[33m\"\u001b[39m: run_name,\n\u001b[32m    408\u001b[39m }\n\u001b[32m--> \u001b[39m\u001b[32m410\u001b[39m \u001b[38;5;28;01mreturn\u001b[39;00m \u001b[38;5;28;43mself\u001b[39;49m\u001b[43m.\u001b[49m\u001b[43minvoke\u001b[49m\u001b[43m(\u001b[49m\n\u001b[32m    411\u001b[39m \u001b[43m    \u001b[49m\u001b[43minputs\u001b[49m\u001b[43m,\u001b[49m\n\u001b[32m    412\u001b[39m \u001b[43m    \u001b[49m\u001b[43mcast\u001b[49m\u001b[43m(\u001b[49m\u001b[43mRunnableConfig\u001b[49m\u001b[43m,\u001b[49m\u001b[43m \u001b[49m\u001b[43m{\u001b[49m\u001b[43mk\u001b[49m\u001b[43m:\u001b[49m\u001b[43m \u001b[49m\u001b[43mv\u001b[49m\u001b[43m \u001b[49m\u001b[38;5;28;43;01mfor\u001b[39;49;00m\u001b[43m \u001b[49m\u001b[43mk\u001b[49m\u001b[43m,\u001b[49m\u001b[43m \u001b[49m\u001b[43mv\u001b[49m\u001b[43m \u001b[49m\u001b[38;5;129;43;01min\u001b[39;49;00m\u001b[43m \u001b[49m\u001b[43mconfig\u001b[49m\u001b[43m.\u001b[49m\u001b[43mitems\u001b[49m\u001b[43m(\u001b[49m\u001b[43m)\u001b[49m\u001b[43m \u001b[49m\u001b[38;5;28;43;01mif\u001b[39;49;00m\u001b[43m \u001b[49m\u001b[43mv\u001b[49m\u001b[43m \u001b[49m\u001b[38;5;129;43;01mis\u001b[39;49;00m\u001b[43m \u001b[49m\u001b[38;5;129;43;01mnot\u001b[39;49;00m\u001b[43m \u001b[49m\u001b[38;5;28;43;01mNone\u001b[39;49;00m\u001b[43m}\u001b[49m\u001b[43m)\u001b[49m\u001b[43m,\u001b[49m\n\u001b[32m    413\u001b[39m \u001b[43m    \u001b[49m\u001b[43mreturn_only_outputs\u001b[49m\u001b[43m=\u001b[49m\u001b[43mreturn_only_outputs\u001b[49m\u001b[43m,\u001b[49m\n\u001b[32m    414\u001b[39m \u001b[43m    \u001b[49m\u001b[43minclude_run_info\u001b[49m\u001b[43m=\u001b[49m\u001b[43minclude_run_info\u001b[49m\u001b[43m,\u001b[49m\n\u001b[32m    415\u001b[39m \u001b[43m\u001b[49m\u001b[43m)\u001b[49m\n",
      "\u001b[36mFile \u001b[39m\u001b[32m~/miniconda3/envs/myenv/lib/python3.11/site-packages/langchain/chains/base.py:165\u001b[39m, in \u001b[36mChain.invoke\u001b[39m\u001b[34m(self, input, config, **kwargs)\u001b[39m\n\u001b[32m    163\u001b[39m \u001b[38;5;28mself\u001b[39m._validate_inputs(inputs)\n\u001b[32m    164\u001b[39m outputs = (\n\u001b[32m--> \u001b[39m\u001b[32m165\u001b[39m     \u001b[38;5;28;43mself\u001b[39;49m\u001b[43m.\u001b[49m\u001b[43m_call\u001b[49m\u001b[43m(\u001b[49m\u001b[43minputs\u001b[49m\u001b[43m,\u001b[49m\u001b[43m \u001b[49m\u001b[43mrun_manager\u001b[49m\u001b[43m=\u001b[49m\u001b[43mrun_manager\u001b[49m\u001b[43m)\u001b[49m\n\u001b[32m    166\u001b[39m     \u001b[38;5;28;01mif\u001b[39;00m new_arg_supported\n\u001b[32m    167\u001b[39m     \u001b[38;5;28;01melse\u001b[39;00m \u001b[38;5;28mself\u001b[39m._call(inputs)\n\u001b[32m    168\u001b[39m )\n\u001b[32m    170\u001b[39m final_outputs: \u001b[38;5;28mdict\u001b[39m[\u001b[38;5;28mstr\u001b[39m, Any] = \u001b[38;5;28mself\u001b[39m.prep_outputs(\n\u001b[32m    171\u001b[39m     inputs,\n\u001b[32m    172\u001b[39m     outputs,\n\u001b[32m    173\u001b[39m     return_only_outputs,\n\u001b[32m    174\u001b[39m )\n",
      "\u001b[36mFile \u001b[39m\u001b[32m~/miniconda3/envs/myenv/lib/python3.11/site-packages/langchain/chains/conversational_retrieval/base.py:164\u001b[39m, in \u001b[36mBaseConversationalRetrievalChain._call\u001b[39m\u001b[34m(self, inputs, run_manager)\u001b[39m\n\u001b[32m    163\u001b[39m \u001b[38;5;28;01mif\u001b[39;00m accepts_run_manager:\n\u001b[32m--> \u001b[39m\u001b[32m164\u001b[39m     docs = \u001b[38;5;28;43mself\u001b[39;49m\u001b[43m.\u001b[49m\u001b[43m_get_docs\u001b[49m\u001b[43m(\u001b[49m\u001b[43mnew_question\u001b[49m\u001b[43m,\u001b[49m\u001b[43m \u001b[49m\u001b[43minputs\u001b[49m\u001b[43m,\u001b[49m\u001b[43m \u001b[49m\u001b[43mrun_manager\u001b[49m\u001b[43m=\u001b[49m\u001b[43m_run_manager\u001b[49m\u001b[43m)\u001b[49m\n\u001b[32m    165\u001b[39m \u001b[38;5;28;01melse\u001b[39;00m:\n",
      "\u001b[36mFile \u001b[39m\u001b[32m~/miniconda3/envs/myenv/lib/python3.11/site-packages/langchain/chains/conversational_retrieval/base.py:409\u001b[39m, in \u001b[36mConversationalRetrievalChain._get_docs\u001b[39m\u001b[34m(self, question, inputs, run_manager)\u001b[39m\n\u001b[32m    408\u001b[39m \u001b[38;5;250m\u001b[39m\u001b[33;03m\"\"\"Get docs.\"\"\"\u001b[39;00m\n\u001b[32m--> \u001b[39m\u001b[32m409\u001b[39m docs = \u001b[38;5;28;43mself\u001b[39;49m\u001b[43m.\u001b[49m\u001b[43mretriever\u001b[49m\u001b[43m.\u001b[49m\u001b[43minvoke\u001b[49m\u001b[43m(\u001b[49m\n\u001b[32m    410\u001b[39m \u001b[43m    \u001b[49m\u001b[43mquestion\u001b[49m\u001b[43m,\u001b[49m\n\u001b[32m    411\u001b[39m \u001b[43m    \u001b[49m\u001b[43mconfig\u001b[49m\u001b[43m=\u001b[49m\u001b[43m{\u001b[49m\u001b[33;43m\"\u001b[39;49m\u001b[33;43mcallbacks\u001b[39;49m\u001b[33;43m\"\u001b[39;49m\u001b[43m:\u001b[49m\u001b[43m \u001b[49m\u001b[43mrun_manager\u001b[49m\u001b[43m.\u001b[49m\u001b[43mget_child\u001b[49m\u001b[43m(\u001b[49m\u001b[43m)\u001b[49m\u001b[43m}\u001b[49m\u001b[43m,\u001b[49m\n\u001b[32m    412\u001b[39m \u001b[43m\u001b[49m\u001b[43m)\u001b[49m\n\u001b[32m    413\u001b[39m \u001b[38;5;28;01mreturn\u001b[39;00m \u001b[38;5;28mself\u001b[39m._reduce_tokens_below_limit(docs)\n",
      "\u001b[36mFile \u001b[39m\u001b[32m~/miniconda3/envs/myenv/lib/python3.11/site-packages/langchain_core/retrievers.py:259\u001b[39m, in \u001b[36mBaseRetriever.invoke\u001b[39m\u001b[34m(self, input, config, **kwargs)\u001b[39m\n\u001b[32m    258\u001b[39m \u001b[38;5;28;01mif\u001b[39;00m \u001b[38;5;28mself\u001b[39m._new_arg_supported:\n\u001b[32m--> \u001b[39m\u001b[32m259\u001b[39m     result = \u001b[38;5;28;43mself\u001b[39;49m\u001b[43m.\u001b[49m\u001b[43m_get_relevant_documents\u001b[49m\u001b[43m(\u001b[49m\n\u001b[32m    260\u001b[39m \u001b[43m        \u001b[49m\u001b[38;5;28;43minput\u001b[39;49m\u001b[43m,\u001b[49m\u001b[43m \u001b[49m\u001b[43mrun_manager\u001b[49m\u001b[43m=\u001b[49m\u001b[43mrun_manager\u001b[49m\u001b[43m,\u001b[49m\u001b[43m \u001b[49m\u001b[43m*\u001b[49m\u001b[43m*\u001b[49m\u001b[43mkwargs_\u001b[49m\n\u001b[32m    261\u001b[39m \u001b[43m    \u001b[49m\u001b[43m)\u001b[49m\n\u001b[32m    262\u001b[39m \u001b[38;5;28;01melse\u001b[39;00m:\n",
      "\u001b[36mFile \u001b[39m\u001b[32m~/miniconda3/envs/myenv/lib/python3.11/site-packages/langchain_community/retrievers/pinecone_hybrid_search.py:169\u001b[39m, in \u001b[36mPineconeHybridSearchRetriever._get_relevant_documents\u001b[39m\u001b[34m(self, query, run_manager, **kwargs)\u001b[39m\n\u001b[32m    168\u001b[39m \u001b[38;5;66;03m# query pinecone with the query parameters\u001b[39;00m\n\u001b[32m--> \u001b[39m\u001b[32m169\u001b[39m result = \u001b[38;5;28;43mself\u001b[39;49m\u001b[43m.\u001b[49m\u001b[43mindex\u001b[49m\u001b[43m.\u001b[49m\u001b[43mquery\u001b[49m\u001b[43m(\u001b[49m\n\u001b[32m    170\u001b[39m \u001b[43m    \u001b[49m\u001b[43mvector\u001b[49m\u001b[43m=\u001b[49m\u001b[43mdense_vec\u001b[49m\u001b[43m,\u001b[49m\n\u001b[32m    171\u001b[39m \u001b[43m    \u001b[49m\u001b[43msparse_vector\u001b[49m\u001b[43m=\u001b[49m\u001b[43msparse_vec\u001b[49m\u001b[43m,\u001b[49m\n\u001b[32m    172\u001b[39m \u001b[43m    \u001b[49m\u001b[43mtop_k\u001b[49m\u001b[43m=\u001b[49m\u001b[38;5;28;43mself\u001b[39;49m\u001b[43m.\u001b[49m\u001b[43mtop_k\u001b[49m\u001b[43m,\u001b[49m\n\u001b[32m    173\u001b[39m \u001b[43m    \u001b[49m\u001b[43minclude_metadata\u001b[49m\u001b[43m=\u001b[49m\u001b[38;5;28;43;01mTrue\u001b[39;49;00m\u001b[43m,\u001b[49m\n\u001b[32m    174\u001b[39m \u001b[43m    \u001b[49m\u001b[43mnamespace\u001b[49m\u001b[43m=\u001b[49m\u001b[38;5;28;43mself\u001b[39;49m\u001b[43m.\u001b[49m\u001b[43mnamespace\u001b[49m\u001b[43m,\u001b[49m\n\u001b[32m    175\u001b[39m \u001b[43m    \u001b[49m\u001b[43m*\u001b[49m\u001b[43m*\u001b[49m\u001b[43mkwargs\u001b[49m\u001b[43m,\u001b[49m\n\u001b[32m    176\u001b[39m \u001b[43m\u001b[49m\u001b[43m)\u001b[49m\n\u001b[32m    177\u001b[39m final_result = []\n",
      "\u001b[36mFile \u001b[39m\u001b[32m~/miniconda3/envs/myenv/lib/python3.11/site-packages/pinecone/utils/error_handling.py:30\u001b[39m, in \u001b[36mvalidate_and_convert_errors.<locals>.inner_func\u001b[39m\u001b[34m(*args, **kwargs)\u001b[39m\n\u001b[32m     29\u001b[39m \u001b[38;5;28;01melse\u001b[39;00m:\n\u001b[32m---> \u001b[39m\u001b[32m30\u001b[39m     \u001b[38;5;28;01mraise\u001b[39;00m e \u001b[38;5;28;01mfrom\u001b[39;00m\u001b[38;5;250m \u001b[39m\u001b[34;01me\u001b[39;00m\n",
      "\u001b[36mFile \u001b[39m\u001b[32m~/miniconda3/envs/myenv/lib/python3.11/site-packages/pinecone/utils/error_handling.py:15\u001b[39m, in \u001b[36mvalidate_and_convert_errors.<locals>.inner_func\u001b[39m\u001b[34m(*args, **kwargs)\u001b[39m\n\u001b[32m     14\u001b[39m \u001b[38;5;28;01mtry\u001b[39;00m:\n\u001b[32m---> \u001b[39m\u001b[32m15\u001b[39m     \u001b[38;5;28;01mreturn\u001b[39;00m \u001b[43mfunc\u001b[49m\u001b[43m(\u001b[49m\u001b[43m*\u001b[49m\u001b[43margs\u001b[49m\u001b[43m,\u001b[49m\u001b[43m \u001b[49m\u001b[43m*\u001b[49m\u001b[43m*\u001b[49m\u001b[43mkwargs\u001b[49m\u001b[43m)\u001b[49m\n\u001b[32m     16\u001b[39m \u001b[38;5;28;01mexcept\u001b[39;00m \u001b[38;5;167;01mException\u001b[39;00m \u001b[38;5;28;01mas\u001b[39;00m e:\n\u001b[32m     17\u001b[39m     \u001b[38;5;66;03m# Lazy import of urllib3 exceptions\u001b[39;00m\n",
      "\u001b[36mFile \u001b[39m\u001b[32m~/miniconda3/envs/myenv/lib/python3.11/site-packages/pinecone/db_data/index.py:345\u001b[39m, in \u001b[36mIndex.query\u001b[39m\u001b[34m(self, top_k, vector, id, namespace, filter, include_values, include_metadata, sparse_vector, *args, **kwargs)\u001b[39m\n\u001b[32m    331\u001b[39m \u001b[38;5;129m@validate_and_convert_errors\u001b[39m\n\u001b[32m    332\u001b[39m \u001b[38;5;28;01mdef\u001b[39;00m\u001b[38;5;250m \u001b[39m\u001b[34mquery\u001b[39m(\n\u001b[32m    333\u001b[39m     \u001b[38;5;28mself\u001b[39m,\n\u001b[32m   (...)\u001b[39m\u001b[32m    343\u001b[39m     **kwargs,\n\u001b[32m    344\u001b[39m ) -> Union[QueryResponse, ApplyResult]:\n\u001b[32m--> \u001b[39m\u001b[32m345\u001b[39m     response = \u001b[38;5;28;43mself\u001b[39;49m\u001b[43m.\u001b[49m\u001b[43m_query\u001b[49m\u001b[43m(\u001b[49m\n\u001b[32m    346\u001b[39m \u001b[43m        \u001b[49m\u001b[43m*\u001b[49m\u001b[43margs\u001b[49m\u001b[43m,\u001b[49m\n\u001b[32m    347\u001b[39m \u001b[43m        \u001b[49m\u001b[43mtop_k\u001b[49m\u001b[43m=\u001b[49m\u001b[43mtop_k\u001b[49m\u001b[43m,\u001b[49m\n\u001b[32m    348\u001b[39m \u001b[43m        \u001b[49m\u001b[43mvector\u001b[49m\u001b[43m=\u001b[49m\u001b[43mvector\u001b[49m\u001b[43m,\u001b[49m\n\u001b[32m    349\u001b[39m \u001b[43m        \u001b[49m\u001b[38;5;28;43mid\u001b[39;49m\u001b[43m=\u001b[49m\u001b[38;5;28;43mid\u001b[39;49m\u001b[43m,\u001b[49m\n\u001b[32m    350\u001b[39m \u001b[43m        \u001b[49m\u001b[43mnamespace\u001b[49m\u001b[43m=\u001b[49m\u001b[43mnamespace\u001b[49m\u001b[43m,\u001b[49m\n\u001b[32m    351\u001b[39m \u001b[43m        \u001b[49m\u001b[38;5;28;43mfilter\u001b[39;49m\u001b[43m=\u001b[49m\u001b[38;5;28;43mfilter\u001b[39;49m\u001b[43m,\u001b[49m\n\u001b[32m    352\u001b[39m \u001b[43m        \u001b[49m\u001b[43minclude_values\u001b[49m\u001b[43m=\u001b[49m\u001b[43minclude_values\u001b[49m\u001b[43m,\u001b[49m\n\u001b[32m    353\u001b[39m \u001b[43m        \u001b[49m\u001b[43minclude_metadata\u001b[49m\u001b[43m=\u001b[49m\u001b[43minclude_metadata\u001b[49m\u001b[43m,\u001b[49m\n\u001b[32m    354\u001b[39m \u001b[43m        \u001b[49m\u001b[43msparse_vector\u001b[49m\u001b[43m=\u001b[49m\u001b[43msparse_vector\u001b[49m\u001b[43m,\u001b[49m\n\u001b[32m    355\u001b[39m \u001b[43m        \u001b[49m\u001b[43m*\u001b[49m\u001b[43m*\u001b[49m\u001b[43mkwargs\u001b[49m\u001b[43m,\u001b[49m\n\u001b[32m    356\u001b[39m \u001b[43m    \u001b[49m\u001b[43m)\u001b[49m\n\u001b[32m    358\u001b[39m     \u001b[38;5;28;01mif\u001b[39;00m kwargs.get(\u001b[33m\"\u001b[39m\u001b[33masync_req\u001b[39m\u001b[33m\"\u001b[39m, \u001b[38;5;28;01mFalse\u001b[39;00m) \u001b[38;5;129;01mor\u001b[39;00m kwargs.get(\u001b[33m\"\u001b[39m\u001b[33masync_threadpool_executor\u001b[39m\u001b[33m\"\u001b[39m, \u001b[38;5;28;01mFalse\u001b[39;00m):\n",
      "\u001b[36mFile \u001b[39m\u001b[32m~/miniconda3/envs/myenv/lib/python3.11/site-packages/pinecone/db_data/index.py:395\u001b[39m, in \u001b[36mIndex._query\u001b[39m\u001b[34m(self, top_k, vector, id, namespace, filter, include_values, include_metadata, sparse_vector, *args, **kwargs)\u001b[39m\n\u001b[32m    384\u001b[39m request = IndexRequestFactory.query_request(\n\u001b[32m    385\u001b[39m     top_k=top_k,\n\u001b[32m    386\u001b[39m     vector=vector,\n\u001b[32m   (...)\u001b[39m\u001b[32m    393\u001b[39m     **kwargs,\n\u001b[32m    394\u001b[39m )\n\u001b[32m--> \u001b[39m\u001b[32m395\u001b[39m \u001b[38;5;28;01mreturn\u001b[39;00m \u001b[38;5;28;43mself\u001b[39;49m\u001b[43m.\u001b[49m\u001b[43m_vector_api\u001b[49m\u001b[43m.\u001b[49m\u001b[43mquery_vectors\u001b[49m\u001b[43m(\u001b[49m\u001b[43mrequest\u001b[49m\u001b[43m,\u001b[49m\u001b[43m \u001b[49m\u001b[43m*\u001b[49m\u001b[43m*\u001b[49m\u001b[38;5;28;43mself\u001b[39;49m\u001b[43m.\u001b[49m\u001b[43m_openapi_kwargs\u001b[49m\u001b[43m(\u001b[49m\u001b[43mkwargs\u001b[49m\u001b[43m)\u001b[49m\u001b[43m)\u001b[49m\n",
      "\u001b[36mFile \u001b[39m\u001b[32m~/miniconda3/envs/myenv/lib/python3.11/site-packages/pinecone/openapi_support/endpoint.py:102\u001b[39m, in \u001b[36mEndpoint.__call__\u001b[39m\u001b[34m(self, *args, **kwargs)\u001b[39m\n\u001b[32m     92\u001b[39m \u001b[38;5;250m\u001b[39m\u001b[33;03m\"\"\"This method is invoked when endpoints are called\u001b[39;00m\n\u001b[32m     93\u001b[39m \u001b[33;03mExample:\u001b[39;00m\n\u001b[32m     94\u001b[39m \n\u001b[32m   (...)\u001b[39m\u001b[32m    100\u001b[39m \n\u001b[32m    101\u001b[39m \u001b[33;03m\"\"\"\u001b[39;00m\n\u001b[32m--> \u001b[39m\u001b[32m102\u001b[39m \u001b[38;5;28;01mreturn\u001b[39;00m \u001b[38;5;28;43mself\u001b[39;49m\u001b[43m.\u001b[49m\u001b[43mcallable\u001b[49m\u001b[43m(\u001b[49m\u001b[38;5;28;43mself\u001b[39;49m\u001b[43m,\u001b[49m\u001b[43m \u001b[49m\u001b[43m*\u001b[49m\u001b[43margs\u001b[49m\u001b[43m,\u001b[49m\u001b[43m \u001b[49m\u001b[43m*\u001b[49m\u001b[43m*\u001b[49m\u001b[43mkwargs\u001b[49m\u001b[43m)\u001b[49m\n",
      "\u001b[36mFile \u001b[39m\u001b[32m~/miniconda3/envs/myenv/lib/python3.11/site-packages/pinecone/core/openapi/db_data/api/vector_operations_api.py:388\u001b[39m, in \u001b[36mVectorOperationsApi.__init__.<locals>.__query_vectors\u001b[39m\u001b[34m(self, query_request, **kwargs)\u001b[39m\n\u001b[32m    387\u001b[39m kwargs[\u001b[33m\"\u001b[39m\u001b[33mquery_request\u001b[39m\u001b[33m\"\u001b[39m] = query_request\n\u001b[32m--> \u001b[39m\u001b[32m388\u001b[39m \u001b[38;5;28;01mreturn\u001b[39;00m \u001b[38;5;28;43mself\u001b[39;49m\u001b[43m.\u001b[49m\u001b[43mcall_with_http_info\u001b[49m\u001b[43m(\u001b[49m\u001b[43m*\u001b[49m\u001b[43m*\u001b[49m\u001b[43mkwargs\u001b[49m\u001b[43m)\u001b[49m\n",
      "\u001b[36mFile \u001b[39m\u001b[32m~/miniconda3/envs/myenv/lib/python3.11/site-packages/pinecone/openapi_support/endpoint.py:134\u001b[39m, in \u001b[36mEndpoint.call_with_http_info\u001b[39m\u001b[34m(self, **kwargs)\u001b[39m\n\u001b[32m    132\u001b[39m HeaderUtil.prepare_headers(headers_map=\u001b[38;5;28mself\u001b[39m.headers_map, params=params)\n\u001b[32m--> \u001b[39m\u001b[32m134\u001b[39m \u001b[38;5;28;01mreturn\u001b[39;00m \u001b[38;5;28;43mself\u001b[39;49m\u001b[43m.\u001b[49m\u001b[43mapi_client\u001b[49m\u001b[43m.\u001b[49m\u001b[43mcall_api\u001b[49m\u001b[43m(\u001b[49m\n\u001b[32m    135\u001b[39m \u001b[43m    \u001b[49m\u001b[38;5;28;43mself\u001b[39;49m\u001b[43m.\u001b[49m\u001b[43msettings\u001b[49m\u001b[43m[\u001b[49m\u001b[33;43m\"\u001b[39;49m\u001b[33;43mendpoint_path\u001b[39;49m\u001b[33;43m\"\u001b[39;49m\u001b[43m]\u001b[49m\u001b[43m,\u001b[49m\n\u001b[32m    136\u001b[39m \u001b[43m    \u001b[49m\u001b[38;5;28;43mself\u001b[39;49m\u001b[43m.\u001b[49m\u001b[43msettings\u001b[49m\u001b[43m[\u001b[49m\u001b[33;43m\"\u001b[39;49m\u001b[33;43mhttp_method\u001b[39;49m\u001b[33;43m\"\u001b[39;49m\u001b[43m]\u001b[49m\u001b[43m,\u001b[49m\n\u001b[32m    137\u001b[39m \u001b[43m    \u001b[49m\u001b[43mpath_params\u001b[49m\u001b[43m=\u001b[49m\u001b[43mparams\u001b[49m\u001b[43m[\u001b[49m\u001b[33;43m\"\u001b[39;49m\u001b[33;43mpath\u001b[39;49m\u001b[33;43m\"\u001b[39;49m\u001b[43m]\u001b[49m\u001b[43m,\u001b[49m\n\u001b[32m    138\u001b[39m \u001b[43m    \u001b[49m\u001b[43mquery_params\u001b[49m\u001b[43m=\u001b[49m\u001b[43mparams\u001b[49m\u001b[43m[\u001b[49m\u001b[33;43m\"\u001b[39;49m\u001b[33;43mquery\u001b[39;49m\u001b[33;43m\"\u001b[39;49m\u001b[43m]\u001b[49m\u001b[43m,\u001b[49m\n\u001b[32m    139\u001b[39m \u001b[43m    \u001b[49m\u001b[43mheader_params\u001b[49m\u001b[43m=\u001b[49m\u001b[43mparams\u001b[49m\u001b[43m[\u001b[49m\u001b[33;43m\"\u001b[39;49m\u001b[33;43mheader\u001b[39;49m\u001b[33;43m\"\u001b[39;49m\u001b[43m]\u001b[49m\u001b[43m,\u001b[49m\n\u001b[32m    140\u001b[39m \u001b[43m    \u001b[49m\u001b[43mbody\u001b[49m\u001b[43m=\u001b[49m\u001b[43mparams\u001b[49m\u001b[43m[\u001b[49m\u001b[33;43m\"\u001b[39;49m\u001b[33;43mbody\u001b[39;49m\u001b[33;43m\"\u001b[39;49m\u001b[43m]\u001b[49m\u001b[43m,\u001b[49m\n\u001b[32m    141\u001b[39m \u001b[43m    \u001b[49m\u001b[43mpost_params\u001b[49m\u001b[43m=\u001b[49m\u001b[43mparams\u001b[49m\u001b[43m[\u001b[49m\u001b[33;43m\"\u001b[39;49m\u001b[33;43mform\u001b[39;49m\u001b[33;43m\"\u001b[39;49m\u001b[43m]\u001b[49m\u001b[43m,\u001b[49m\n\u001b[32m    142\u001b[39m \u001b[43m    \u001b[49m\u001b[43mfiles\u001b[49m\u001b[43m=\u001b[49m\u001b[43mparams\u001b[49m\u001b[43m[\u001b[49m\u001b[33;43m\"\u001b[39;49m\u001b[33;43mfile\u001b[39;49m\u001b[33;43m\"\u001b[39;49m\u001b[43m]\u001b[49m\u001b[43m,\u001b[49m\n\u001b[32m    143\u001b[39m \u001b[43m    \u001b[49m\u001b[43mresponse_type\u001b[49m\u001b[43m=\u001b[49m\u001b[38;5;28;43mself\u001b[39;49m\u001b[43m.\u001b[49m\u001b[43msettings\u001b[49m\u001b[43m[\u001b[49m\u001b[33;43m\"\u001b[39;49m\u001b[33;43mresponse_type\u001b[39;49m\u001b[33;43m\"\u001b[39;49m\u001b[43m]\u001b[49m\u001b[43m,\u001b[49m\n\u001b[32m    144\u001b[39m \u001b[43m    \u001b[49m\u001b[43mauth_settings\u001b[49m\u001b[43m=\u001b[49m\u001b[38;5;28;43mself\u001b[39;49m\u001b[43m.\u001b[49m\u001b[43msettings\u001b[49m\u001b[43m[\u001b[49m\u001b[33;43m\"\u001b[39;49m\u001b[33;43mauth\u001b[39;49m\u001b[33;43m\"\u001b[39;49m\u001b[43m]\u001b[49m\u001b[43m,\u001b[49m\n\u001b[32m    145\u001b[39m \u001b[43m    \u001b[49m\u001b[43masync_req\u001b[49m\u001b[43m=\u001b[49m\u001b[43mkwargs\u001b[49m\u001b[43m[\u001b[49m\u001b[33;43m\"\u001b[39;49m\u001b[33;43masync_req\u001b[39;49m\u001b[33;43m\"\u001b[39;49m\u001b[43m]\u001b[49m\u001b[43m,\u001b[49m\n\u001b[32m    146\u001b[39m \u001b[43m    \u001b[49m\u001b[43masync_threadpool_executor\u001b[49m\u001b[43m=\u001b[49m\u001b[43mkwargs\u001b[49m\u001b[43m.\u001b[49m\u001b[43mget\u001b[49m\u001b[43m(\u001b[49m\u001b[33;43m\"\u001b[39;49m\u001b[33;43masync_threadpool_executor\u001b[39;49m\u001b[33;43m\"\u001b[39;49m\u001b[43m,\u001b[49m\u001b[43m \u001b[49m\u001b[38;5;28;43;01mNone\u001b[39;49;00m\u001b[43m)\u001b[49m\u001b[43m,\u001b[49m\n\u001b[32m    147\u001b[39m \u001b[43m    \u001b[49m\u001b[43m_check_type\u001b[49m\u001b[43m=\u001b[49m\u001b[43mkwargs\u001b[49m\u001b[43m[\u001b[49m\u001b[33;43m\"\u001b[39;49m\u001b[33;43m_check_return_type\u001b[39;49m\u001b[33;43m\"\u001b[39;49m\u001b[43m]\u001b[49m\u001b[43m,\u001b[49m\n\u001b[32m    148\u001b[39m \u001b[43m    \u001b[49m\u001b[43m_return_http_data_only\u001b[49m\u001b[43m=\u001b[49m\u001b[43mkwargs\u001b[49m\u001b[43m[\u001b[49m\u001b[33;43m\"\u001b[39;49m\u001b[33;43m_return_http_data_only\u001b[39;49m\u001b[33;43m\"\u001b[39;49m\u001b[43m]\u001b[49m\u001b[43m,\u001b[49m\n\u001b[32m    149\u001b[39m \u001b[43m    \u001b[49m\u001b[43m_preload_content\u001b[49m\u001b[43m=\u001b[49m\u001b[43mkwargs\u001b[49m\u001b[43m[\u001b[49m\u001b[33;43m\"\u001b[39;49m\u001b[33;43m_preload_content\u001b[39;49m\u001b[33;43m\"\u001b[39;49m\u001b[43m]\u001b[49m\u001b[43m,\u001b[49m\n\u001b[32m    150\u001b[39m \u001b[43m    \u001b[49m\u001b[43m_request_timeout\u001b[49m\u001b[43m=\u001b[49m\u001b[43mkwargs\u001b[49m\u001b[43m[\u001b[49m\u001b[33;43m\"\u001b[39;49m\u001b[33;43m_request_timeout\u001b[39;49m\u001b[33;43m\"\u001b[39;49m\u001b[43m]\u001b[49m\u001b[43m,\u001b[49m\n\u001b[32m    151\u001b[39m \u001b[43m    \u001b[49m\u001b[43m_host\u001b[49m\u001b[43m=\u001b[49m\u001b[43m_host\u001b[49m\u001b[43m,\u001b[49m\n\u001b[32m    152\u001b[39m \u001b[43m    \u001b[49m\u001b[43mcollection_formats\u001b[49m\u001b[43m=\u001b[49m\u001b[43mparams\u001b[49m\u001b[43m[\u001b[49m\u001b[33;43m\"\u001b[39;49m\u001b[33;43mcollection_format\u001b[39;49m\u001b[33;43m\"\u001b[39;49m\u001b[43m]\u001b[49m\u001b[43m,\u001b[49m\n\u001b[32m    153\u001b[39m \u001b[43m\u001b[49m\u001b[43m)\u001b[49m\n",
      "\u001b[36mFile \u001b[39m\u001b[32m~/miniconda3/envs/myenv/lib/python3.11/site-packages/pinecone/openapi_support/api_client.py:306\u001b[39m, in \u001b[36mApiClient.call_api\u001b[39m\u001b[34m(self, resource_path, method, path_params, query_params, header_params, body, post_params, files, response_type, auth_settings, async_req, async_threadpool_executor, _return_http_data_only, collection_formats, _preload_content, _request_timeout, _host, _check_type)\u001b[39m\n\u001b[32m    305\u001b[39m \u001b[38;5;28;01mif\u001b[39;00m \u001b[38;5;129;01mnot\u001b[39;00m async_req:\n\u001b[32m--> \u001b[39m\u001b[32m306\u001b[39m     \u001b[38;5;28;01mreturn\u001b[39;00m \u001b[38;5;28;43mself\u001b[39;49m\u001b[43m.\u001b[49m\u001b[43m__call_api\u001b[49m\u001b[43m(\u001b[49m\n\u001b[32m    307\u001b[39m \u001b[43m        \u001b[49m\u001b[43mresource_path\u001b[49m\u001b[43m,\u001b[49m\n\u001b[32m    308\u001b[39m \u001b[43m        \u001b[49m\u001b[43mmethod\u001b[49m\u001b[43m,\u001b[49m\n\u001b[32m    309\u001b[39m \u001b[43m        \u001b[49m\u001b[43mpath_params\u001b[49m\u001b[43m,\u001b[49m\n\u001b[32m    310\u001b[39m \u001b[43m        \u001b[49m\u001b[43mquery_params\u001b[49m\u001b[43m,\u001b[49m\n\u001b[32m    311\u001b[39m \u001b[43m        \u001b[49m\u001b[43mheader_params\u001b[49m\u001b[43m,\u001b[49m\n\u001b[32m    312\u001b[39m \u001b[43m        \u001b[49m\u001b[43mbody\u001b[49m\u001b[43m,\u001b[49m\n\u001b[32m    313\u001b[39m \u001b[43m        \u001b[49m\u001b[43mpost_params\u001b[49m\u001b[43m,\u001b[49m\n\u001b[32m    314\u001b[39m \u001b[43m        \u001b[49m\u001b[43mfiles\u001b[49m\u001b[43m,\u001b[49m\n\u001b[32m    315\u001b[39m \u001b[43m        \u001b[49m\u001b[43mresponse_type\u001b[49m\u001b[43m,\u001b[49m\n\u001b[32m    316\u001b[39m \u001b[43m        \u001b[49m\u001b[43mauth_settings\u001b[49m\u001b[43m,\u001b[49m\n\u001b[32m    317\u001b[39m \u001b[43m        \u001b[49m\u001b[43m_return_http_data_only\u001b[49m\u001b[43m,\u001b[49m\n\u001b[32m    318\u001b[39m \u001b[43m        \u001b[49m\u001b[43mcollection_formats\u001b[49m\u001b[43m,\u001b[49m\n\u001b[32m    319\u001b[39m \u001b[43m        \u001b[49m\u001b[43m_preload_content\u001b[49m\u001b[43m,\u001b[49m\n\u001b[32m    320\u001b[39m \u001b[43m        \u001b[49m\u001b[43m_request_timeout\u001b[49m\u001b[43m,\u001b[49m\n\u001b[32m    321\u001b[39m \u001b[43m        \u001b[49m\u001b[43m_host\u001b[49m\u001b[43m,\u001b[49m\n\u001b[32m    322\u001b[39m \u001b[43m        \u001b[49m\u001b[43m_check_type\u001b[49m\u001b[43m,\u001b[49m\n\u001b[32m    323\u001b[39m \u001b[43m    \u001b[49m\u001b[43m)\u001b[49m\n\u001b[32m    325\u001b[39m \u001b[38;5;28;01mreturn\u001b[39;00m \u001b[38;5;28mself\u001b[39m.pool.apply_async(\n\u001b[32m    326\u001b[39m     \u001b[38;5;28mself\u001b[39m.__call_api,\n\u001b[32m    327\u001b[39m     (\n\u001b[32m   (...)\u001b[39m\u001b[32m    344\u001b[39m     ),\n\u001b[32m    345\u001b[39m )\n",
      "\u001b[36mFile \u001b[39m\u001b[32m~/miniconda3/envs/myenv/lib/python3.11/site-packages/pinecone/openapi_support/api_client.py:182\u001b[39m, in \u001b[36mApiClient.__call_api\u001b[39m\u001b[34m(self, resource_path, method, path_params, query_params, header_params, body, post_params, files, response_type, auth_settings, _return_http_data_only, collection_formats, _preload_content, _request_timeout, _host, _check_type)\u001b[39m\n\u001b[32m    181\u001b[39m     e.body = e.body.decode(\u001b[33m\"\u001b[39m\u001b[33mutf-8\u001b[39m\u001b[33m\"\u001b[39m)\n\u001b[32m--> \u001b[39m\u001b[32m182\u001b[39m     \u001b[38;5;28;01mraise\u001b[39;00m e\n\u001b[32m    184\u001b[39m \u001b[38;5;28mself\u001b[39m.last_response = response_data\n",
      "\u001b[36mFile \u001b[39m\u001b[32m~/miniconda3/envs/myenv/lib/python3.11/site-packages/pinecone/openapi_support/api_client.py:170\u001b[39m, in \u001b[36mApiClient.__call_api\u001b[39m\u001b[34m(self, resource_path, method, path_params, query_params, header_params, body, post_params, files, response_type, auth_settings, _return_http_data_only, collection_formats, _preload_content, _request_timeout, _host, _check_type)\u001b[39m\n\u001b[32m    168\u001b[39m \u001b[38;5;28;01mtry\u001b[39;00m:\n\u001b[32m    169\u001b[39m     \u001b[38;5;66;03m# perform request and return response\u001b[39;00m\n\u001b[32m--> \u001b[39m\u001b[32m170\u001b[39m     response_data = \u001b[38;5;28;43mself\u001b[39;49m\u001b[43m.\u001b[49m\u001b[43mrequest\u001b[49m\u001b[43m(\u001b[49m\n\u001b[32m    171\u001b[39m \u001b[43m        \u001b[49m\u001b[43mmethod\u001b[49m\u001b[43m,\u001b[49m\n\u001b[32m    172\u001b[39m \u001b[43m        \u001b[49m\u001b[43murl\u001b[49m\u001b[43m,\u001b[49m\n\u001b[32m    173\u001b[39m \u001b[43m        \u001b[49m\u001b[43mquery_params\u001b[49m\u001b[43m=\u001b[49m\u001b[43mprocessed_query_params\u001b[49m\u001b[43m,\u001b[49m\n\u001b[32m    174\u001b[39m \u001b[43m        \u001b[49m\u001b[43mheaders\u001b[49m\u001b[43m=\u001b[49m\u001b[43mheaders_tuple\u001b[49m\u001b[43m,\u001b[49m\n\u001b[32m    175\u001b[39m \u001b[43m        \u001b[49m\u001b[43mpost_params\u001b[49m\u001b[43m=\u001b[49m\u001b[43mprocessed_post_params\u001b[49m\u001b[43m,\u001b[49m\n\u001b[32m    176\u001b[39m \u001b[43m        \u001b[49m\u001b[43mbody\u001b[49m\u001b[43m=\u001b[49m\u001b[43mbody\u001b[49m\u001b[43m,\u001b[49m\n\u001b[32m    177\u001b[39m \u001b[43m        \u001b[49m\u001b[43m_preload_content\u001b[49m\u001b[43m=\u001b[49m\u001b[43m_preload_content\u001b[49m\u001b[43m,\u001b[49m\n\u001b[32m    178\u001b[39m \u001b[43m        \u001b[49m\u001b[43m_request_timeout\u001b[49m\u001b[43m=\u001b[49m\u001b[43m_request_timeout\u001b[49m\u001b[43m,\u001b[49m\n\u001b[32m    179\u001b[39m \u001b[43m    \u001b[49m\u001b[43m)\u001b[49m\n\u001b[32m    180\u001b[39m \u001b[38;5;28;01mexcept\u001b[39;00m PineconeApiException \u001b[38;5;28;01mas\u001b[39;00m e:\n",
      "\u001b[36mFile \u001b[39m\u001b[32m~/miniconda3/envs/myenv/lib/python3.11/site-packages/pinecone/openapi_support/api_client.py:386\u001b[39m, in \u001b[36mApiClient.request\u001b[39m\u001b[34m(self, method, url, query_params, headers, post_params, body, _preload_content, _request_timeout)\u001b[39m\n\u001b[32m    385\u001b[39m \u001b[38;5;28;01melif\u001b[39;00m method == \u001b[33m\"\u001b[39m\u001b[33mPOST\u001b[39m\u001b[33m\"\u001b[39m:\n\u001b[32m--> \u001b[39m\u001b[32m386\u001b[39m     \u001b[38;5;28;01mreturn\u001b[39;00m \u001b[38;5;28;43mself\u001b[39;49m\u001b[43m.\u001b[49m\u001b[43mrest_client\u001b[49m\u001b[43m.\u001b[49m\u001b[43mPOST\u001b[49m\u001b[43m(\u001b[49m\n\u001b[32m    387\u001b[39m \u001b[43m        \u001b[49m\u001b[43murl\u001b[49m\u001b[43m,\u001b[49m\n\u001b[32m    388\u001b[39m \u001b[43m        \u001b[49m\u001b[43mquery_params\u001b[49m\u001b[43m=\u001b[49m\u001b[43mquery_params\u001b[49m\u001b[43m,\u001b[49m\n\u001b[32m    389\u001b[39m \u001b[43m        \u001b[49m\u001b[43mheaders\u001b[49m\u001b[43m=\u001b[49m\u001b[43mheaders\u001b[49m\u001b[43m,\u001b[49m\n\u001b[32m    390\u001b[39m \u001b[43m        \u001b[49m\u001b[43mpost_params\u001b[49m\u001b[43m=\u001b[49m\u001b[43mpost_params\u001b[49m\u001b[43m,\u001b[49m\n\u001b[32m    391\u001b[39m \u001b[43m        \u001b[49m\u001b[43m_preload_content\u001b[49m\u001b[43m=\u001b[49m\u001b[43m_preload_content\u001b[49m\u001b[43m,\u001b[49m\n\u001b[32m    392\u001b[39m \u001b[43m        \u001b[49m\u001b[43m_request_timeout\u001b[49m\u001b[43m=\u001b[49m\u001b[43m_request_timeout\u001b[49m\u001b[43m,\u001b[49m\n\u001b[32m    393\u001b[39m \u001b[43m        \u001b[49m\u001b[43mbody\u001b[49m\u001b[43m=\u001b[49m\u001b[43mbody\u001b[49m\u001b[43m,\u001b[49m\n\u001b[32m    394\u001b[39m \u001b[43m    \u001b[49m\u001b[43m)\u001b[49m\n\u001b[32m    395\u001b[39m \u001b[38;5;28;01melif\u001b[39;00m method == \u001b[33m\"\u001b[39m\u001b[33mPUT\u001b[39m\u001b[33m\"\u001b[39m:\n",
      "\u001b[36mFile \u001b[39m\u001b[32m~/miniconda3/envs/myenv/lib/python3.11/site-packages/pinecone/openapi_support/rest_utils.py:146\u001b[39m, in \u001b[36mRestClientInterface.POST\u001b[39m\u001b[34m(self, url, headers, query_params, post_params, body, _preload_content, _request_timeout)\u001b[39m\n\u001b[32m    136\u001b[39m \u001b[38;5;28;01mdef\u001b[39;00m\u001b[38;5;250m \u001b[39m\u001b[34mPOST\u001b[39m(\n\u001b[32m    137\u001b[39m     \u001b[38;5;28mself\u001b[39m,\n\u001b[32m    138\u001b[39m     url,\n\u001b[32m   (...)\u001b[39m\u001b[32m    144\u001b[39m     _request_timeout=\u001b[38;5;28;01mNone\u001b[39;00m,\n\u001b[32m    145\u001b[39m ):\n\u001b[32m--> \u001b[39m\u001b[32m146\u001b[39m     \u001b[38;5;28;01mreturn\u001b[39;00m \u001b[38;5;28;43mself\u001b[39;49m\u001b[43m.\u001b[49m\u001b[43mrequest\u001b[49m\u001b[43m(\u001b[49m\n\u001b[32m    147\u001b[39m \u001b[43m        \u001b[49m\u001b[33;43m\"\u001b[39;49m\u001b[33;43mPOST\u001b[39;49m\u001b[33;43m\"\u001b[39;49m\u001b[43m,\u001b[49m\n\u001b[32m    148\u001b[39m \u001b[43m        \u001b[49m\u001b[43murl\u001b[49m\u001b[43m,\u001b[49m\n\u001b[32m    149\u001b[39m \u001b[43m        \u001b[49m\u001b[43mheaders\u001b[49m\u001b[43m=\u001b[49m\u001b[43mheaders\u001b[49m\u001b[43m,\u001b[49m\n\u001b[32m    150\u001b[39m \u001b[43m        \u001b[49m\u001b[43mquery_params\u001b[49m\u001b[43m=\u001b[49m\u001b[43mquery_params\u001b[49m\u001b[43m,\u001b[49m\n\u001b[32m    151\u001b[39m \u001b[43m        \u001b[49m\u001b[43mpost_params\u001b[49m\u001b[43m=\u001b[49m\u001b[43mpost_params\u001b[49m\u001b[43m,\u001b[49m\n\u001b[32m    152\u001b[39m \u001b[43m        \u001b[49m\u001b[43m_preload_content\u001b[49m\u001b[43m=\u001b[49m\u001b[43m_preload_content\u001b[49m\u001b[43m,\u001b[49m\n\u001b[32m    153\u001b[39m \u001b[43m        \u001b[49m\u001b[43m_request_timeout\u001b[49m\u001b[43m=\u001b[49m\u001b[43m_request_timeout\u001b[49m\u001b[43m,\u001b[49m\n\u001b[32m    154\u001b[39m \u001b[43m        \u001b[49m\u001b[43mbody\u001b[49m\u001b[43m=\u001b[49m\u001b[43mbody\u001b[49m\u001b[43m,\u001b[49m\n\u001b[32m    155\u001b[39m \u001b[43m    \u001b[49m\u001b[43m)\u001b[49m\n",
      "\u001b[36mFile \u001b[39m\u001b[32m~/miniconda3/envs/myenv/lib/python3.11/site-packages/pinecone/openapi_support/rest_urllib3.py:267\u001b[39m, in \u001b[36mUrllib3RestClient.request\u001b[39m\u001b[34m(self, method, url, query_params, headers, body, post_params, _preload_content, _request_timeout)\u001b[39m\n\u001b[32m    265\u001b[39m     logger.debug(\u001b[33m\"\u001b[39m\u001b[33mresponse body: \u001b[39m\u001b[38;5;132;01m%s\u001b[39;00m\u001b[33m\"\u001b[39m, r.data)\n\u001b[32m--> \u001b[39m\u001b[32m267\u001b[39m \u001b[38;5;28;01mreturn\u001b[39;00m \u001b[43mraise_exceptions_or_return\u001b[49m\u001b[43m(\u001b[49m\u001b[43mr\u001b[49m\u001b[43m)\u001b[49m\n",
      "\u001b[36mFile \u001b[39m\u001b[32m~/miniconda3/envs/myenv/lib/python3.11/site-packages/pinecone/openapi_support/rest_utils.py:38\u001b[39m, in \u001b[36mraise_exceptions_or_return\u001b[39m\u001b[34m(r)\u001b[39m\n\u001b[32m     37\u001b[39m \u001b[38;5;28;01mif\u001b[39;00m r.status == \u001b[32m401\u001b[39m:\n\u001b[32m---> \u001b[39m\u001b[32m38\u001b[39m     \u001b[38;5;28;01mraise\u001b[39;00m UnauthorizedException(http_resp=r)\n\u001b[32m     40\u001b[39m \u001b[38;5;28;01mif\u001b[39;00m r.status == \u001b[32m403\u001b[39m:\n",
      "\u001b[31mUnauthorizedException\u001b[39m: (401)\nReason: Unauthorized\nHTTP response headers: HTTPHeaderDict({'Date': 'Sat, 23 Aug 2025 04:32:29 GMT', 'Content-Type': 'text/plain', 'Content-Length': '12', 'Connection': 'keep-alive', 'x-pinecone-auth-rejected-reason': 'Malformed domain', 'www-authenticate': 'Malformed domain', 'server': 'envoy'})\nHTTP response body: Unauthorized\n",
      "\nThe above exception was the direct cause of the following exception:\n",
      "\u001b[31mUnauthorizedException\u001b[39m                     Traceback (most recent call last)",
      "    \u001b[31m[... skipping hidden 1 frame]\u001b[39m\n",
      "\u001b[36mCell\u001b[39m\u001b[36m \u001b[39m\u001b[32mIn[17]\u001b[39m\u001b[32m, line 9\u001b[39m\n\u001b[32m      7\u001b[39m     \u001b[38;5;28;01mbreak\u001b[39;00m\n\u001b[32m----> \u001b[39m\u001b[32m9\u001b[39m result = \u001b[43mqa_chain\u001b[49m\u001b[43m(\u001b[49m\u001b[43m{\u001b[49m\u001b[33;43m\"\u001b[39;49m\u001b[33;43mquestion\u001b[39;49m\u001b[33;43m\"\u001b[39;49m\u001b[43m:\u001b[49m\u001b[43m \u001b[49m\u001b[43mquery\u001b[49m\u001b[43m,\u001b[49m\u001b[43m \u001b[49m\u001b[33;43m\"\u001b[39;49m\u001b[33;43mchat_history\u001b[39;49m\u001b[33;43m\"\u001b[39;49m\u001b[43m:\u001b[49m\u001b[43m \u001b[49m\u001b[43mchat_history\u001b[49m\u001b[43m}\u001b[49m\u001b[43m)\u001b[49m\n\u001b[32m     11\u001b[39m \u001b[38;5;66;03m# Rerank the retrieved documents\u001b[39;00m\n",
      "\u001b[36mFile \u001b[39m\u001b[32m~/miniconda3/envs/myenv/lib/python3.11/site-packages/langchain_core/_api/deprecation.py:189\u001b[39m, in \u001b[36mdeprecated.<locals>.deprecate.<locals>.warning_emitting_wrapper\u001b[39m\u001b[34m(*args, **kwargs)\u001b[39m\n\u001b[32m    188\u001b[39m     emit_warning()\n\u001b[32m--> \u001b[39m\u001b[32m189\u001b[39m \u001b[38;5;28;01mreturn\u001b[39;00m \u001b[43mwrapped\u001b[49m\u001b[43m(\u001b[49m\u001b[43m*\u001b[49m\u001b[43margs\u001b[49m\u001b[43m,\u001b[49m\u001b[43m \u001b[49m\u001b[43m*\u001b[49m\u001b[43m*\u001b[49m\u001b[43mkwargs\u001b[49m\u001b[43m)\u001b[49m\n",
      "\u001b[36mFile \u001b[39m\u001b[32m~/miniconda3/envs/myenv/lib/python3.11/site-packages/langchain/chains/base.py:410\u001b[39m, in \u001b[36mChain.__call__\u001b[39m\u001b[34m(self, inputs, return_only_outputs, callbacks, tags, metadata, run_name, include_run_info)\u001b[39m\n\u001b[32m    403\u001b[39m config = {\n\u001b[32m    404\u001b[39m     \u001b[33m\"\u001b[39m\u001b[33mcallbacks\u001b[39m\u001b[33m\"\u001b[39m: callbacks,\n\u001b[32m    405\u001b[39m     \u001b[33m\"\u001b[39m\u001b[33mtags\u001b[39m\u001b[33m\"\u001b[39m: tags,\n\u001b[32m    406\u001b[39m     \u001b[33m\"\u001b[39m\u001b[33mmetadata\u001b[39m\u001b[33m\"\u001b[39m: metadata,\n\u001b[32m    407\u001b[39m     \u001b[33m\"\u001b[39m\u001b[33mrun_name\u001b[39m\u001b[33m\"\u001b[39m: run_name,\n\u001b[32m    408\u001b[39m }\n\u001b[32m--> \u001b[39m\u001b[32m410\u001b[39m \u001b[38;5;28;01mreturn\u001b[39;00m \u001b[38;5;28;43mself\u001b[39;49m\u001b[43m.\u001b[49m\u001b[43minvoke\u001b[49m\u001b[43m(\u001b[49m\n\u001b[32m    411\u001b[39m \u001b[43m    \u001b[49m\u001b[43minputs\u001b[49m\u001b[43m,\u001b[49m\n\u001b[32m    412\u001b[39m \u001b[43m    \u001b[49m\u001b[43mcast\u001b[49m\u001b[43m(\u001b[49m\u001b[43mRunnableConfig\u001b[49m\u001b[43m,\u001b[49m\u001b[43m \u001b[49m\u001b[43m{\u001b[49m\u001b[43mk\u001b[49m\u001b[43m:\u001b[49m\u001b[43m \u001b[49m\u001b[43mv\u001b[49m\u001b[43m \u001b[49m\u001b[38;5;28;43;01mfor\u001b[39;49;00m\u001b[43m \u001b[49m\u001b[43mk\u001b[49m\u001b[43m,\u001b[49m\u001b[43m \u001b[49m\u001b[43mv\u001b[49m\u001b[43m \u001b[49m\u001b[38;5;129;43;01min\u001b[39;49;00m\u001b[43m \u001b[49m\u001b[43mconfig\u001b[49m\u001b[43m.\u001b[49m\u001b[43mitems\u001b[49m\u001b[43m(\u001b[49m\u001b[43m)\u001b[49m\u001b[43m \u001b[49m\u001b[38;5;28;43;01mif\u001b[39;49;00m\u001b[43m \u001b[49m\u001b[43mv\u001b[49m\u001b[43m \u001b[49m\u001b[38;5;129;43;01mis\u001b[39;49;00m\u001b[43m \u001b[49m\u001b[38;5;129;43;01mnot\u001b[39;49;00m\u001b[43m \u001b[49m\u001b[38;5;28;43;01mNone\u001b[39;49;00m\u001b[43m}\u001b[49m\u001b[43m)\u001b[49m\u001b[43m,\u001b[49m\n\u001b[32m    413\u001b[39m \u001b[43m    \u001b[49m\u001b[43mreturn_only_outputs\u001b[49m\u001b[43m=\u001b[49m\u001b[43mreturn_only_outputs\u001b[49m\u001b[43m,\u001b[49m\n\u001b[32m    414\u001b[39m \u001b[43m    \u001b[49m\u001b[43minclude_run_info\u001b[49m\u001b[43m=\u001b[49m\u001b[43minclude_run_info\u001b[49m\u001b[43m,\u001b[49m\n\u001b[32m    415\u001b[39m \u001b[43m\u001b[49m\u001b[43m)\u001b[49m\n",
      "\u001b[36mFile \u001b[39m\u001b[32m~/miniconda3/envs/myenv/lib/python3.11/site-packages/langchain/chains/base.py:165\u001b[39m, in \u001b[36mChain.invoke\u001b[39m\u001b[34m(self, input, config, **kwargs)\u001b[39m\n\u001b[32m    163\u001b[39m \u001b[38;5;28mself\u001b[39m._validate_inputs(inputs)\n\u001b[32m    164\u001b[39m outputs = (\n\u001b[32m--> \u001b[39m\u001b[32m165\u001b[39m     \u001b[38;5;28;43mself\u001b[39;49m\u001b[43m.\u001b[49m\u001b[43m_call\u001b[49m\u001b[43m(\u001b[49m\u001b[43minputs\u001b[49m\u001b[43m,\u001b[49m\u001b[43m \u001b[49m\u001b[43mrun_manager\u001b[49m\u001b[43m=\u001b[49m\u001b[43mrun_manager\u001b[49m\u001b[43m)\u001b[49m\n\u001b[32m    166\u001b[39m     \u001b[38;5;28;01mif\u001b[39;00m new_arg_supported\n\u001b[32m    167\u001b[39m     \u001b[38;5;28;01melse\u001b[39;00m \u001b[38;5;28mself\u001b[39m._call(inputs)\n\u001b[32m    168\u001b[39m )\n\u001b[32m    170\u001b[39m final_outputs: \u001b[38;5;28mdict\u001b[39m[\u001b[38;5;28mstr\u001b[39m, Any] = \u001b[38;5;28mself\u001b[39m.prep_outputs(\n\u001b[32m    171\u001b[39m     inputs,\n\u001b[32m    172\u001b[39m     outputs,\n\u001b[32m    173\u001b[39m     return_only_outputs,\n\u001b[32m    174\u001b[39m )\n",
      "\u001b[36mFile \u001b[39m\u001b[32m~/miniconda3/envs/myenv/lib/python3.11/site-packages/langchain/chains/conversational_retrieval/base.py:164\u001b[39m, in \u001b[36mBaseConversationalRetrievalChain._call\u001b[39m\u001b[34m(self, inputs, run_manager)\u001b[39m\n\u001b[32m    163\u001b[39m \u001b[38;5;28;01mif\u001b[39;00m accepts_run_manager:\n\u001b[32m--> \u001b[39m\u001b[32m164\u001b[39m     docs = \u001b[38;5;28;43mself\u001b[39;49m\u001b[43m.\u001b[49m\u001b[43m_get_docs\u001b[49m\u001b[43m(\u001b[49m\u001b[43mnew_question\u001b[49m\u001b[43m,\u001b[49m\u001b[43m \u001b[49m\u001b[43minputs\u001b[49m\u001b[43m,\u001b[49m\u001b[43m \u001b[49m\u001b[43mrun_manager\u001b[49m\u001b[43m=\u001b[49m\u001b[43m_run_manager\u001b[49m\u001b[43m)\u001b[49m\n\u001b[32m    165\u001b[39m \u001b[38;5;28;01melse\u001b[39;00m:\n",
      "\u001b[36mFile \u001b[39m\u001b[32m~/miniconda3/envs/myenv/lib/python3.11/site-packages/langchain/chains/conversational_retrieval/base.py:409\u001b[39m, in \u001b[36mConversationalRetrievalChain._get_docs\u001b[39m\u001b[34m(self, question, inputs, run_manager)\u001b[39m\n\u001b[32m    408\u001b[39m \u001b[38;5;250m\u001b[39m\u001b[33;03m\"\"\"Get docs.\"\"\"\u001b[39;00m\n\u001b[32m--> \u001b[39m\u001b[32m409\u001b[39m docs = \u001b[38;5;28;43mself\u001b[39;49m\u001b[43m.\u001b[49m\u001b[43mretriever\u001b[49m\u001b[43m.\u001b[49m\u001b[43minvoke\u001b[49m\u001b[43m(\u001b[49m\n\u001b[32m    410\u001b[39m \u001b[43m    \u001b[49m\u001b[43mquestion\u001b[49m\u001b[43m,\u001b[49m\n\u001b[32m    411\u001b[39m \u001b[43m    \u001b[49m\u001b[43mconfig\u001b[49m\u001b[43m=\u001b[49m\u001b[43m{\u001b[49m\u001b[33;43m\"\u001b[39;49m\u001b[33;43mcallbacks\u001b[39;49m\u001b[33;43m\"\u001b[39;49m\u001b[43m:\u001b[49m\u001b[43m \u001b[49m\u001b[43mrun_manager\u001b[49m\u001b[43m.\u001b[49m\u001b[43mget_child\u001b[49m\u001b[43m(\u001b[49m\u001b[43m)\u001b[49m\u001b[43m}\u001b[49m\u001b[43m,\u001b[49m\n\u001b[32m    412\u001b[39m \u001b[43m\u001b[49m\u001b[43m)\u001b[49m\n\u001b[32m    413\u001b[39m \u001b[38;5;28;01mreturn\u001b[39;00m \u001b[38;5;28mself\u001b[39m._reduce_tokens_below_limit(docs)\n",
      "\u001b[36mFile \u001b[39m\u001b[32m~/miniconda3/envs/myenv/lib/python3.11/site-packages/langchain_core/retrievers.py:259\u001b[39m, in \u001b[36mBaseRetriever.invoke\u001b[39m\u001b[34m(self, input, config, **kwargs)\u001b[39m\n\u001b[32m    258\u001b[39m \u001b[38;5;28;01mif\u001b[39;00m \u001b[38;5;28mself\u001b[39m._new_arg_supported:\n\u001b[32m--> \u001b[39m\u001b[32m259\u001b[39m     result = \u001b[38;5;28;43mself\u001b[39;49m\u001b[43m.\u001b[49m\u001b[43m_get_relevant_documents\u001b[49m\u001b[43m(\u001b[49m\n\u001b[32m    260\u001b[39m \u001b[43m        \u001b[49m\u001b[38;5;28;43minput\u001b[39;49m\u001b[43m,\u001b[49m\u001b[43m \u001b[49m\u001b[43mrun_manager\u001b[49m\u001b[43m=\u001b[49m\u001b[43mrun_manager\u001b[49m\u001b[43m,\u001b[49m\u001b[43m \u001b[49m\u001b[43m*\u001b[49m\u001b[43m*\u001b[49m\u001b[43mkwargs_\u001b[49m\n\u001b[32m    261\u001b[39m \u001b[43m    \u001b[49m\u001b[43m)\u001b[49m\n\u001b[32m    262\u001b[39m \u001b[38;5;28;01melse\u001b[39;00m:\n",
      "\u001b[36mFile \u001b[39m\u001b[32m~/miniconda3/envs/myenv/lib/python3.11/site-packages/langchain_community/retrievers/pinecone_hybrid_search.py:169\u001b[39m, in \u001b[36mPineconeHybridSearchRetriever._get_relevant_documents\u001b[39m\u001b[34m(self, query, run_manager, **kwargs)\u001b[39m\n\u001b[32m    168\u001b[39m \u001b[38;5;66;03m# query pinecone with the query parameters\u001b[39;00m\n\u001b[32m--> \u001b[39m\u001b[32m169\u001b[39m result = \u001b[38;5;28;43mself\u001b[39;49m\u001b[43m.\u001b[49m\u001b[43mindex\u001b[49m\u001b[43m.\u001b[49m\u001b[43mquery\u001b[49m\u001b[43m(\u001b[49m\n\u001b[32m    170\u001b[39m \u001b[43m    \u001b[49m\u001b[43mvector\u001b[49m\u001b[43m=\u001b[49m\u001b[43mdense_vec\u001b[49m\u001b[43m,\u001b[49m\n\u001b[32m    171\u001b[39m \u001b[43m    \u001b[49m\u001b[43msparse_vector\u001b[49m\u001b[43m=\u001b[49m\u001b[43msparse_vec\u001b[49m\u001b[43m,\u001b[49m\n\u001b[32m    172\u001b[39m \u001b[43m    \u001b[49m\u001b[43mtop_k\u001b[49m\u001b[43m=\u001b[49m\u001b[38;5;28;43mself\u001b[39;49m\u001b[43m.\u001b[49m\u001b[43mtop_k\u001b[49m\u001b[43m,\u001b[49m\n\u001b[32m    173\u001b[39m \u001b[43m    \u001b[49m\u001b[43minclude_metadata\u001b[49m\u001b[43m=\u001b[49m\u001b[38;5;28;43;01mTrue\u001b[39;49;00m\u001b[43m,\u001b[49m\n\u001b[32m    174\u001b[39m \u001b[43m    \u001b[49m\u001b[43mnamespace\u001b[49m\u001b[43m=\u001b[49m\u001b[38;5;28;43mself\u001b[39;49m\u001b[43m.\u001b[49m\u001b[43mnamespace\u001b[49m\u001b[43m,\u001b[49m\n\u001b[32m    175\u001b[39m \u001b[43m    \u001b[49m\u001b[43m*\u001b[49m\u001b[43m*\u001b[49m\u001b[43mkwargs\u001b[49m\u001b[43m,\u001b[49m\n\u001b[32m    176\u001b[39m \u001b[43m\u001b[49m\u001b[43m)\u001b[49m\n\u001b[32m    177\u001b[39m final_result = []\n",
      "\u001b[36mFile \u001b[39m\u001b[32m~/miniconda3/envs/myenv/lib/python3.11/site-packages/pinecone/utils/error_handling.py:30\u001b[39m, in \u001b[36mvalidate_and_convert_errors.<locals>.inner_func\u001b[39m\u001b[34m(*args, **kwargs)\u001b[39m\n\u001b[32m     29\u001b[39m \u001b[38;5;28;01melse\u001b[39;00m:\n\u001b[32m---> \u001b[39m\u001b[32m30\u001b[39m     \u001b[38;5;28;01mraise\u001b[39;00m e \u001b[38;5;28;01mfrom\u001b[39;00m\u001b[38;5;250m \u001b[39m\u001b[34;01me\u001b[39;00m\n",
      "\u001b[36mFile \u001b[39m\u001b[32m~/miniconda3/envs/myenv/lib/python3.11/site-packages/pinecone/utils/error_handling.py:15\u001b[39m, in \u001b[36mvalidate_and_convert_errors.<locals>.inner_func\u001b[39m\u001b[34m(*args, **kwargs)\u001b[39m\n\u001b[32m     14\u001b[39m \u001b[38;5;28;01mtry\u001b[39;00m:\n\u001b[32m---> \u001b[39m\u001b[32m15\u001b[39m     \u001b[38;5;28;01mreturn\u001b[39;00m \u001b[43mfunc\u001b[49m\u001b[43m(\u001b[49m\u001b[43m*\u001b[49m\u001b[43margs\u001b[49m\u001b[43m,\u001b[49m\u001b[43m \u001b[49m\u001b[43m*\u001b[49m\u001b[43m*\u001b[49m\u001b[43mkwargs\u001b[49m\u001b[43m)\u001b[49m\n\u001b[32m     16\u001b[39m \u001b[38;5;28;01mexcept\u001b[39;00m \u001b[38;5;167;01mException\u001b[39;00m \u001b[38;5;28;01mas\u001b[39;00m e:\n\u001b[32m     17\u001b[39m     \u001b[38;5;66;03m# Lazy import of urllib3 exceptions\u001b[39;00m\n",
      "\u001b[36mFile \u001b[39m\u001b[32m~/miniconda3/envs/myenv/lib/python3.11/site-packages/pinecone/db_data/index.py:345\u001b[39m, in \u001b[36mIndex.query\u001b[39m\u001b[34m(self, top_k, vector, id, namespace, filter, include_values, include_metadata, sparse_vector, *args, **kwargs)\u001b[39m\n\u001b[32m    331\u001b[39m \u001b[38;5;129m@validate_and_convert_errors\u001b[39m\n\u001b[32m    332\u001b[39m \u001b[38;5;28;01mdef\u001b[39;00m\u001b[38;5;250m \u001b[39m\u001b[34mquery\u001b[39m(\n\u001b[32m    333\u001b[39m     \u001b[38;5;28mself\u001b[39m,\n\u001b[32m   (...)\u001b[39m\u001b[32m    343\u001b[39m     **kwargs,\n\u001b[32m    344\u001b[39m ) -> Union[QueryResponse, ApplyResult]:\n\u001b[32m--> \u001b[39m\u001b[32m345\u001b[39m     response = \u001b[38;5;28;43mself\u001b[39;49m\u001b[43m.\u001b[49m\u001b[43m_query\u001b[49m\u001b[43m(\u001b[49m\n\u001b[32m    346\u001b[39m \u001b[43m        \u001b[49m\u001b[43m*\u001b[49m\u001b[43margs\u001b[49m\u001b[43m,\u001b[49m\n\u001b[32m    347\u001b[39m \u001b[43m        \u001b[49m\u001b[43mtop_k\u001b[49m\u001b[43m=\u001b[49m\u001b[43mtop_k\u001b[49m\u001b[43m,\u001b[49m\n\u001b[32m    348\u001b[39m \u001b[43m        \u001b[49m\u001b[43mvector\u001b[49m\u001b[43m=\u001b[49m\u001b[43mvector\u001b[49m\u001b[43m,\u001b[49m\n\u001b[32m    349\u001b[39m \u001b[43m        \u001b[49m\u001b[38;5;28;43mid\u001b[39;49m\u001b[43m=\u001b[49m\u001b[38;5;28;43mid\u001b[39;49m\u001b[43m,\u001b[49m\n\u001b[32m    350\u001b[39m \u001b[43m        \u001b[49m\u001b[43mnamespace\u001b[49m\u001b[43m=\u001b[49m\u001b[43mnamespace\u001b[49m\u001b[43m,\u001b[49m\n\u001b[32m    351\u001b[39m \u001b[43m        \u001b[49m\u001b[38;5;28;43mfilter\u001b[39;49m\u001b[43m=\u001b[49m\u001b[38;5;28;43mfilter\u001b[39;49m\u001b[43m,\u001b[49m\n\u001b[32m    352\u001b[39m \u001b[43m        \u001b[49m\u001b[43minclude_values\u001b[49m\u001b[43m=\u001b[49m\u001b[43minclude_values\u001b[49m\u001b[43m,\u001b[49m\n\u001b[32m    353\u001b[39m \u001b[43m        \u001b[49m\u001b[43minclude_metadata\u001b[49m\u001b[43m=\u001b[49m\u001b[43minclude_metadata\u001b[49m\u001b[43m,\u001b[49m\n\u001b[32m    354\u001b[39m \u001b[43m        \u001b[49m\u001b[43msparse_vector\u001b[49m\u001b[43m=\u001b[49m\u001b[43msparse_vector\u001b[49m\u001b[43m,\u001b[49m\n\u001b[32m    355\u001b[39m \u001b[43m        \u001b[49m\u001b[43m*\u001b[49m\u001b[43m*\u001b[49m\u001b[43mkwargs\u001b[49m\u001b[43m,\u001b[49m\n\u001b[32m    356\u001b[39m \u001b[43m    \u001b[49m\u001b[43m)\u001b[49m\n\u001b[32m    358\u001b[39m     \u001b[38;5;28;01mif\u001b[39;00m kwargs.get(\u001b[33m\"\u001b[39m\u001b[33masync_req\u001b[39m\u001b[33m\"\u001b[39m, \u001b[38;5;28;01mFalse\u001b[39;00m) \u001b[38;5;129;01mor\u001b[39;00m kwargs.get(\u001b[33m\"\u001b[39m\u001b[33masync_threadpool_executor\u001b[39m\u001b[33m\"\u001b[39m, \u001b[38;5;28;01mFalse\u001b[39;00m):\n",
      "\u001b[36mFile \u001b[39m\u001b[32m~/miniconda3/envs/myenv/lib/python3.11/site-packages/pinecone/db_data/index.py:395\u001b[39m, in \u001b[36mIndex._query\u001b[39m\u001b[34m(self, top_k, vector, id, namespace, filter, include_values, include_metadata, sparse_vector, *args, **kwargs)\u001b[39m\n\u001b[32m    384\u001b[39m request = IndexRequestFactory.query_request(\n\u001b[32m    385\u001b[39m     top_k=top_k,\n\u001b[32m    386\u001b[39m     vector=vector,\n\u001b[32m   (...)\u001b[39m\u001b[32m    393\u001b[39m     **kwargs,\n\u001b[32m    394\u001b[39m )\n\u001b[32m--> \u001b[39m\u001b[32m395\u001b[39m \u001b[38;5;28;01mreturn\u001b[39;00m \u001b[38;5;28;43mself\u001b[39;49m\u001b[43m.\u001b[49m\u001b[43m_vector_api\u001b[49m\u001b[43m.\u001b[49m\u001b[43mquery_vectors\u001b[49m\u001b[43m(\u001b[49m\u001b[43mrequest\u001b[49m\u001b[43m,\u001b[49m\u001b[43m \u001b[49m\u001b[43m*\u001b[49m\u001b[43m*\u001b[49m\u001b[38;5;28;43mself\u001b[39;49m\u001b[43m.\u001b[49m\u001b[43m_openapi_kwargs\u001b[49m\u001b[43m(\u001b[49m\u001b[43mkwargs\u001b[49m\u001b[43m)\u001b[49m\u001b[43m)\u001b[49m\n",
      "\u001b[36mFile \u001b[39m\u001b[32m~/miniconda3/envs/myenv/lib/python3.11/site-packages/pinecone/openapi_support/endpoint.py:102\u001b[39m, in \u001b[36mEndpoint.__call__\u001b[39m\u001b[34m(self, *args, **kwargs)\u001b[39m\n\u001b[32m     92\u001b[39m \u001b[38;5;250m\u001b[39m\u001b[33;03m\"\"\"This method is invoked when endpoints are called\u001b[39;00m\n\u001b[32m     93\u001b[39m \u001b[33;03mExample:\u001b[39;00m\n\u001b[32m     94\u001b[39m \n\u001b[32m   (...)\u001b[39m\u001b[32m    100\u001b[39m \n\u001b[32m    101\u001b[39m \u001b[33;03m\"\"\"\u001b[39;00m\n\u001b[32m--> \u001b[39m\u001b[32m102\u001b[39m \u001b[38;5;28;01mreturn\u001b[39;00m \u001b[38;5;28;43mself\u001b[39;49m\u001b[43m.\u001b[49m\u001b[43mcallable\u001b[49m\u001b[43m(\u001b[49m\u001b[38;5;28;43mself\u001b[39;49m\u001b[43m,\u001b[49m\u001b[43m \u001b[49m\u001b[43m*\u001b[49m\u001b[43margs\u001b[49m\u001b[43m,\u001b[49m\u001b[43m \u001b[49m\u001b[43m*\u001b[49m\u001b[43m*\u001b[49m\u001b[43mkwargs\u001b[49m\u001b[43m)\u001b[49m\n",
      "\u001b[36mFile \u001b[39m\u001b[32m~/miniconda3/envs/myenv/lib/python3.11/site-packages/pinecone/core/openapi/db_data/api/vector_operations_api.py:388\u001b[39m, in \u001b[36mVectorOperationsApi.__init__.<locals>.__query_vectors\u001b[39m\u001b[34m(self, query_request, **kwargs)\u001b[39m\n\u001b[32m    387\u001b[39m kwargs[\u001b[33m\"\u001b[39m\u001b[33mquery_request\u001b[39m\u001b[33m\"\u001b[39m] = query_request\n\u001b[32m--> \u001b[39m\u001b[32m388\u001b[39m \u001b[38;5;28;01mreturn\u001b[39;00m \u001b[38;5;28;43mself\u001b[39;49m\u001b[43m.\u001b[49m\u001b[43mcall_with_http_info\u001b[49m\u001b[43m(\u001b[49m\u001b[43m*\u001b[49m\u001b[43m*\u001b[49m\u001b[43mkwargs\u001b[49m\u001b[43m)\u001b[49m\n",
      "\u001b[36mFile \u001b[39m\u001b[32m~/miniconda3/envs/myenv/lib/python3.11/site-packages/pinecone/openapi_support/endpoint.py:134\u001b[39m, in \u001b[36mEndpoint.call_with_http_info\u001b[39m\u001b[34m(self, **kwargs)\u001b[39m\n\u001b[32m    132\u001b[39m HeaderUtil.prepare_headers(headers_map=\u001b[38;5;28mself\u001b[39m.headers_map, params=params)\n\u001b[32m--> \u001b[39m\u001b[32m134\u001b[39m \u001b[38;5;28;01mreturn\u001b[39;00m \u001b[38;5;28;43mself\u001b[39;49m\u001b[43m.\u001b[49m\u001b[43mapi_client\u001b[49m\u001b[43m.\u001b[49m\u001b[43mcall_api\u001b[49m\u001b[43m(\u001b[49m\n\u001b[32m    135\u001b[39m \u001b[43m    \u001b[49m\u001b[38;5;28;43mself\u001b[39;49m\u001b[43m.\u001b[49m\u001b[43msettings\u001b[49m\u001b[43m[\u001b[49m\u001b[33;43m\"\u001b[39;49m\u001b[33;43mendpoint_path\u001b[39;49m\u001b[33;43m\"\u001b[39;49m\u001b[43m]\u001b[49m\u001b[43m,\u001b[49m\n\u001b[32m    136\u001b[39m \u001b[43m    \u001b[49m\u001b[38;5;28;43mself\u001b[39;49m\u001b[43m.\u001b[49m\u001b[43msettings\u001b[49m\u001b[43m[\u001b[49m\u001b[33;43m\"\u001b[39;49m\u001b[33;43mhttp_method\u001b[39;49m\u001b[33;43m\"\u001b[39;49m\u001b[43m]\u001b[49m\u001b[43m,\u001b[49m\n\u001b[32m    137\u001b[39m \u001b[43m    \u001b[49m\u001b[43mpath_params\u001b[49m\u001b[43m=\u001b[49m\u001b[43mparams\u001b[49m\u001b[43m[\u001b[49m\u001b[33;43m\"\u001b[39;49m\u001b[33;43mpath\u001b[39;49m\u001b[33;43m\"\u001b[39;49m\u001b[43m]\u001b[49m\u001b[43m,\u001b[49m\n\u001b[32m    138\u001b[39m \u001b[43m    \u001b[49m\u001b[43mquery_params\u001b[49m\u001b[43m=\u001b[49m\u001b[43mparams\u001b[49m\u001b[43m[\u001b[49m\u001b[33;43m\"\u001b[39;49m\u001b[33;43mquery\u001b[39;49m\u001b[33;43m\"\u001b[39;49m\u001b[43m]\u001b[49m\u001b[43m,\u001b[49m\n\u001b[32m    139\u001b[39m \u001b[43m    \u001b[49m\u001b[43mheader_params\u001b[49m\u001b[43m=\u001b[49m\u001b[43mparams\u001b[49m\u001b[43m[\u001b[49m\u001b[33;43m\"\u001b[39;49m\u001b[33;43mheader\u001b[39;49m\u001b[33;43m\"\u001b[39;49m\u001b[43m]\u001b[49m\u001b[43m,\u001b[49m\n\u001b[32m    140\u001b[39m \u001b[43m    \u001b[49m\u001b[43mbody\u001b[49m\u001b[43m=\u001b[49m\u001b[43mparams\u001b[49m\u001b[43m[\u001b[49m\u001b[33;43m\"\u001b[39;49m\u001b[33;43mbody\u001b[39;49m\u001b[33;43m\"\u001b[39;49m\u001b[43m]\u001b[49m\u001b[43m,\u001b[49m\n\u001b[32m    141\u001b[39m \u001b[43m    \u001b[49m\u001b[43mpost_params\u001b[49m\u001b[43m=\u001b[49m\u001b[43mparams\u001b[49m\u001b[43m[\u001b[49m\u001b[33;43m\"\u001b[39;49m\u001b[33;43mform\u001b[39;49m\u001b[33;43m\"\u001b[39;49m\u001b[43m]\u001b[49m\u001b[43m,\u001b[49m\n\u001b[32m    142\u001b[39m \u001b[43m    \u001b[49m\u001b[43mfiles\u001b[49m\u001b[43m=\u001b[49m\u001b[43mparams\u001b[49m\u001b[43m[\u001b[49m\u001b[33;43m\"\u001b[39;49m\u001b[33;43mfile\u001b[39;49m\u001b[33;43m\"\u001b[39;49m\u001b[43m]\u001b[49m\u001b[43m,\u001b[49m\n\u001b[32m    143\u001b[39m \u001b[43m    \u001b[49m\u001b[43mresponse_type\u001b[49m\u001b[43m=\u001b[49m\u001b[38;5;28;43mself\u001b[39;49m\u001b[43m.\u001b[49m\u001b[43msettings\u001b[49m\u001b[43m[\u001b[49m\u001b[33;43m\"\u001b[39;49m\u001b[33;43mresponse_type\u001b[39;49m\u001b[33;43m\"\u001b[39;49m\u001b[43m]\u001b[49m\u001b[43m,\u001b[49m\n\u001b[32m    144\u001b[39m \u001b[43m    \u001b[49m\u001b[43mauth_settings\u001b[49m\u001b[43m=\u001b[49m\u001b[38;5;28;43mself\u001b[39;49m\u001b[43m.\u001b[49m\u001b[43msettings\u001b[49m\u001b[43m[\u001b[49m\u001b[33;43m\"\u001b[39;49m\u001b[33;43mauth\u001b[39;49m\u001b[33;43m\"\u001b[39;49m\u001b[43m]\u001b[49m\u001b[43m,\u001b[49m\n\u001b[32m    145\u001b[39m \u001b[43m    \u001b[49m\u001b[43masync_req\u001b[49m\u001b[43m=\u001b[49m\u001b[43mkwargs\u001b[49m\u001b[43m[\u001b[49m\u001b[33;43m\"\u001b[39;49m\u001b[33;43masync_req\u001b[39;49m\u001b[33;43m\"\u001b[39;49m\u001b[43m]\u001b[49m\u001b[43m,\u001b[49m\n\u001b[32m    146\u001b[39m \u001b[43m    \u001b[49m\u001b[43masync_threadpool_executor\u001b[49m\u001b[43m=\u001b[49m\u001b[43mkwargs\u001b[49m\u001b[43m.\u001b[49m\u001b[43mget\u001b[49m\u001b[43m(\u001b[49m\u001b[33;43m\"\u001b[39;49m\u001b[33;43masync_threadpool_executor\u001b[39;49m\u001b[33;43m\"\u001b[39;49m\u001b[43m,\u001b[49m\u001b[43m \u001b[49m\u001b[38;5;28;43;01mNone\u001b[39;49;00m\u001b[43m)\u001b[49m\u001b[43m,\u001b[49m\n\u001b[32m    147\u001b[39m \u001b[43m    \u001b[49m\u001b[43m_check_type\u001b[49m\u001b[43m=\u001b[49m\u001b[43mkwargs\u001b[49m\u001b[43m[\u001b[49m\u001b[33;43m\"\u001b[39;49m\u001b[33;43m_check_return_type\u001b[39;49m\u001b[33;43m\"\u001b[39;49m\u001b[43m]\u001b[49m\u001b[43m,\u001b[49m\n\u001b[32m    148\u001b[39m \u001b[43m    \u001b[49m\u001b[43m_return_http_data_only\u001b[49m\u001b[43m=\u001b[49m\u001b[43mkwargs\u001b[49m\u001b[43m[\u001b[49m\u001b[33;43m\"\u001b[39;49m\u001b[33;43m_return_http_data_only\u001b[39;49m\u001b[33;43m\"\u001b[39;49m\u001b[43m]\u001b[49m\u001b[43m,\u001b[49m\n\u001b[32m    149\u001b[39m \u001b[43m    \u001b[49m\u001b[43m_preload_content\u001b[49m\u001b[43m=\u001b[49m\u001b[43mkwargs\u001b[49m\u001b[43m[\u001b[49m\u001b[33;43m\"\u001b[39;49m\u001b[33;43m_preload_content\u001b[39;49m\u001b[33;43m\"\u001b[39;49m\u001b[43m]\u001b[49m\u001b[43m,\u001b[49m\n\u001b[32m    150\u001b[39m \u001b[43m    \u001b[49m\u001b[43m_request_timeout\u001b[49m\u001b[43m=\u001b[49m\u001b[43mkwargs\u001b[49m\u001b[43m[\u001b[49m\u001b[33;43m\"\u001b[39;49m\u001b[33;43m_request_timeout\u001b[39;49m\u001b[33;43m\"\u001b[39;49m\u001b[43m]\u001b[49m\u001b[43m,\u001b[49m\n\u001b[32m    151\u001b[39m \u001b[43m    \u001b[49m\u001b[43m_host\u001b[49m\u001b[43m=\u001b[49m\u001b[43m_host\u001b[49m\u001b[43m,\u001b[49m\n\u001b[32m    152\u001b[39m \u001b[43m    \u001b[49m\u001b[43mcollection_formats\u001b[49m\u001b[43m=\u001b[49m\u001b[43mparams\u001b[49m\u001b[43m[\u001b[49m\u001b[33;43m\"\u001b[39;49m\u001b[33;43mcollection_format\u001b[39;49m\u001b[33;43m\"\u001b[39;49m\u001b[43m]\u001b[49m\u001b[43m,\u001b[49m\n\u001b[32m    153\u001b[39m \u001b[43m\u001b[49m\u001b[43m)\u001b[49m\n",
      "\u001b[36mFile \u001b[39m\u001b[32m~/miniconda3/envs/myenv/lib/python3.11/site-packages/pinecone/openapi_support/api_client.py:306\u001b[39m, in \u001b[36mApiClient.call_api\u001b[39m\u001b[34m(self, resource_path, method, path_params, query_params, header_params, body, post_params, files, response_type, auth_settings, async_req, async_threadpool_executor, _return_http_data_only, collection_formats, _preload_content, _request_timeout, _host, _check_type)\u001b[39m\n\u001b[32m    305\u001b[39m \u001b[38;5;28;01mif\u001b[39;00m \u001b[38;5;129;01mnot\u001b[39;00m async_req:\n\u001b[32m--> \u001b[39m\u001b[32m306\u001b[39m     \u001b[38;5;28;01mreturn\u001b[39;00m \u001b[38;5;28;43mself\u001b[39;49m\u001b[43m.\u001b[49m\u001b[43m__call_api\u001b[49m\u001b[43m(\u001b[49m\n\u001b[32m    307\u001b[39m \u001b[43m        \u001b[49m\u001b[43mresource_path\u001b[49m\u001b[43m,\u001b[49m\n\u001b[32m    308\u001b[39m \u001b[43m        \u001b[49m\u001b[43mmethod\u001b[49m\u001b[43m,\u001b[49m\n\u001b[32m    309\u001b[39m \u001b[43m        \u001b[49m\u001b[43mpath_params\u001b[49m\u001b[43m,\u001b[49m\n\u001b[32m    310\u001b[39m \u001b[43m        \u001b[49m\u001b[43mquery_params\u001b[49m\u001b[43m,\u001b[49m\n\u001b[32m    311\u001b[39m \u001b[43m        \u001b[49m\u001b[43mheader_params\u001b[49m\u001b[43m,\u001b[49m\n\u001b[32m    312\u001b[39m \u001b[43m        \u001b[49m\u001b[43mbody\u001b[49m\u001b[43m,\u001b[49m\n\u001b[32m    313\u001b[39m \u001b[43m        \u001b[49m\u001b[43mpost_params\u001b[49m\u001b[43m,\u001b[49m\n\u001b[32m    314\u001b[39m \u001b[43m        \u001b[49m\u001b[43mfiles\u001b[49m\u001b[43m,\u001b[49m\n\u001b[32m    315\u001b[39m \u001b[43m        \u001b[49m\u001b[43mresponse_type\u001b[49m\u001b[43m,\u001b[49m\n\u001b[32m    316\u001b[39m \u001b[43m        \u001b[49m\u001b[43mauth_settings\u001b[49m\u001b[43m,\u001b[49m\n\u001b[32m    317\u001b[39m \u001b[43m        \u001b[49m\u001b[43m_return_http_data_only\u001b[49m\u001b[43m,\u001b[49m\n\u001b[32m    318\u001b[39m \u001b[43m        \u001b[49m\u001b[43mcollection_formats\u001b[49m\u001b[43m,\u001b[49m\n\u001b[32m    319\u001b[39m \u001b[43m        \u001b[49m\u001b[43m_preload_content\u001b[49m\u001b[43m,\u001b[49m\n\u001b[32m    320\u001b[39m \u001b[43m        \u001b[49m\u001b[43m_request_timeout\u001b[49m\u001b[43m,\u001b[49m\n\u001b[32m    321\u001b[39m \u001b[43m        \u001b[49m\u001b[43m_host\u001b[49m\u001b[43m,\u001b[49m\n\u001b[32m    322\u001b[39m \u001b[43m        \u001b[49m\u001b[43m_check_type\u001b[49m\u001b[43m,\u001b[49m\n\u001b[32m    323\u001b[39m \u001b[43m    \u001b[49m\u001b[43m)\u001b[49m\n\u001b[32m    325\u001b[39m \u001b[38;5;28;01mreturn\u001b[39;00m \u001b[38;5;28mself\u001b[39m.pool.apply_async(\n\u001b[32m    326\u001b[39m     \u001b[38;5;28mself\u001b[39m.__call_api,\n\u001b[32m    327\u001b[39m     (\n\u001b[32m   (...)\u001b[39m\u001b[32m    344\u001b[39m     ),\n\u001b[32m    345\u001b[39m )\n",
      "\u001b[36mFile \u001b[39m\u001b[32m~/miniconda3/envs/myenv/lib/python3.11/site-packages/pinecone/openapi_support/api_client.py:182\u001b[39m, in \u001b[36mApiClient.__call_api\u001b[39m\u001b[34m(self, resource_path, method, path_params, query_params, header_params, body, post_params, files, response_type, auth_settings, _return_http_data_only, collection_formats, _preload_content, _request_timeout, _host, _check_type)\u001b[39m\n\u001b[32m    181\u001b[39m     e.body = e.body.decode(\u001b[33m\"\u001b[39m\u001b[33mutf-8\u001b[39m\u001b[33m\"\u001b[39m)\n\u001b[32m--> \u001b[39m\u001b[32m182\u001b[39m     \u001b[38;5;28;01mraise\u001b[39;00m e\n\u001b[32m    184\u001b[39m \u001b[38;5;28mself\u001b[39m.last_response = response_data\n",
      "\u001b[36mFile \u001b[39m\u001b[32m~/miniconda3/envs/myenv/lib/python3.11/site-packages/pinecone/openapi_support/api_client.py:170\u001b[39m, in \u001b[36mApiClient.__call_api\u001b[39m\u001b[34m(self, resource_path, method, path_params, query_params, header_params, body, post_params, files, response_type, auth_settings, _return_http_data_only, collection_formats, _preload_content, _request_timeout, _host, _check_type)\u001b[39m\n\u001b[32m    168\u001b[39m \u001b[38;5;28;01mtry\u001b[39;00m:\n\u001b[32m    169\u001b[39m     \u001b[38;5;66;03m# perform request and return response\u001b[39;00m\n\u001b[32m--> \u001b[39m\u001b[32m170\u001b[39m     response_data = \u001b[38;5;28;43mself\u001b[39;49m\u001b[43m.\u001b[49m\u001b[43mrequest\u001b[49m\u001b[43m(\u001b[49m\n\u001b[32m    171\u001b[39m \u001b[43m        \u001b[49m\u001b[43mmethod\u001b[49m\u001b[43m,\u001b[49m\n\u001b[32m    172\u001b[39m \u001b[43m        \u001b[49m\u001b[43murl\u001b[49m\u001b[43m,\u001b[49m\n\u001b[32m    173\u001b[39m \u001b[43m        \u001b[49m\u001b[43mquery_params\u001b[49m\u001b[43m=\u001b[49m\u001b[43mprocessed_query_params\u001b[49m\u001b[43m,\u001b[49m\n\u001b[32m    174\u001b[39m \u001b[43m        \u001b[49m\u001b[43mheaders\u001b[49m\u001b[43m=\u001b[49m\u001b[43mheaders_tuple\u001b[49m\u001b[43m,\u001b[49m\n\u001b[32m    175\u001b[39m \u001b[43m        \u001b[49m\u001b[43mpost_params\u001b[49m\u001b[43m=\u001b[49m\u001b[43mprocessed_post_params\u001b[49m\u001b[43m,\u001b[49m\n\u001b[32m    176\u001b[39m \u001b[43m        \u001b[49m\u001b[43mbody\u001b[49m\u001b[43m=\u001b[49m\u001b[43mbody\u001b[49m\u001b[43m,\u001b[49m\n\u001b[32m    177\u001b[39m \u001b[43m        \u001b[49m\u001b[43m_preload_content\u001b[49m\u001b[43m=\u001b[49m\u001b[43m_preload_content\u001b[49m\u001b[43m,\u001b[49m\n\u001b[32m    178\u001b[39m \u001b[43m        \u001b[49m\u001b[43m_request_timeout\u001b[49m\u001b[43m=\u001b[49m\u001b[43m_request_timeout\u001b[49m\u001b[43m,\u001b[49m\n\u001b[32m    179\u001b[39m \u001b[43m    \u001b[49m\u001b[43m)\u001b[49m\n\u001b[32m    180\u001b[39m \u001b[38;5;28;01mexcept\u001b[39;00m PineconeApiException \u001b[38;5;28;01mas\u001b[39;00m e:\n",
      "\u001b[36mFile \u001b[39m\u001b[32m~/miniconda3/envs/myenv/lib/python3.11/site-packages/pinecone/openapi_support/api_client.py:386\u001b[39m, in \u001b[36mApiClient.request\u001b[39m\u001b[34m(self, method, url, query_params, headers, post_params, body, _preload_content, _request_timeout)\u001b[39m\n\u001b[32m    385\u001b[39m \u001b[38;5;28;01melif\u001b[39;00m method == \u001b[33m\"\u001b[39m\u001b[33mPOST\u001b[39m\u001b[33m\"\u001b[39m:\n\u001b[32m--> \u001b[39m\u001b[32m386\u001b[39m     \u001b[38;5;28;01mreturn\u001b[39;00m \u001b[38;5;28;43mself\u001b[39;49m\u001b[43m.\u001b[49m\u001b[43mrest_client\u001b[49m\u001b[43m.\u001b[49m\u001b[43mPOST\u001b[49m\u001b[43m(\u001b[49m\n\u001b[32m    387\u001b[39m \u001b[43m        \u001b[49m\u001b[43murl\u001b[49m\u001b[43m,\u001b[49m\n\u001b[32m    388\u001b[39m \u001b[43m        \u001b[49m\u001b[43mquery_params\u001b[49m\u001b[43m=\u001b[49m\u001b[43mquery_params\u001b[49m\u001b[43m,\u001b[49m\n\u001b[32m    389\u001b[39m \u001b[43m        \u001b[49m\u001b[43mheaders\u001b[49m\u001b[43m=\u001b[49m\u001b[43mheaders\u001b[49m\u001b[43m,\u001b[49m\n\u001b[32m    390\u001b[39m \u001b[43m        \u001b[49m\u001b[43mpost_params\u001b[49m\u001b[43m=\u001b[49m\u001b[43mpost_params\u001b[49m\u001b[43m,\u001b[49m\n\u001b[32m    391\u001b[39m \u001b[43m        \u001b[49m\u001b[43m_preload_content\u001b[49m\u001b[43m=\u001b[49m\u001b[43m_preload_content\u001b[49m\u001b[43m,\u001b[49m\n\u001b[32m    392\u001b[39m \u001b[43m        \u001b[49m\u001b[43m_request_timeout\u001b[49m\u001b[43m=\u001b[49m\u001b[43m_request_timeout\u001b[49m\u001b[43m,\u001b[49m\n\u001b[32m    393\u001b[39m \u001b[43m        \u001b[49m\u001b[43mbody\u001b[49m\u001b[43m=\u001b[49m\u001b[43mbody\u001b[49m\u001b[43m,\u001b[49m\n\u001b[32m    394\u001b[39m \u001b[43m    \u001b[49m\u001b[43m)\u001b[49m\n\u001b[32m    395\u001b[39m \u001b[38;5;28;01melif\u001b[39;00m method == \u001b[33m\"\u001b[39m\u001b[33mPUT\u001b[39m\u001b[33m\"\u001b[39m:\n",
      "\u001b[36mFile \u001b[39m\u001b[32m~/miniconda3/envs/myenv/lib/python3.11/site-packages/pinecone/openapi_support/rest_utils.py:146\u001b[39m, in \u001b[36mRestClientInterface.POST\u001b[39m\u001b[34m(self, url, headers, query_params, post_params, body, _preload_content, _request_timeout)\u001b[39m\n\u001b[32m    136\u001b[39m \u001b[38;5;28;01mdef\u001b[39;00m\u001b[38;5;250m \u001b[39m\u001b[34mPOST\u001b[39m(\n\u001b[32m    137\u001b[39m     \u001b[38;5;28mself\u001b[39m,\n\u001b[32m    138\u001b[39m     url,\n\u001b[32m   (...)\u001b[39m\u001b[32m    144\u001b[39m     _request_timeout=\u001b[38;5;28;01mNone\u001b[39;00m,\n\u001b[32m    145\u001b[39m ):\n\u001b[32m--> \u001b[39m\u001b[32m146\u001b[39m     \u001b[38;5;28;01mreturn\u001b[39;00m \u001b[38;5;28;43mself\u001b[39;49m\u001b[43m.\u001b[49m\u001b[43mrequest\u001b[49m\u001b[43m(\u001b[49m\n\u001b[32m    147\u001b[39m \u001b[43m        \u001b[49m\u001b[33;43m\"\u001b[39;49m\u001b[33;43mPOST\u001b[39;49m\u001b[33;43m\"\u001b[39;49m\u001b[43m,\u001b[49m\n\u001b[32m    148\u001b[39m \u001b[43m        \u001b[49m\u001b[43murl\u001b[49m\u001b[43m,\u001b[49m\n\u001b[32m    149\u001b[39m \u001b[43m        \u001b[49m\u001b[43mheaders\u001b[49m\u001b[43m=\u001b[49m\u001b[43mheaders\u001b[49m\u001b[43m,\u001b[49m\n\u001b[32m    150\u001b[39m \u001b[43m        \u001b[49m\u001b[43mquery_params\u001b[49m\u001b[43m=\u001b[49m\u001b[43mquery_params\u001b[49m\u001b[43m,\u001b[49m\n\u001b[32m    151\u001b[39m \u001b[43m        \u001b[49m\u001b[43mpost_params\u001b[49m\u001b[43m=\u001b[49m\u001b[43mpost_params\u001b[49m\u001b[43m,\u001b[49m\n\u001b[32m    152\u001b[39m \u001b[43m        \u001b[49m\u001b[43m_preload_content\u001b[49m\u001b[43m=\u001b[49m\u001b[43m_preload_content\u001b[49m\u001b[43m,\u001b[49m\n\u001b[32m    153\u001b[39m \u001b[43m        \u001b[49m\u001b[43m_request_timeout\u001b[49m\u001b[43m=\u001b[49m\u001b[43m_request_timeout\u001b[49m\u001b[43m,\u001b[49m\n\u001b[32m    154\u001b[39m \u001b[43m        \u001b[49m\u001b[43mbody\u001b[49m\u001b[43m=\u001b[49m\u001b[43mbody\u001b[49m\u001b[43m,\u001b[49m\n\u001b[32m    155\u001b[39m \u001b[43m    \u001b[49m\u001b[43m)\u001b[49m\n",
      "\u001b[36mFile \u001b[39m\u001b[32m~/miniconda3/envs/myenv/lib/python3.11/site-packages/pinecone/openapi_support/rest_urllib3.py:267\u001b[39m, in \u001b[36mUrllib3RestClient.request\u001b[39m\u001b[34m(self, method, url, query_params, headers, body, post_params, _preload_content, _request_timeout)\u001b[39m\n\u001b[32m    265\u001b[39m     logger.debug(\u001b[33m\"\u001b[39m\u001b[33mresponse body: \u001b[39m\u001b[38;5;132;01m%s\u001b[39;00m\u001b[33m\"\u001b[39m, r.data)\n\u001b[32m--> \u001b[39m\u001b[32m267\u001b[39m \u001b[38;5;28;01mreturn\u001b[39;00m \u001b[43mraise_exceptions_or_return\u001b[49m\u001b[43m(\u001b[49m\u001b[43mr\u001b[49m\u001b[43m)\u001b[49m\n",
      "\u001b[36mFile \u001b[39m\u001b[32m~/miniconda3/envs/myenv/lib/python3.11/site-packages/pinecone/openapi_support/rest_utils.py:38\u001b[39m, in \u001b[36mraise_exceptions_or_return\u001b[39m\u001b[34m(r)\u001b[39m\n\u001b[32m     37\u001b[39m \u001b[38;5;28;01mif\u001b[39;00m r.status == \u001b[32m401\u001b[39m:\n\u001b[32m---> \u001b[39m\u001b[32m38\u001b[39m     \u001b[38;5;28;01mraise\u001b[39;00m UnauthorizedException(http_resp=r)\n\u001b[32m     40\u001b[39m \u001b[38;5;28;01mif\u001b[39;00m r.status == \u001b[32m403\u001b[39m:\n",
      "\u001b[31mUnauthorizedException\u001b[39m: (401)\nReason: Unauthorized\nHTTP response headers: HTTPHeaderDict({'Date': 'Sat, 23 Aug 2025 04:32:29 GMT', 'Content-Type': 'text/plain', 'Content-Length': '12', 'Connection': 'keep-alive', 'x-pinecone-auth-rejected-reason': 'Malformed domain', 'www-authenticate': 'Malformed domain', 'server': 'envoy'})\nHTTP response body: Unauthorized\n",
      "\nThe above exception was the direct cause of the following exception:\n",
      "\u001b[31mUnauthorizedException\u001b[39m                     Traceback (most recent call last)",
      "\u001b[36mCell\u001b[39m\u001b[36m \u001b[39m\u001b[32mIn[17]\u001b[39m\u001b[32m, line 9\u001b[39m\n\u001b[32m      6\u001b[39m \u001b[38;5;28;01mif\u001b[39;00m query.lower() \u001b[38;5;129;01min\u001b[39;00m [\u001b[33m\"\u001b[39m\u001b[33mexit\u001b[39m\u001b[33m\"\u001b[39m, \u001b[33m\"\u001b[39m\u001b[33mquit\u001b[39m\u001b[33m\"\u001b[39m]:\n\u001b[32m      7\u001b[39m     \u001b[38;5;28;01mbreak\u001b[39;00m\n\u001b[32m----> \u001b[39m\u001b[32m9\u001b[39m result = \u001b[43mqa_chain\u001b[49m\u001b[43m(\u001b[49m\u001b[43m{\u001b[49m\u001b[33;43m\"\u001b[39;49m\u001b[33;43mquestion\u001b[39;49m\u001b[33;43m\"\u001b[39;49m\u001b[43m:\u001b[49m\u001b[43m \u001b[49m\u001b[43mquery\u001b[49m\u001b[43m,\u001b[49m\u001b[43m \u001b[49m\u001b[33;43m\"\u001b[39;49m\u001b[33;43mchat_history\u001b[39;49m\u001b[33;43m\"\u001b[39;49m\u001b[43m:\u001b[49m\u001b[43m \u001b[49m\u001b[43mchat_history\u001b[49m\u001b[43m}\u001b[49m\u001b[43m)\u001b[49m\n\u001b[32m     11\u001b[39m \u001b[38;5;66;03m# Rerank the retrieved documents\u001b[39;00m\n\u001b[32m     12\u001b[39m reranked_docs = reranker.compress_documents(\n\u001b[32m     13\u001b[39m     documents=result[\u001b[33m'\u001b[39m\u001b[33msource_documents\u001b[39m\u001b[33m'\u001b[39m],\n\u001b[32m     14\u001b[39m     query=query\n\u001b[32m     15\u001b[39m )\n",
      "\u001b[36mFile \u001b[39m\u001b[32m~/miniconda3/envs/myenv/lib/python3.11/site-packages/langchain_core/_api/deprecation.py:189\u001b[39m, in \u001b[36mdeprecated.<locals>.deprecate.<locals>.warning_emitting_wrapper\u001b[39m\u001b[34m(*args, **kwargs)\u001b[39m\n\u001b[32m    187\u001b[39m     warned = \u001b[38;5;28;01mTrue\u001b[39;00m\n\u001b[32m    188\u001b[39m     emit_warning()\n\u001b[32m--> \u001b[39m\u001b[32m189\u001b[39m \u001b[38;5;28;01mreturn\u001b[39;00m \u001b[43mwrapped\u001b[49m\u001b[43m(\u001b[49m\u001b[43m*\u001b[49m\u001b[43margs\u001b[49m\u001b[43m,\u001b[49m\u001b[43m \u001b[49m\u001b[43m*\u001b[49m\u001b[43m*\u001b[49m\u001b[43mkwargs\u001b[49m\u001b[43m)\u001b[49m\n",
      "\u001b[36mFile \u001b[39m\u001b[32m~/miniconda3/envs/myenv/lib/python3.11/site-packages/langchain/chains/base.py:410\u001b[39m, in \u001b[36mChain.__call__\u001b[39m\u001b[34m(self, inputs, return_only_outputs, callbacks, tags, metadata, run_name, include_run_info)\u001b[39m\n\u001b[32m    378\u001b[39m \u001b[38;5;250m\u001b[39m\u001b[33;03m\"\"\"Execute the chain.\u001b[39;00m\n\u001b[32m    379\u001b[39m \n\u001b[32m    380\u001b[39m \u001b[33;03mArgs:\u001b[39;00m\n\u001b[32m   (...)\u001b[39m\u001b[32m    401\u001b[39m \u001b[33;03m        `Chain.output_keys`.\u001b[39;00m\n\u001b[32m    402\u001b[39m \u001b[33;03m\"\"\"\u001b[39;00m\n\u001b[32m    403\u001b[39m config = {\n\u001b[32m    404\u001b[39m     \u001b[33m\"\u001b[39m\u001b[33mcallbacks\u001b[39m\u001b[33m\"\u001b[39m: callbacks,\n\u001b[32m    405\u001b[39m     \u001b[33m\"\u001b[39m\u001b[33mtags\u001b[39m\u001b[33m\"\u001b[39m: tags,\n\u001b[32m    406\u001b[39m     \u001b[33m\"\u001b[39m\u001b[33mmetadata\u001b[39m\u001b[33m\"\u001b[39m: metadata,\n\u001b[32m    407\u001b[39m     \u001b[33m\"\u001b[39m\u001b[33mrun_name\u001b[39m\u001b[33m\"\u001b[39m: run_name,\n\u001b[32m    408\u001b[39m }\n\u001b[32m--> \u001b[39m\u001b[32m410\u001b[39m \u001b[38;5;28;01mreturn\u001b[39;00m \u001b[38;5;28;43mself\u001b[39;49m\u001b[43m.\u001b[49m\u001b[43minvoke\u001b[49m\u001b[43m(\u001b[49m\n\u001b[32m    411\u001b[39m \u001b[43m    \u001b[49m\u001b[43minputs\u001b[49m\u001b[43m,\u001b[49m\n\u001b[32m    412\u001b[39m \u001b[43m    \u001b[49m\u001b[43mcast\u001b[49m\u001b[43m(\u001b[49m\u001b[43mRunnableConfig\u001b[49m\u001b[43m,\u001b[49m\u001b[43m \u001b[49m\u001b[43m{\u001b[49m\u001b[43mk\u001b[49m\u001b[43m:\u001b[49m\u001b[43m \u001b[49m\u001b[43mv\u001b[49m\u001b[43m \u001b[49m\u001b[38;5;28;43;01mfor\u001b[39;49;00m\u001b[43m \u001b[49m\u001b[43mk\u001b[49m\u001b[43m,\u001b[49m\u001b[43m \u001b[49m\u001b[43mv\u001b[49m\u001b[43m \u001b[49m\u001b[38;5;129;43;01min\u001b[39;49;00m\u001b[43m \u001b[49m\u001b[43mconfig\u001b[49m\u001b[43m.\u001b[49m\u001b[43mitems\u001b[49m\u001b[43m(\u001b[49m\u001b[43m)\u001b[49m\u001b[43m \u001b[49m\u001b[38;5;28;43;01mif\u001b[39;49;00m\u001b[43m \u001b[49m\u001b[43mv\u001b[49m\u001b[43m \u001b[49m\u001b[38;5;129;43;01mis\u001b[39;49;00m\u001b[43m \u001b[49m\u001b[38;5;129;43;01mnot\u001b[39;49;00m\u001b[43m \u001b[49m\u001b[38;5;28;43;01mNone\u001b[39;49;00m\u001b[43m}\u001b[49m\u001b[43m)\u001b[49m\u001b[43m,\u001b[49m\n\u001b[32m    413\u001b[39m \u001b[43m    \u001b[49m\u001b[43mreturn_only_outputs\u001b[49m\u001b[43m=\u001b[49m\u001b[43mreturn_only_outputs\u001b[49m\u001b[43m,\u001b[49m\n\u001b[32m    414\u001b[39m \u001b[43m    \u001b[49m\u001b[43minclude_run_info\u001b[49m\u001b[43m=\u001b[49m\u001b[43minclude_run_info\u001b[49m\u001b[43m,\u001b[49m\n\u001b[32m    415\u001b[39m \u001b[43m\u001b[49m\u001b[43m)\u001b[49m\n",
      "\u001b[36mFile \u001b[39m\u001b[32m~/miniconda3/envs/myenv/lib/python3.11/site-packages/langchain/chains/base.py:165\u001b[39m, in \u001b[36mChain.invoke\u001b[39m\u001b[34m(self, input, config, **kwargs)\u001b[39m\n\u001b[32m    162\u001b[39m \u001b[38;5;28;01mtry\u001b[39;00m:\n\u001b[32m    163\u001b[39m     \u001b[38;5;28mself\u001b[39m._validate_inputs(inputs)\n\u001b[32m    164\u001b[39m     outputs = (\n\u001b[32m--> \u001b[39m\u001b[32m165\u001b[39m         \u001b[38;5;28;43mself\u001b[39;49m\u001b[43m.\u001b[49m\u001b[43m_call\u001b[49m\u001b[43m(\u001b[49m\u001b[43minputs\u001b[49m\u001b[43m,\u001b[49m\u001b[43m \u001b[49m\u001b[43mrun_manager\u001b[49m\u001b[43m=\u001b[49m\u001b[43mrun_manager\u001b[49m\u001b[43m)\u001b[49m\n\u001b[32m    166\u001b[39m         \u001b[38;5;28;01mif\u001b[39;00m new_arg_supported\n\u001b[32m    167\u001b[39m         \u001b[38;5;28;01melse\u001b[39;00m \u001b[38;5;28mself\u001b[39m._call(inputs)\n\u001b[32m    168\u001b[39m     )\n\u001b[32m    170\u001b[39m     final_outputs: \u001b[38;5;28mdict\u001b[39m[\u001b[38;5;28mstr\u001b[39m, Any] = \u001b[38;5;28mself\u001b[39m.prep_outputs(\n\u001b[32m    171\u001b[39m         inputs,\n\u001b[32m    172\u001b[39m         outputs,\n\u001b[32m    173\u001b[39m         return_only_outputs,\n\u001b[32m    174\u001b[39m     )\n\u001b[32m    175\u001b[39m \u001b[38;5;28;01mexcept\u001b[39;00m \u001b[38;5;167;01mBaseException\u001b[39;00m \u001b[38;5;28;01mas\u001b[39;00m e:\n",
      "\u001b[36mFile \u001b[39m\u001b[32m~/miniconda3/envs/myenv/lib/python3.11/site-packages/langchain/chains/conversational_retrieval/base.py:164\u001b[39m, in \u001b[36mBaseConversationalRetrievalChain._call\u001b[39m\u001b[34m(self, inputs, run_manager)\u001b[39m\n\u001b[32m    160\u001b[39m accepts_run_manager = (\n\u001b[32m    161\u001b[39m     \u001b[33m\"\u001b[39m\u001b[33mrun_manager\u001b[39m\u001b[33m\"\u001b[39m \u001b[38;5;129;01min\u001b[39;00m inspect.signature(\u001b[38;5;28mself\u001b[39m._get_docs).parameters\n\u001b[32m    162\u001b[39m )\n\u001b[32m    163\u001b[39m \u001b[38;5;28;01mif\u001b[39;00m accepts_run_manager:\n\u001b[32m--> \u001b[39m\u001b[32m164\u001b[39m     docs = \u001b[38;5;28;43mself\u001b[39;49m\u001b[43m.\u001b[49m\u001b[43m_get_docs\u001b[49m\u001b[43m(\u001b[49m\u001b[43mnew_question\u001b[49m\u001b[43m,\u001b[49m\u001b[43m \u001b[49m\u001b[43minputs\u001b[49m\u001b[43m,\u001b[49m\u001b[43m \u001b[49m\u001b[43mrun_manager\u001b[49m\u001b[43m=\u001b[49m\u001b[43m_run_manager\u001b[49m\u001b[43m)\u001b[49m\n\u001b[32m    165\u001b[39m \u001b[38;5;28;01melse\u001b[39;00m:\n\u001b[32m    166\u001b[39m     docs = \u001b[38;5;28mself\u001b[39m._get_docs(new_question, inputs)  \u001b[38;5;66;03m# type: ignore[call-arg]\u001b[39;00m\n",
      "\u001b[36mFile \u001b[39m\u001b[32m~/miniconda3/envs/myenv/lib/python3.11/site-packages/langchain/chains/conversational_retrieval/base.py:409\u001b[39m, in \u001b[36mConversationalRetrievalChain._get_docs\u001b[39m\u001b[34m(self, question, inputs, run_manager)\u001b[39m\n\u001b[32m    401\u001b[39m \u001b[38;5;28;01mdef\u001b[39;00m\u001b[38;5;250m \u001b[39m\u001b[34m_get_docs\u001b[39m(\n\u001b[32m    402\u001b[39m     \u001b[38;5;28mself\u001b[39m,\n\u001b[32m    403\u001b[39m     question: \u001b[38;5;28mstr\u001b[39m,\n\u001b[32m   (...)\u001b[39m\u001b[32m    406\u001b[39m     run_manager: CallbackManagerForChainRun,\n\u001b[32m    407\u001b[39m ) -> \u001b[38;5;28mlist\u001b[39m[Document]:\n\u001b[32m    408\u001b[39m \u001b[38;5;250m    \u001b[39m\u001b[33;03m\"\"\"Get docs.\"\"\"\u001b[39;00m\n\u001b[32m--> \u001b[39m\u001b[32m409\u001b[39m     docs = \u001b[38;5;28;43mself\u001b[39;49m\u001b[43m.\u001b[49m\u001b[43mretriever\u001b[49m\u001b[43m.\u001b[49m\u001b[43minvoke\u001b[49m\u001b[43m(\u001b[49m\n\u001b[32m    410\u001b[39m \u001b[43m        \u001b[49m\u001b[43mquestion\u001b[49m\u001b[43m,\u001b[49m\n\u001b[32m    411\u001b[39m \u001b[43m        \u001b[49m\u001b[43mconfig\u001b[49m\u001b[43m=\u001b[49m\u001b[43m{\u001b[49m\u001b[33;43m\"\u001b[39;49m\u001b[33;43mcallbacks\u001b[39;49m\u001b[33;43m\"\u001b[39;49m\u001b[43m:\u001b[49m\u001b[43m \u001b[49m\u001b[43mrun_manager\u001b[49m\u001b[43m.\u001b[49m\u001b[43mget_child\u001b[49m\u001b[43m(\u001b[49m\u001b[43m)\u001b[49m\u001b[43m}\u001b[49m\u001b[43m,\u001b[49m\n\u001b[32m    412\u001b[39m \u001b[43m    \u001b[49m\u001b[43m)\u001b[49m\n\u001b[32m    413\u001b[39m     \u001b[38;5;28;01mreturn\u001b[39;00m \u001b[38;5;28mself\u001b[39m._reduce_tokens_below_limit(docs)\n",
      "\u001b[36mFile \u001b[39m\u001b[32m~/miniconda3/envs/myenv/lib/python3.11/site-packages/langchain_core/retrievers.py:259\u001b[39m, in \u001b[36mBaseRetriever.invoke\u001b[39m\u001b[34m(self, input, config, **kwargs)\u001b[39m\n\u001b[32m    257\u001b[39m kwargs_ = kwargs \u001b[38;5;28;01mif\u001b[39;00m \u001b[38;5;28mself\u001b[39m._expects_other_args \u001b[38;5;28;01melse\u001b[39;00m {}\n\u001b[32m    258\u001b[39m \u001b[38;5;28;01mif\u001b[39;00m \u001b[38;5;28mself\u001b[39m._new_arg_supported:\n\u001b[32m--> \u001b[39m\u001b[32m259\u001b[39m     result = \u001b[38;5;28;43mself\u001b[39;49m\u001b[43m.\u001b[49m\u001b[43m_get_relevant_documents\u001b[49m\u001b[43m(\u001b[49m\n\u001b[32m    260\u001b[39m \u001b[43m        \u001b[49m\u001b[38;5;28;43minput\u001b[39;49m\u001b[43m,\u001b[49m\u001b[43m \u001b[49m\u001b[43mrun_manager\u001b[49m\u001b[43m=\u001b[49m\u001b[43mrun_manager\u001b[49m\u001b[43m,\u001b[49m\u001b[43m \u001b[49m\u001b[43m*\u001b[49m\u001b[43m*\u001b[49m\u001b[43mkwargs_\u001b[49m\n\u001b[32m    261\u001b[39m \u001b[43m    \u001b[49m\u001b[43m)\u001b[49m\n\u001b[32m    262\u001b[39m \u001b[38;5;28;01melse\u001b[39;00m:\n\u001b[32m    263\u001b[39m     result = \u001b[38;5;28mself\u001b[39m._get_relevant_documents(\u001b[38;5;28minput\u001b[39m, **kwargs_)\n",
      "\u001b[36mFile \u001b[39m\u001b[32m~/miniconda3/envs/myenv/lib/python3.11/site-packages/langchain_community/retrievers/pinecone_hybrid_search.py:169\u001b[39m, in \u001b[36mPineconeHybridSearchRetriever._get_relevant_documents\u001b[39m\u001b[34m(self, query, run_manager, **kwargs)\u001b[39m\n\u001b[32m    167\u001b[39m sparse_vec[\u001b[33m\"\u001b[39m\u001b[33mvalues\u001b[39m\u001b[33m\"\u001b[39m] = [\u001b[38;5;28mfloat\u001b[39m(s1) \u001b[38;5;28;01mfor\u001b[39;00m s1 \u001b[38;5;129;01min\u001b[39;00m sparse_vec[\u001b[33m\"\u001b[39m\u001b[33mvalues\u001b[39m\u001b[33m\"\u001b[39m]]\n\u001b[32m    168\u001b[39m \u001b[38;5;66;03m# query pinecone with the query parameters\u001b[39;00m\n\u001b[32m--> \u001b[39m\u001b[32m169\u001b[39m result = \u001b[38;5;28;43mself\u001b[39;49m\u001b[43m.\u001b[49m\u001b[43mindex\u001b[49m\u001b[43m.\u001b[49m\u001b[43mquery\u001b[49m\u001b[43m(\u001b[49m\n\u001b[32m    170\u001b[39m \u001b[43m    \u001b[49m\u001b[43mvector\u001b[49m\u001b[43m=\u001b[49m\u001b[43mdense_vec\u001b[49m\u001b[43m,\u001b[49m\n\u001b[32m    171\u001b[39m \u001b[43m    \u001b[49m\u001b[43msparse_vector\u001b[49m\u001b[43m=\u001b[49m\u001b[43msparse_vec\u001b[49m\u001b[43m,\u001b[49m\n\u001b[32m    172\u001b[39m \u001b[43m    \u001b[49m\u001b[43mtop_k\u001b[49m\u001b[43m=\u001b[49m\u001b[38;5;28;43mself\u001b[39;49m\u001b[43m.\u001b[49m\u001b[43mtop_k\u001b[49m\u001b[43m,\u001b[49m\n\u001b[32m    173\u001b[39m \u001b[43m    \u001b[49m\u001b[43minclude_metadata\u001b[49m\u001b[43m=\u001b[49m\u001b[38;5;28;43;01mTrue\u001b[39;49;00m\u001b[43m,\u001b[49m\n\u001b[32m    174\u001b[39m \u001b[43m    \u001b[49m\u001b[43mnamespace\u001b[49m\u001b[43m=\u001b[49m\u001b[38;5;28;43mself\u001b[39;49m\u001b[43m.\u001b[49m\u001b[43mnamespace\u001b[49m\u001b[43m,\u001b[49m\n\u001b[32m    175\u001b[39m \u001b[43m    \u001b[49m\u001b[43m*\u001b[49m\u001b[43m*\u001b[49m\u001b[43mkwargs\u001b[49m\u001b[43m,\u001b[49m\n\u001b[32m    176\u001b[39m \u001b[43m\u001b[49m\u001b[43m)\u001b[49m\n\u001b[32m    177\u001b[39m final_result = []\n\u001b[32m    178\u001b[39m \u001b[38;5;28;01mfor\u001b[39;00m res \u001b[38;5;129;01min\u001b[39;00m result[\u001b[33m\"\u001b[39m\u001b[33mmatches\u001b[39m\u001b[33m\"\u001b[39m]:\n",
      "\u001b[36mFile \u001b[39m\u001b[32m~/miniconda3/envs/myenv/lib/python3.11/site-packages/pinecone/utils/error_handling.py:30\u001b[39m, in \u001b[36mvalidate_and_convert_errors.<locals>.inner_func\u001b[39m\u001b[34m(*args, **kwargs)\u001b[39m\n\u001b[32m     26\u001b[39m     \u001b[38;5;28;01mraise\u001b[39;00m ProtocolError(\n\u001b[32m     27\u001b[39m         \u001b[33m\"\u001b[39m\u001b[33mConnection failed. Please verify that the index host is correct and accessible.\u001b[39m\u001b[33m\"\u001b[39m\n\u001b[32m     28\u001b[39m     ) \u001b[38;5;28;01mfrom\u001b[39;00m\u001b[38;5;250m \u001b[39m\u001b[34;01me\u001b[39;00m\n\u001b[32m     29\u001b[39m \u001b[38;5;28;01melse\u001b[39;00m:\n\u001b[32m---> \u001b[39m\u001b[32m30\u001b[39m     \u001b[38;5;28;01mraise\u001b[39;00m e \u001b[38;5;28;01mfrom\u001b[39;00m\u001b[38;5;250m \u001b[39m\u001b[34;01me\u001b[39;00m\n",
      "\u001b[36mFile \u001b[39m\u001b[32m~/miniconda3/envs/myenv/lib/python3.11/site-packages/pinecone/utils/error_handling.py:15\u001b[39m, in \u001b[36mvalidate_and_convert_errors.<locals>.inner_func\u001b[39m\u001b[34m(*args, **kwargs)\u001b[39m\n\u001b[32m     12\u001b[39m \u001b[38;5;129m@wraps\u001b[39m(func)\n\u001b[32m     13\u001b[39m \u001b[38;5;28;01mdef\u001b[39;00m\u001b[38;5;250m \u001b[39m\u001b[34minner_func\u001b[39m(*args, **kwargs):\n\u001b[32m     14\u001b[39m     \u001b[38;5;28;01mtry\u001b[39;00m:\n\u001b[32m---> \u001b[39m\u001b[32m15\u001b[39m         \u001b[38;5;28;01mreturn\u001b[39;00m \u001b[43mfunc\u001b[49m\u001b[43m(\u001b[49m\u001b[43m*\u001b[49m\u001b[43margs\u001b[49m\u001b[43m,\u001b[49m\u001b[43m \u001b[49m\u001b[43m*\u001b[49m\u001b[43m*\u001b[49m\u001b[43mkwargs\u001b[49m\u001b[43m)\u001b[49m\n\u001b[32m     16\u001b[39m     \u001b[38;5;28;01mexcept\u001b[39;00m \u001b[38;5;167;01mException\u001b[39;00m \u001b[38;5;28;01mas\u001b[39;00m e:\n\u001b[32m     17\u001b[39m         \u001b[38;5;66;03m# Lazy import of urllib3 exceptions\u001b[39;00m\n\u001b[32m     18\u001b[39m         \u001b[38;5;28;01mfrom\u001b[39;00m\u001b[38;5;250m \u001b[39m\u001b[34;01murllib3\u001b[39;00m\u001b[34;01m.\u001b[39;00m\u001b[34;01mexceptions\u001b[39;00m\u001b[38;5;250m \u001b[39m\u001b[38;5;28;01mimport\u001b[39;00m MaxRetryError, ProtocolError \u001b[38;5;28;01mas\u001b[39;00m Urllib3ProtocolError\n",
      "\u001b[36mFile \u001b[39m\u001b[32m~/miniconda3/envs/myenv/lib/python3.11/site-packages/pinecone/db_data/index.py:345\u001b[39m, in \u001b[36mIndex.query\u001b[39m\u001b[34m(self, top_k, vector, id, namespace, filter, include_values, include_metadata, sparse_vector, *args, **kwargs)\u001b[39m\n\u001b[32m    331\u001b[39m \u001b[38;5;129m@validate_and_convert_errors\u001b[39m\n\u001b[32m    332\u001b[39m \u001b[38;5;28;01mdef\u001b[39;00m\u001b[38;5;250m \u001b[39m\u001b[34mquery\u001b[39m(\n\u001b[32m    333\u001b[39m     \u001b[38;5;28mself\u001b[39m,\n\u001b[32m   (...)\u001b[39m\u001b[32m    343\u001b[39m     **kwargs,\n\u001b[32m    344\u001b[39m ) -> Union[QueryResponse, ApplyResult]:\n\u001b[32m--> \u001b[39m\u001b[32m345\u001b[39m     response = \u001b[38;5;28;43mself\u001b[39;49m\u001b[43m.\u001b[49m\u001b[43m_query\u001b[49m\u001b[43m(\u001b[49m\n\u001b[32m    346\u001b[39m \u001b[43m        \u001b[49m\u001b[43m*\u001b[49m\u001b[43margs\u001b[49m\u001b[43m,\u001b[49m\n\u001b[32m    347\u001b[39m \u001b[43m        \u001b[49m\u001b[43mtop_k\u001b[49m\u001b[43m=\u001b[49m\u001b[43mtop_k\u001b[49m\u001b[43m,\u001b[49m\n\u001b[32m    348\u001b[39m \u001b[43m        \u001b[49m\u001b[43mvector\u001b[49m\u001b[43m=\u001b[49m\u001b[43mvector\u001b[49m\u001b[43m,\u001b[49m\n\u001b[32m    349\u001b[39m \u001b[43m        \u001b[49m\u001b[38;5;28;43mid\u001b[39;49m\u001b[43m=\u001b[49m\u001b[38;5;28;43mid\u001b[39;49m\u001b[43m,\u001b[49m\n\u001b[32m    350\u001b[39m \u001b[43m        \u001b[49m\u001b[43mnamespace\u001b[49m\u001b[43m=\u001b[49m\u001b[43mnamespace\u001b[49m\u001b[43m,\u001b[49m\n\u001b[32m    351\u001b[39m \u001b[43m        \u001b[49m\u001b[38;5;28;43mfilter\u001b[39;49m\u001b[43m=\u001b[49m\u001b[38;5;28;43mfilter\u001b[39;49m\u001b[43m,\u001b[49m\n\u001b[32m    352\u001b[39m \u001b[43m        \u001b[49m\u001b[43minclude_values\u001b[49m\u001b[43m=\u001b[49m\u001b[43minclude_values\u001b[49m\u001b[43m,\u001b[49m\n\u001b[32m    353\u001b[39m \u001b[43m        \u001b[49m\u001b[43minclude_metadata\u001b[49m\u001b[43m=\u001b[49m\u001b[43minclude_metadata\u001b[49m\u001b[43m,\u001b[49m\n\u001b[32m    354\u001b[39m \u001b[43m        \u001b[49m\u001b[43msparse_vector\u001b[49m\u001b[43m=\u001b[49m\u001b[43msparse_vector\u001b[49m\u001b[43m,\u001b[49m\n\u001b[32m    355\u001b[39m \u001b[43m        \u001b[49m\u001b[43m*\u001b[49m\u001b[43m*\u001b[49m\u001b[43mkwargs\u001b[49m\u001b[43m,\u001b[49m\n\u001b[32m    356\u001b[39m \u001b[43m    \u001b[49m\u001b[43m)\u001b[49m\n\u001b[32m    358\u001b[39m     \u001b[38;5;28;01mif\u001b[39;00m kwargs.get(\u001b[33m\"\u001b[39m\u001b[33masync_req\u001b[39m\u001b[33m\"\u001b[39m, \u001b[38;5;28;01mFalse\u001b[39;00m) \u001b[38;5;129;01mor\u001b[39;00m kwargs.get(\u001b[33m\"\u001b[39m\u001b[33masync_threadpool_executor\u001b[39m\u001b[33m\"\u001b[39m, \u001b[38;5;28;01mFalse\u001b[39;00m):\n\u001b[32m    359\u001b[39m         \u001b[38;5;28;01mreturn\u001b[39;00m response\n",
      "\u001b[36mFile \u001b[39m\u001b[32m~/miniconda3/envs/myenv/lib/python3.11/site-packages/pinecone/db_data/index.py:395\u001b[39m, in \u001b[36mIndex._query\u001b[39m\u001b[34m(self, top_k, vector, id, namespace, filter, include_values, include_metadata, sparse_vector, *args, **kwargs)\u001b[39m\n\u001b[32m    382\u001b[39m     \u001b[38;5;28;01mraise\u001b[39;00m \u001b[38;5;167;01mValueError\u001b[39;00m(\u001b[33m\"\u001b[39m\u001b[33mtop_k must be a positive integer\u001b[39m\u001b[33m\"\u001b[39m)\n\u001b[32m    384\u001b[39m request = IndexRequestFactory.query_request(\n\u001b[32m    385\u001b[39m     top_k=top_k,\n\u001b[32m    386\u001b[39m     vector=vector,\n\u001b[32m   (...)\u001b[39m\u001b[32m    393\u001b[39m     **kwargs,\n\u001b[32m    394\u001b[39m )\n\u001b[32m--> \u001b[39m\u001b[32m395\u001b[39m \u001b[38;5;28;01mreturn\u001b[39;00m \u001b[38;5;28;43mself\u001b[39;49m\u001b[43m.\u001b[49m\u001b[43m_vector_api\u001b[49m\u001b[43m.\u001b[49m\u001b[43mquery_vectors\u001b[49m\u001b[43m(\u001b[49m\u001b[43mrequest\u001b[49m\u001b[43m,\u001b[49m\u001b[43m \u001b[49m\u001b[43m*\u001b[49m\u001b[43m*\u001b[49m\u001b[38;5;28;43mself\u001b[39;49m\u001b[43m.\u001b[49m\u001b[43m_openapi_kwargs\u001b[49m\u001b[43m(\u001b[49m\u001b[43mkwargs\u001b[49m\u001b[43m)\u001b[49m\u001b[43m)\u001b[49m\n",
      "\u001b[36mFile \u001b[39m\u001b[32m~/miniconda3/envs/myenv/lib/python3.11/site-packages/pinecone/openapi_support/endpoint.py:102\u001b[39m, in \u001b[36mEndpoint.__call__\u001b[39m\u001b[34m(self, *args, **kwargs)\u001b[39m\n\u001b[32m     91\u001b[39m \u001b[38;5;28;01mdef\u001b[39;00m\u001b[38;5;250m \u001b[39m\u001b[34m__call__\u001b[39m(\u001b[38;5;28mself\u001b[39m, *args, **kwargs):\n\u001b[32m     92\u001b[39m \u001b[38;5;250m    \u001b[39m\u001b[33;03m\"\"\"This method is invoked when endpoints are called\u001b[39;00m\n\u001b[32m     93\u001b[39m \u001b[33;03m    Example:\u001b[39;00m\n\u001b[32m     94\u001b[39m \n\u001b[32m   (...)\u001b[39m\u001b[32m    100\u001b[39m \n\u001b[32m    101\u001b[39m \u001b[33;03m    \"\"\"\u001b[39;00m\n\u001b[32m--> \u001b[39m\u001b[32m102\u001b[39m     \u001b[38;5;28;01mreturn\u001b[39;00m \u001b[38;5;28;43mself\u001b[39;49m\u001b[43m.\u001b[49m\u001b[43mcallable\u001b[49m\u001b[43m(\u001b[49m\u001b[38;5;28;43mself\u001b[39;49m\u001b[43m,\u001b[49m\u001b[43m \u001b[49m\u001b[43m*\u001b[49m\u001b[43margs\u001b[49m\u001b[43m,\u001b[49m\u001b[43m \u001b[49m\u001b[43m*\u001b[49m\u001b[43m*\u001b[49m\u001b[43mkwargs\u001b[49m\u001b[43m)\u001b[49m\n",
      "\u001b[36mFile \u001b[39m\u001b[32m~/miniconda3/envs/myenv/lib/python3.11/site-packages/pinecone/core/openapi/db_data/api/vector_operations_api.py:388\u001b[39m, in \u001b[36mVectorOperationsApi.__init__.<locals>.__query_vectors\u001b[39m\u001b[34m(self, query_request, **kwargs)\u001b[39m\n\u001b[32m    386\u001b[39m kwargs = \u001b[38;5;28mself\u001b[39m._process_openapi_kwargs(kwargs)\n\u001b[32m    387\u001b[39m kwargs[\u001b[33m\"\u001b[39m\u001b[33mquery_request\u001b[39m\u001b[33m\"\u001b[39m] = query_request\n\u001b[32m--> \u001b[39m\u001b[32m388\u001b[39m \u001b[38;5;28;01mreturn\u001b[39;00m \u001b[38;5;28;43mself\u001b[39;49m\u001b[43m.\u001b[49m\u001b[43mcall_with_http_info\u001b[49m\u001b[43m(\u001b[49m\u001b[43m*\u001b[49m\u001b[43m*\u001b[49m\u001b[43mkwargs\u001b[49m\u001b[43m)\u001b[49m\n",
      "\u001b[36mFile \u001b[39m\u001b[32m~/miniconda3/envs/myenv/lib/python3.11/site-packages/pinecone/openapi_support/endpoint.py:134\u001b[39m, in \u001b[36mEndpoint.call_with_http_info\u001b[39m\u001b[34m(self, **kwargs)\u001b[39m\n\u001b[32m    124\u001b[39m params = EndpointUtils.gather_params(\n\u001b[32m    125\u001b[39m     attribute_map=\u001b[38;5;28mself\u001b[39m.attribute_map,\n\u001b[32m    126\u001b[39m     location_map=\u001b[38;5;28mself\u001b[39m.location_map,\n\u001b[32m   (...)\u001b[39m\u001b[32m    129\u001b[39m     kwargs=kwargs,\n\u001b[32m    130\u001b[39m )\n\u001b[32m    132\u001b[39m HeaderUtil.prepare_headers(headers_map=\u001b[38;5;28mself\u001b[39m.headers_map, params=params)\n\u001b[32m--> \u001b[39m\u001b[32m134\u001b[39m \u001b[38;5;28;01mreturn\u001b[39;00m \u001b[38;5;28;43mself\u001b[39;49m\u001b[43m.\u001b[49m\u001b[43mapi_client\u001b[49m\u001b[43m.\u001b[49m\u001b[43mcall_api\u001b[49m\u001b[43m(\u001b[49m\n\u001b[32m    135\u001b[39m \u001b[43m    \u001b[49m\u001b[38;5;28;43mself\u001b[39;49m\u001b[43m.\u001b[49m\u001b[43msettings\u001b[49m\u001b[43m[\u001b[49m\u001b[33;43m\"\u001b[39;49m\u001b[33;43mendpoint_path\u001b[39;49m\u001b[33;43m\"\u001b[39;49m\u001b[43m]\u001b[49m\u001b[43m,\u001b[49m\n\u001b[32m    136\u001b[39m \u001b[43m    \u001b[49m\u001b[38;5;28;43mself\u001b[39;49m\u001b[43m.\u001b[49m\u001b[43msettings\u001b[49m\u001b[43m[\u001b[49m\u001b[33;43m\"\u001b[39;49m\u001b[33;43mhttp_method\u001b[39;49m\u001b[33;43m\"\u001b[39;49m\u001b[43m]\u001b[49m\u001b[43m,\u001b[49m\n\u001b[32m    137\u001b[39m \u001b[43m    \u001b[49m\u001b[43mpath_params\u001b[49m\u001b[43m=\u001b[49m\u001b[43mparams\u001b[49m\u001b[43m[\u001b[49m\u001b[33;43m\"\u001b[39;49m\u001b[33;43mpath\u001b[39;49m\u001b[33;43m\"\u001b[39;49m\u001b[43m]\u001b[49m\u001b[43m,\u001b[49m\n\u001b[32m    138\u001b[39m \u001b[43m    \u001b[49m\u001b[43mquery_params\u001b[49m\u001b[43m=\u001b[49m\u001b[43mparams\u001b[49m\u001b[43m[\u001b[49m\u001b[33;43m\"\u001b[39;49m\u001b[33;43mquery\u001b[39;49m\u001b[33;43m\"\u001b[39;49m\u001b[43m]\u001b[49m\u001b[43m,\u001b[49m\n\u001b[32m    139\u001b[39m \u001b[43m    \u001b[49m\u001b[43mheader_params\u001b[49m\u001b[43m=\u001b[49m\u001b[43mparams\u001b[49m\u001b[43m[\u001b[49m\u001b[33;43m\"\u001b[39;49m\u001b[33;43mheader\u001b[39;49m\u001b[33;43m\"\u001b[39;49m\u001b[43m]\u001b[49m\u001b[43m,\u001b[49m\n\u001b[32m    140\u001b[39m \u001b[43m    \u001b[49m\u001b[43mbody\u001b[49m\u001b[43m=\u001b[49m\u001b[43mparams\u001b[49m\u001b[43m[\u001b[49m\u001b[33;43m\"\u001b[39;49m\u001b[33;43mbody\u001b[39;49m\u001b[33;43m\"\u001b[39;49m\u001b[43m]\u001b[49m\u001b[43m,\u001b[49m\n\u001b[32m    141\u001b[39m \u001b[43m    \u001b[49m\u001b[43mpost_params\u001b[49m\u001b[43m=\u001b[49m\u001b[43mparams\u001b[49m\u001b[43m[\u001b[49m\u001b[33;43m\"\u001b[39;49m\u001b[33;43mform\u001b[39;49m\u001b[33;43m\"\u001b[39;49m\u001b[43m]\u001b[49m\u001b[43m,\u001b[49m\n\u001b[32m    142\u001b[39m \u001b[43m    \u001b[49m\u001b[43mfiles\u001b[49m\u001b[43m=\u001b[49m\u001b[43mparams\u001b[49m\u001b[43m[\u001b[49m\u001b[33;43m\"\u001b[39;49m\u001b[33;43mfile\u001b[39;49m\u001b[33;43m\"\u001b[39;49m\u001b[43m]\u001b[49m\u001b[43m,\u001b[49m\n\u001b[32m    143\u001b[39m \u001b[43m    \u001b[49m\u001b[43mresponse_type\u001b[49m\u001b[43m=\u001b[49m\u001b[38;5;28;43mself\u001b[39;49m\u001b[43m.\u001b[49m\u001b[43msettings\u001b[49m\u001b[43m[\u001b[49m\u001b[33;43m\"\u001b[39;49m\u001b[33;43mresponse_type\u001b[39;49m\u001b[33;43m\"\u001b[39;49m\u001b[43m]\u001b[49m\u001b[43m,\u001b[49m\n\u001b[32m    144\u001b[39m \u001b[43m    \u001b[49m\u001b[43mauth_settings\u001b[49m\u001b[43m=\u001b[49m\u001b[38;5;28;43mself\u001b[39;49m\u001b[43m.\u001b[49m\u001b[43msettings\u001b[49m\u001b[43m[\u001b[49m\u001b[33;43m\"\u001b[39;49m\u001b[33;43mauth\u001b[39;49m\u001b[33;43m\"\u001b[39;49m\u001b[43m]\u001b[49m\u001b[43m,\u001b[49m\n\u001b[32m    145\u001b[39m \u001b[43m    \u001b[49m\u001b[43masync_req\u001b[49m\u001b[43m=\u001b[49m\u001b[43mkwargs\u001b[49m\u001b[43m[\u001b[49m\u001b[33;43m\"\u001b[39;49m\u001b[33;43masync_req\u001b[39;49m\u001b[33;43m\"\u001b[39;49m\u001b[43m]\u001b[49m\u001b[43m,\u001b[49m\n\u001b[32m    146\u001b[39m \u001b[43m    \u001b[49m\u001b[43masync_threadpool_executor\u001b[49m\u001b[43m=\u001b[49m\u001b[43mkwargs\u001b[49m\u001b[43m.\u001b[49m\u001b[43mget\u001b[49m\u001b[43m(\u001b[49m\u001b[33;43m\"\u001b[39;49m\u001b[33;43masync_threadpool_executor\u001b[39;49m\u001b[33;43m\"\u001b[39;49m\u001b[43m,\u001b[49m\u001b[43m \u001b[49m\u001b[38;5;28;43;01mNone\u001b[39;49;00m\u001b[43m)\u001b[49m\u001b[43m,\u001b[49m\n\u001b[32m    147\u001b[39m \u001b[43m    \u001b[49m\u001b[43m_check_type\u001b[49m\u001b[43m=\u001b[49m\u001b[43mkwargs\u001b[49m\u001b[43m[\u001b[49m\u001b[33;43m\"\u001b[39;49m\u001b[33;43m_check_return_type\u001b[39;49m\u001b[33;43m\"\u001b[39;49m\u001b[43m]\u001b[49m\u001b[43m,\u001b[49m\n\u001b[32m    148\u001b[39m \u001b[43m    \u001b[49m\u001b[43m_return_http_data_only\u001b[49m\u001b[43m=\u001b[49m\u001b[43mkwargs\u001b[49m\u001b[43m[\u001b[49m\u001b[33;43m\"\u001b[39;49m\u001b[33;43m_return_http_data_only\u001b[39;49m\u001b[33;43m\"\u001b[39;49m\u001b[43m]\u001b[49m\u001b[43m,\u001b[49m\n\u001b[32m    149\u001b[39m \u001b[43m    \u001b[49m\u001b[43m_preload_content\u001b[49m\u001b[43m=\u001b[49m\u001b[43mkwargs\u001b[49m\u001b[43m[\u001b[49m\u001b[33;43m\"\u001b[39;49m\u001b[33;43m_preload_content\u001b[39;49m\u001b[33;43m\"\u001b[39;49m\u001b[43m]\u001b[49m\u001b[43m,\u001b[49m\n\u001b[32m    150\u001b[39m \u001b[43m    \u001b[49m\u001b[43m_request_timeout\u001b[49m\u001b[43m=\u001b[49m\u001b[43mkwargs\u001b[49m\u001b[43m[\u001b[49m\u001b[33;43m\"\u001b[39;49m\u001b[33;43m_request_timeout\u001b[39;49m\u001b[33;43m\"\u001b[39;49m\u001b[43m]\u001b[49m\u001b[43m,\u001b[49m\n\u001b[32m    151\u001b[39m \u001b[43m    \u001b[49m\u001b[43m_host\u001b[49m\u001b[43m=\u001b[49m\u001b[43m_host\u001b[49m\u001b[43m,\u001b[49m\n\u001b[32m    152\u001b[39m \u001b[43m    \u001b[49m\u001b[43mcollection_formats\u001b[49m\u001b[43m=\u001b[49m\u001b[43mparams\u001b[49m\u001b[43m[\u001b[49m\u001b[33;43m\"\u001b[39;49m\u001b[33;43mcollection_format\u001b[39;49m\u001b[33;43m\"\u001b[39;49m\u001b[43m]\u001b[49m\u001b[43m,\u001b[49m\n\u001b[32m    153\u001b[39m \u001b[43m\u001b[49m\u001b[43m)\u001b[49m\n",
      "\u001b[36mFile \u001b[39m\u001b[32m~/miniconda3/envs/myenv/lib/python3.11/site-packages/pinecone/openapi_support/api_client.py:306\u001b[39m, in \u001b[36mApiClient.call_api\u001b[39m\u001b[34m(self, resource_path, method, path_params, query_params, header_params, body, post_params, files, response_type, auth_settings, async_req, async_threadpool_executor, _return_http_data_only, collection_formats, _preload_content, _request_timeout, _host, _check_type)\u001b[39m\n\u001b[32m    285\u001b[39m     \u001b[38;5;28;01mreturn\u001b[39;00m \u001b[38;5;28mself\u001b[39m.threadpool_executor.submit(\n\u001b[32m    286\u001b[39m         \u001b[38;5;28mself\u001b[39m.__call_api,\n\u001b[32m    287\u001b[39m         resource_path,\n\u001b[32m   (...)\u001b[39m\u001b[32m    302\u001b[39m         _check_type,\n\u001b[32m    303\u001b[39m     )\n\u001b[32m    305\u001b[39m \u001b[38;5;28;01mif\u001b[39;00m \u001b[38;5;129;01mnot\u001b[39;00m async_req:\n\u001b[32m--> \u001b[39m\u001b[32m306\u001b[39m     \u001b[38;5;28;01mreturn\u001b[39;00m \u001b[38;5;28;43mself\u001b[39;49m\u001b[43m.\u001b[49m\u001b[43m__call_api\u001b[49m\u001b[43m(\u001b[49m\n\u001b[32m    307\u001b[39m \u001b[43m        \u001b[49m\u001b[43mresource_path\u001b[49m\u001b[43m,\u001b[49m\n\u001b[32m    308\u001b[39m \u001b[43m        \u001b[49m\u001b[43mmethod\u001b[49m\u001b[43m,\u001b[49m\n\u001b[32m    309\u001b[39m \u001b[43m        \u001b[49m\u001b[43mpath_params\u001b[49m\u001b[43m,\u001b[49m\n\u001b[32m    310\u001b[39m \u001b[43m        \u001b[49m\u001b[43mquery_params\u001b[49m\u001b[43m,\u001b[49m\n\u001b[32m    311\u001b[39m \u001b[43m        \u001b[49m\u001b[43mheader_params\u001b[49m\u001b[43m,\u001b[49m\n\u001b[32m    312\u001b[39m \u001b[43m        \u001b[49m\u001b[43mbody\u001b[49m\u001b[43m,\u001b[49m\n\u001b[32m    313\u001b[39m \u001b[43m        \u001b[49m\u001b[43mpost_params\u001b[49m\u001b[43m,\u001b[49m\n\u001b[32m    314\u001b[39m \u001b[43m        \u001b[49m\u001b[43mfiles\u001b[49m\u001b[43m,\u001b[49m\n\u001b[32m    315\u001b[39m \u001b[43m        \u001b[49m\u001b[43mresponse_type\u001b[49m\u001b[43m,\u001b[49m\n\u001b[32m    316\u001b[39m \u001b[43m        \u001b[49m\u001b[43mauth_settings\u001b[49m\u001b[43m,\u001b[49m\n\u001b[32m    317\u001b[39m \u001b[43m        \u001b[49m\u001b[43m_return_http_data_only\u001b[49m\u001b[43m,\u001b[49m\n\u001b[32m    318\u001b[39m \u001b[43m        \u001b[49m\u001b[43mcollection_formats\u001b[49m\u001b[43m,\u001b[49m\n\u001b[32m    319\u001b[39m \u001b[43m        \u001b[49m\u001b[43m_preload_content\u001b[49m\u001b[43m,\u001b[49m\n\u001b[32m    320\u001b[39m \u001b[43m        \u001b[49m\u001b[43m_request_timeout\u001b[49m\u001b[43m,\u001b[49m\n\u001b[32m    321\u001b[39m \u001b[43m        \u001b[49m\u001b[43m_host\u001b[49m\u001b[43m,\u001b[49m\n\u001b[32m    322\u001b[39m \u001b[43m        \u001b[49m\u001b[43m_check_type\u001b[49m\u001b[43m,\u001b[49m\n\u001b[32m    323\u001b[39m \u001b[43m    \u001b[49m\u001b[43m)\u001b[49m\n\u001b[32m    325\u001b[39m \u001b[38;5;28;01mreturn\u001b[39;00m \u001b[38;5;28mself\u001b[39m.pool.apply_async(\n\u001b[32m    326\u001b[39m     \u001b[38;5;28mself\u001b[39m.__call_api,\n\u001b[32m    327\u001b[39m     (\n\u001b[32m   (...)\u001b[39m\u001b[32m    344\u001b[39m     ),\n\u001b[32m    345\u001b[39m )\n",
      "\u001b[36mFile \u001b[39m\u001b[32m~/miniconda3/envs/myenv/lib/python3.11/site-packages/pinecone/openapi_support/api_client.py:182\u001b[39m, in \u001b[36mApiClient.__call_api\u001b[39m\u001b[34m(self, resource_path, method, path_params, query_params, header_params, body, post_params, files, response_type, auth_settings, _return_http_data_only, collection_formats, _preload_content, _request_timeout, _host, _check_type)\u001b[39m\n\u001b[32m    180\u001b[39m \u001b[38;5;28;01mexcept\u001b[39;00m PineconeApiException \u001b[38;5;28;01mas\u001b[39;00m e:\n\u001b[32m    181\u001b[39m     e.body = e.body.decode(\u001b[33m\"\u001b[39m\u001b[33mutf-8\u001b[39m\u001b[33m\"\u001b[39m)\n\u001b[32m--> \u001b[39m\u001b[32m182\u001b[39m     \u001b[38;5;28;01mraise\u001b[39;00m e\n\u001b[32m    184\u001b[39m \u001b[38;5;28mself\u001b[39m.last_response = response_data\n\u001b[32m    186\u001b[39m return_data = response_data\n",
      "\u001b[36mFile \u001b[39m\u001b[32m~/miniconda3/envs/myenv/lib/python3.11/site-packages/pinecone/openapi_support/api_client.py:170\u001b[39m, in \u001b[36mApiClient.__call_api\u001b[39m\u001b[34m(self, resource_path, method, path_params, query_params, header_params, body, post_params, files, response_type, auth_settings, _return_http_data_only, collection_formats, _preload_content, _request_timeout, _host, _check_type)\u001b[39m\n\u001b[32m    161\u001b[39m url = build_request_url(\n\u001b[32m    162\u001b[39m     config=config,\n\u001b[32m    163\u001b[39m     processed_path_params=path_params_tuple,\n\u001b[32m    164\u001b[39m     resource_path=resource_path,\n\u001b[32m    165\u001b[39m     _host=_host,\n\u001b[32m    166\u001b[39m )\n\u001b[32m    168\u001b[39m \u001b[38;5;28;01mtry\u001b[39;00m:\n\u001b[32m    169\u001b[39m     \u001b[38;5;66;03m# perform request and return response\u001b[39;00m\n\u001b[32m--> \u001b[39m\u001b[32m170\u001b[39m     response_data = \u001b[38;5;28;43mself\u001b[39;49m\u001b[43m.\u001b[49m\u001b[43mrequest\u001b[49m\u001b[43m(\u001b[49m\n\u001b[32m    171\u001b[39m \u001b[43m        \u001b[49m\u001b[43mmethod\u001b[49m\u001b[43m,\u001b[49m\n\u001b[32m    172\u001b[39m \u001b[43m        \u001b[49m\u001b[43murl\u001b[49m\u001b[43m,\u001b[49m\n\u001b[32m    173\u001b[39m \u001b[43m        \u001b[49m\u001b[43mquery_params\u001b[49m\u001b[43m=\u001b[49m\u001b[43mprocessed_query_params\u001b[49m\u001b[43m,\u001b[49m\n\u001b[32m    174\u001b[39m \u001b[43m        \u001b[49m\u001b[43mheaders\u001b[49m\u001b[43m=\u001b[49m\u001b[43mheaders_tuple\u001b[49m\u001b[43m,\u001b[49m\n\u001b[32m    175\u001b[39m \u001b[43m        \u001b[49m\u001b[43mpost_params\u001b[49m\u001b[43m=\u001b[49m\u001b[43mprocessed_post_params\u001b[49m\u001b[43m,\u001b[49m\n\u001b[32m    176\u001b[39m \u001b[43m        \u001b[49m\u001b[43mbody\u001b[49m\u001b[43m=\u001b[49m\u001b[43mbody\u001b[49m\u001b[43m,\u001b[49m\n\u001b[32m    177\u001b[39m \u001b[43m        \u001b[49m\u001b[43m_preload_content\u001b[49m\u001b[43m=\u001b[49m\u001b[43m_preload_content\u001b[49m\u001b[43m,\u001b[49m\n\u001b[32m    178\u001b[39m \u001b[43m        \u001b[49m\u001b[43m_request_timeout\u001b[49m\u001b[43m=\u001b[49m\u001b[43m_request_timeout\u001b[49m\u001b[43m,\u001b[49m\n\u001b[32m    179\u001b[39m \u001b[43m    \u001b[49m\u001b[43m)\u001b[49m\n\u001b[32m    180\u001b[39m \u001b[38;5;28;01mexcept\u001b[39;00m PineconeApiException \u001b[38;5;28;01mas\u001b[39;00m e:\n\u001b[32m    181\u001b[39m     e.body = e.body.decode(\u001b[33m\"\u001b[39m\u001b[33mutf-8\u001b[39m\u001b[33m\"\u001b[39m)\n",
      "\u001b[36mFile \u001b[39m\u001b[32m~/miniconda3/envs/myenv/lib/python3.11/site-packages/pinecone/openapi_support/api_client.py:386\u001b[39m, in \u001b[36mApiClient.request\u001b[39m\u001b[34m(self, method, url, query_params, headers, post_params, body, _preload_content, _request_timeout)\u001b[39m\n\u001b[32m    376\u001b[39m     \u001b[38;5;28;01mreturn\u001b[39;00m \u001b[38;5;28mself\u001b[39m.rest_client.OPTIONS(\n\u001b[32m    377\u001b[39m         url,\n\u001b[32m    378\u001b[39m         query_params=query_params,\n\u001b[32m   (...)\u001b[39m\u001b[32m    383\u001b[39m         body=body,\n\u001b[32m    384\u001b[39m     )\n\u001b[32m    385\u001b[39m \u001b[38;5;28;01melif\u001b[39;00m method == \u001b[33m\"\u001b[39m\u001b[33mPOST\u001b[39m\u001b[33m\"\u001b[39m:\n\u001b[32m--> \u001b[39m\u001b[32m386\u001b[39m     \u001b[38;5;28;01mreturn\u001b[39;00m \u001b[38;5;28;43mself\u001b[39;49m\u001b[43m.\u001b[49m\u001b[43mrest_client\u001b[49m\u001b[43m.\u001b[49m\u001b[43mPOST\u001b[49m\u001b[43m(\u001b[49m\n\u001b[32m    387\u001b[39m \u001b[43m        \u001b[49m\u001b[43murl\u001b[49m\u001b[43m,\u001b[49m\n\u001b[32m    388\u001b[39m \u001b[43m        \u001b[49m\u001b[43mquery_params\u001b[49m\u001b[43m=\u001b[49m\u001b[43mquery_params\u001b[49m\u001b[43m,\u001b[49m\n\u001b[32m    389\u001b[39m \u001b[43m        \u001b[49m\u001b[43mheaders\u001b[49m\u001b[43m=\u001b[49m\u001b[43mheaders\u001b[49m\u001b[43m,\u001b[49m\n\u001b[32m    390\u001b[39m \u001b[43m        \u001b[49m\u001b[43mpost_params\u001b[49m\u001b[43m=\u001b[49m\u001b[43mpost_params\u001b[49m\u001b[43m,\u001b[49m\n\u001b[32m    391\u001b[39m \u001b[43m        \u001b[49m\u001b[43m_preload_content\u001b[49m\u001b[43m=\u001b[49m\u001b[43m_preload_content\u001b[49m\u001b[43m,\u001b[49m\n\u001b[32m    392\u001b[39m \u001b[43m        \u001b[49m\u001b[43m_request_timeout\u001b[49m\u001b[43m=\u001b[49m\u001b[43m_request_timeout\u001b[49m\u001b[43m,\u001b[49m\n\u001b[32m    393\u001b[39m \u001b[43m        \u001b[49m\u001b[43mbody\u001b[49m\u001b[43m=\u001b[49m\u001b[43mbody\u001b[49m\u001b[43m,\u001b[49m\n\u001b[32m    394\u001b[39m \u001b[43m    \u001b[49m\u001b[43m)\u001b[49m\n\u001b[32m    395\u001b[39m \u001b[38;5;28;01melif\u001b[39;00m method == \u001b[33m\"\u001b[39m\u001b[33mPUT\u001b[39m\u001b[33m\"\u001b[39m:\n\u001b[32m    396\u001b[39m     \u001b[38;5;28;01mreturn\u001b[39;00m \u001b[38;5;28mself\u001b[39m.rest_client.PUT(\n\u001b[32m    397\u001b[39m         url,\n\u001b[32m    398\u001b[39m         query_params=query_params,\n\u001b[32m   (...)\u001b[39m\u001b[32m    403\u001b[39m         body=body,\n\u001b[32m    404\u001b[39m     )\n",
      "\u001b[36mFile \u001b[39m\u001b[32m~/miniconda3/envs/myenv/lib/python3.11/site-packages/pinecone/openapi_support/rest_utils.py:146\u001b[39m, in \u001b[36mRestClientInterface.POST\u001b[39m\u001b[34m(self, url, headers, query_params, post_params, body, _preload_content, _request_timeout)\u001b[39m\n\u001b[32m    136\u001b[39m \u001b[38;5;28;01mdef\u001b[39;00m\u001b[38;5;250m \u001b[39m\u001b[34mPOST\u001b[39m(\n\u001b[32m    137\u001b[39m     \u001b[38;5;28mself\u001b[39m,\n\u001b[32m    138\u001b[39m     url,\n\u001b[32m   (...)\u001b[39m\u001b[32m    144\u001b[39m     _request_timeout=\u001b[38;5;28;01mNone\u001b[39;00m,\n\u001b[32m    145\u001b[39m ):\n\u001b[32m--> \u001b[39m\u001b[32m146\u001b[39m     \u001b[38;5;28;01mreturn\u001b[39;00m \u001b[38;5;28;43mself\u001b[39;49m\u001b[43m.\u001b[49m\u001b[43mrequest\u001b[49m\u001b[43m(\u001b[49m\n\u001b[32m    147\u001b[39m \u001b[43m        \u001b[49m\u001b[33;43m\"\u001b[39;49m\u001b[33;43mPOST\u001b[39;49m\u001b[33;43m\"\u001b[39;49m\u001b[43m,\u001b[49m\n\u001b[32m    148\u001b[39m \u001b[43m        \u001b[49m\u001b[43murl\u001b[49m\u001b[43m,\u001b[49m\n\u001b[32m    149\u001b[39m \u001b[43m        \u001b[49m\u001b[43mheaders\u001b[49m\u001b[43m=\u001b[49m\u001b[43mheaders\u001b[49m\u001b[43m,\u001b[49m\n\u001b[32m    150\u001b[39m \u001b[43m        \u001b[49m\u001b[43mquery_params\u001b[49m\u001b[43m=\u001b[49m\u001b[43mquery_params\u001b[49m\u001b[43m,\u001b[49m\n\u001b[32m    151\u001b[39m \u001b[43m        \u001b[49m\u001b[43mpost_params\u001b[49m\u001b[43m=\u001b[49m\u001b[43mpost_params\u001b[49m\u001b[43m,\u001b[49m\n\u001b[32m    152\u001b[39m \u001b[43m        \u001b[49m\u001b[43m_preload_content\u001b[49m\u001b[43m=\u001b[49m\u001b[43m_preload_content\u001b[49m\u001b[43m,\u001b[49m\n\u001b[32m    153\u001b[39m \u001b[43m        \u001b[49m\u001b[43m_request_timeout\u001b[49m\u001b[43m=\u001b[49m\u001b[43m_request_timeout\u001b[49m\u001b[43m,\u001b[49m\n\u001b[32m    154\u001b[39m \u001b[43m        \u001b[49m\u001b[43mbody\u001b[49m\u001b[43m=\u001b[49m\u001b[43mbody\u001b[49m\u001b[43m,\u001b[49m\n\u001b[32m    155\u001b[39m \u001b[43m    \u001b[49m\u001b[43m)\u001b[49m\n",
      "\u001b[36mFile \u001b[39m\u001b[32m~/miniconda3/envs/myenv/lib/python3.11/site-packages/pinecone/openapi_support/rest_urllib3.py:267\u001b[39m, in \u001b[36mUrllib3RestClient.request\u001b[39m\u001b[34m(self, method, url, query_params, headers, body, post_params, _preload_content, _request_timeout)\u001b[39m\n\u001b[32m    264\u001b[39m     \u001b[38;5;66;03m# log response body\u001b[39;00m\n\u001b[32m    265\u001b[39m     logger.debug(\u001b[33m\"\u001b[39m\u001b[33mresponse body: \u001b[39m\u001b[38;5;132;01m%s\u001b[39;00m\u001b[33m\"\u001b[39m, r.data)\n\u001b[32m--> \u001b[39m\u001b[32m267\u001b[39m \u001b[38;5;28;01mreturn\u001b[39;00m \u001b[43mraise_exceptions_or_return\u001b[49m\u001b[43m(\u001b[49m\u001b[43mr\u001b[49m\u001b[43m)\u001b[49m\n",
      "\u001b[36mFile \u001b[39m\u001b[32m~/miniconda3/envs/myenv/lib/python3.11/site-packages/pinecone/openapi_support/rest_utils.py:38\u001b[39m, in \u001b[36mraise_exceptions_or_return\u001b[39m\u001b[34m(r)\u001b[39m\n\u001b[32m     36\u001b[39m \u001b[38;5;28;01mif\u001b[39;00m \u001b[38;5;129;01mnot\u001b[39;00m \u001b[32m200\u001b[39m <= r.status <= \u001b[32m299\u001b[39m:\n\u001b[32m     37\u001b[39m     \u001b[38;5;28;01mif\u001b[39;00m r.status == \u001b[32m401\u001b[39m:\n\u001b[32m---> \u001b[39m\u001b[32m38\u001b[39m         \u001b[38;5;28;01mraise\u001b[39;00m UnauthorizedException(http_resp=r)\n\u001b[32m     40\u001b[39m     \u001b[38;5;28;01mif\u001b[39;00m r.status == \u001b[32m403\u001b[39m:\n\u001b[32m     41\u001b[39m         \u001b[38;5;28;01mraise\u001b[39;00m ForbiddenException(http_resp=r)\n",
      "\u001b[31mUnauthorizedException\u001b[39m: (401)\nReason: Unauthorized\nHTTP response headers: HTTPHeaderDict({'Date': 'Sat, 23 Aug 2025 04:32:29 GMT', 'Content-Type': 'text/plain', 'Content-Length': '12', 'Connection': 'keep-alive', 'x-pinecone-auth-rejected-reason': 'Malformed domain', 'www-authenticate': 'Malformed domain', 'server': 'envoy'})\nHTTP response body: Unauthorized\n"
     ]
    }
   ],
   "source": [
    "# --- 8. Run the RAG Agent ---\n",
    "print(\"\\n--- RAG Agent is Ready ---\")\n",
    "chat_history = []\n",
    "while True:\n",
    "    query = input(\"You: \")\n",
    "    if query.lower() in [\"exit\", \"quit\"]:\n",
    "        break\n",
    "    \n",
    "    result = qa_chain({\"question\": query, \"chat_history\": chat_history})\n",
    "    \n",
    "    # Rerank the retrieved documents\n",
    "    reranked_docs = reranker.compress_documents(\n",
    "        documents=result['source_documents'],\n",
    "        query=query\n",
    "    )\n",
    "    \n",
    "    print(\"\\n--- Answer ---\")\n",
    "    print(result['answer'])\n",
    "    print(\"\\n--- Reranked Sources ---\")\n",
    "    for doc in reranked_docs:\n",
    "        print(f\"Source: {doc.metadata['source']}, Page: {doc.metadata['page']}\")\n",
    "        print(f\"Content: {doc.page_content[:200]}...\")\n",
    "        print(\"-\" * 20)\n",
    "        \n",
    "    chat_history.append((query, result[\"answer\"]))"
   ]
  },
  {
   "cell_type": "code",
   "execution_count": 18,
   "id": "3a649664",
   "metadata": {},
   "outputs": [],
   "source": [
    "if pc.has_index(index_name):\n",
    "    pc.delete_index(index_name)"
   ]
  },
  {
   "cell_type": "code",
   "execution_count": 1,
   "id": "603825cc",
   "metadata": {},
   "outputs": [
    {
     "data": {
      "application/vnd.microsoft.datawrangler.viewer.v0+json": {
       "columns": [
        {
         "name": "index",
         "rawType": "int64",
         "type": "integer"
        },
        {
         "name": "Abstract_ID",
         "rawType": "object",
         "type": "string"
        },
        {
         "name": "Page_Number",
         "rawType": "int64",
         "type": "integer"
        },
        {
         "name": "Source",
         "rawType": "object",
         "type": "string"
        },
        {
         "name": "Property",
         "rawType": "object",
         "type": "string"
        },
        {
         "name": "Value",
         "rawType": "object",
         "type": "string"
        }
       ],
       "ref": "7e655120-0a3b-4c23-8770-fd7b958825d9",
       "rows": [
        [
         "0",
         "A2",
         "0",
         "Carbon_adsorption.pdf",
         "Adsorbent Material",
         "Zeolitic imidazolate framework -8 (ZIF -8) impregnated with aminoethylethanolamine (AEEA)"
        ],
        [
         "1",
         "A2",
         "0",
         "Carbon_adsorption.pdf",
         "Pressure Range",
         "Not specified"
        ],
        [
         "2",
         "A2",
         "0",
         "Carbon_adsorption.pdf",
         "Temperature Range",
         "Not specified"
        ],
        [
         "3",
         "A2",
         "0",
         "Carbon_adsorption.pdf",
         "Maximum CO2 Adsorption Capacity",
         "Not specified"
        ],
        [
         "4",
         "A2",
         "0",
         "Carbon_adsorption.pdf",
         "Adsorption Enhancement",
         "Not specified"
        ],
        [
         "5",
         "A2",
         "0",
         "Carbon_adsorption.pdf",
         "Adsorbent Material",
         "30 % AEEA treated ZIF-8"
        ],
        [
         "6",
         "A2",
         "0",
         "Carbon_adsorption.pdf",
         "Pressure Range",
         "0 to 30 bar"
        ],
        [
         "7",
         "A2",
         "0",
         "Carbon_adsorption.pdf",
         "Temperature Range",
         "25 to 80 °C"
        ],
        [
         "8",
         "A2",
         "0",
         "Carbon_adsorption.pdf",
         "Maximum CO2 Adsorption Capacity",
         "3.581 mmol/g"
        ],
        [
         "9",
         "A2",
         "0",
         "Carbon_adsorption.pdf",
         "Adsorption Enhancement",
         "4.15 times higher than pure ZIF-8"
        ],
        [
         "10",
         "A2",
         "0",
         "Carbon_adsorption.pdf",
         "Adsorbent Material",
         "Amine incorporated ZIF-8"
        ],
        [
         "11",
         "A2",
         "0",
         "Carbon_adsorption.pdf",
         "Pressure Range",
         "1 bar"
        ],
        [
         "12",
         "A2",
         "0",
         "Carbon_adsorption.pdf",
         "Temperature Range",
         "25 °C"
        ],
        [
         "13",
         "A2",
         "0",
         "Carbon_adsorption.pdf",
         "Maximum CO2 Adsorption Capacity",
         "Not specified, but 0.862 mmol/g for pure ZIF-8 and 4.15 times higher for amine incorporated ZIF-8"
        ],
        [
         "14",
         "A2",
         "0",
         "Carbon_adsorption.pdf",
         "Adsorption Enhancement",
         "4.15 times higher than pure ZIF-8"
        ],
        [
         "15",
         "A3",
         "0",
         "Carbon_adsorption.pdf",
         "Adsorbent Material",
         "MCM-41 silica"
        ],
        [
         "16",
         "A3",
         "0",
         "Carbon_adsorption.pdf",
         "Pressure Range",
         "Not specified"
        ],
        [
         "17",
         "A3",
         "0",
         "Carbon_adsorption.pdf",
         "Temperature Range",
         "Not specified"
        ],
        [
         "18",
         "A3",
         "0",
         "Carbon_adsorption.pdf",
         "Maximum CO2 Adsorption Capacity",
         "Not specified"
        ],
        [
         "19",
         "A3",
         "0",
         "Carbon_adsorption.pdf",
         "Adsorption Enhancement",
         "Not specified"
        ],
        [
         "20",
         "A3",
         "0",
         "Carbon_adsorption.pdf",
         "Adsorbent Material",
         "MCM-41"
        ],
        [
         "21",
         "A3",
         "0",
         "Carbon_adsorption.pdf",
         "Pressure Range",
         "50 bar"
        ],
        [
         "22",
         "A3",
         "0",
         "Carbon_adsorption.pdf",
         "Temperature Range",
         "25 °C"
        ],
        [
         "23",
         "A3",
         "0",
         "Carbon_adsorption.pdf",
         "Maximum CO2 Adsorption Capacity",
         "12.8 mmol g−1"
        ],
        [
         "24",
         "A3",
         "0",
         "Carbon_adsorption.pdf",
         "Adsorption Enhancement",
         "outperforming silicas produced via conventional methods and comparable to amine-modified silicas"
        ],
        [
         "25",
         "A4",
         "0",
         "Carbon_adsorption.pdf",
         "Adsorbent Material",
         "Biochar"
        ],
        [
         "26",
         "A4",
         "0",
         "Carbon_adsorption.pdf",
         "Pressure Range",
         "Not specified"
        ],
        [
         "27",
         "A4",
         "0",
         "Carbon_adsorption.pdf",
         "Temperature Range",
         "550 °C"
        ],
        [
         "28",
         "A4",
         "0",
         "Carbon_adsorption.pdf",
         "Maximum CO2 Adsorption Capacity",
         "Not specified"
        ],
        [
         "29",
         "A4",
         "0",
         "Carbon_adsorption.pdf",
         "Adsorption Enhancement",
         "Not specified"
        ],
        [
         "30",
         "A5",
         "1",
         "Carbon_adsorption.pdf",
         "Adsorbent Material",
         "biochar"
        ],
        [
         "31",
         "A5",
         "1",
         "Carbon_adsorption.pdf",
         "Pressure Range",
         "up to 1.6 MPa"
        ],
        [
         "32",
         "A5",
         "1",
         "Carbon_adsorption.pdf",
         "Temperature Range",
         "550 °C"
        ],
        [
         "33",
         "A5",
         "1",
         "Carbon_adsorption.pdf",
         "Maximum CO2 Adsorption Capacity",
         "4.54 mmol/g"
        ],
        [
         "34",
         "A5",
         "1",
         "Carbon_adsorption.pdf",
         "Adsorption Enhancement",
         "Not specified"
        ],
        [
         "35",
         "A5",
         "1",
         "Carbon_adsorption.pdf",
         "Adsorbent Material",
         "Biochar"
        ],
        [
         "36",
         "A5",
         "1",
         "Carbon_adsorption.pdf",
         "Pressure Range",
         "Not specified"
        ],
        [
         "37",
         "A5",
         "1",
         "Carbon_adsorption.pdf",
         "Temperature Range",
         "550 ℃"
        ],
        [
         "38",
         "A5",
         "1",
         "Carbon_adsorption.pdf",
         "Maximum CO2 Adsorption Capacity",
         "Not specified"
        ],
        [
         "39",
         "A5",
         "1",
         "Carbon_adsorption.pdf",
         "Adsorption Enhancement",
         "Yes, compared to pristine BC with a significant increase in specific surface area from 34.5 m2/g to 974.5 m2/g"
        ],
        [
         "40",
         "A5",
         "1",
         "Carbon_adsorption.pdf",
         "Adsorbent Material",
         "BC/M/S/T550/R15/H120 (biochar)"
        ],
        [
         "41",
         "A5",
         "1",
         "Carbon_adsorption.pdf",
         "Pressure Range",
         "1.6 MPa"
        ],
        [
         "42",
         "A5",
         "1",
         "Carbon_adsorption.pdf",
         "Temperature Range",
         "Room temperature"
        ],
        [
         "43",
         "A5",
         "1",
         "Carbon_adsorption.pdf",
         "Maximum CO2 Adsorption Capacity",
         "3.75 mmol/g"
        ],
        [
         "44",
         "A5",
         "1",
         "Carbon_adsorption.pdf",
         "Adsorption Enhancement",
         "3.125 mmol/g (3.75 mmol/g - 1.2 mmol/g for pristine BC)"
        ],
        [
         "45",
         "A5",
         "1",
         "Carbon_adsorption.pdf",
         "Adsorbent Material",
         "biochar"
        ],
        [
         "46",
         "A5",
         "1",
         "Carbon_adsorption.pdf",
         "Pressure Range",
         "Not specified"
        ],
        [
         "47",
         "A5",
         "1",
         "Carbon_adsorption.pdf",
         "Temperature Range",
         "Not specified"
        ],
        [
         "48",
         "A5",
         "1",
         "Carbon_adsorption.pdf",
         "Maximum CO2 Adsorption Capacity",
         "Not specified"
        ],
        [
         "49",
         "A5",
         "1",
         "Carbon_adsorption.pdf",
         "Adsorption Enhancement",
         "Not specified"
        ]
       ],
       "shape": {
        "columns": 5,
        "rows": 230
       }
      },
      "text/html": [
       "<div>\n",
       "<style scoped>\n",
       "    .dataframe tbody tr th:only-of-type {\n",
       "        vertical-align: middle;\n",
       "    }\n",
       "\n",
       "    .dataframe tbody tr th {\n",
       "        vertical-align: top;\n",
       "    }\n",
       "\n",
       "    .dataframe thead th {\n",
       "        text-align: right;\n",
       "    }\n",
       "</style>\n",
       "<table border=\"1\" class=\"dataframe\">\n",
       "  <thead>\n",
       "    <tr style=\"text-align: right;\">\n",
       "      <th></th>\n",
       "      <th>Abstract_ID</th>\n",
       "      <th>Page_Number</th>\n",
       "      <th>Source</th>\n",
       "      <th>Property</th>\n",
       "      <th>Value</th>\n",
       "    </tr>\n",
       "  </thead>\n",
       "  <tbody>\n",
       "    <tr>\n",
       "      <th>0</th>\n",
       "      <td>A2</td>\n",
       "      <td>0</td>\n",
       "      <td>Carbon_adsorption.pdf</td>\n",
       "      <td>Adsorbent Material</td>\n",
       "      <td>Zeolitic imidazolate framework -8 (ZIF -8) imp...</td>\n",
       "    </tr>\n",
       "    <tr>\n",
       "      <th>1</th>\n",
       "      <td>A2</td>\n",
       "      <td>0</td>\n",
       "      <td>Carbon_adsorption.pdf</td>\n",
       "      <td>Pressure Range</td>\n",
       "      <td>Not specified</td>\n",
       "    </tr>\n",
       "    <tr>\n",
       "      <th>2</th>\n",
       "      <td>A2</td>\n",
       "      <td>0</td>\n",
       "      <td>Carbon_adsorption.pdf</td>\n",
       "      <td>Temperature Range</td>\n",
       "      <td>Not specified</td>\n",
       "    </tr>\n",
       "    <tr>\n",
       "      <th>3</th>\n",
       "      <td>A2</td>\n",
       "      <td>0</td>\n",
       "      <td>Carbon_adsorption.pdf</td>\n",
       "      <td>Maximum CO2 Adsorption Capacity</td>\n",
       "      <td>Not specified</td>\n",
       "    </tr>\n",
       "    <tr>\n",
       "      <th>4</th>\n",
       "      <td>A2</td>\n",
       "      <td>0</td>\n",
       "      <td>Carbon_adsorption.pdf</td>\n",
       "      <td>Adsorption Enhancement</td>\n",
       "      <td>Not specified</td>\n",
       "    </tr>\n",
       "    <tr>\n",
       "      <th>...</th>\n",
       "      <td>...</td>\n",
       "      <td>...</td>\n",
       "      <td>...</td>\n",
       "      <td>...</td>\n",
       "      <td>...</td>\n",
       "    </tr>\n",
       "    <tr>\n",
       "      <th>225</th>\n",
       "      <td>A21</td>\n",
       "      <td>8</td>\n",
       "      <td>Carbon_adsorption.pdf</td>\n",
       "      <td>Adsorbent Material</td>\n",
       "      <td>MPS-TEPA-30</td>\n",
       "    </tr>\n",
       "    <tr>\n",
       "      <th>226</th>\n",
       "      <td>A21</td>\n",
       "      <td>8</td>\n",
       "      <td>Carbon_adsorption.pdf</td>\n",
       "      <td>Pressure Range</td>\n",
       "      <td>&lt;0.01 bar to 10 mbar</td>\n",
       "    </tr>\n",
       "    <tr>\n",
       "      <th>227</th>\n",
       "      <td>A21</td>\n",
       "      <td>8</td>\n",
       "      <td>Carbon_adsorption.pdf</td>\n",
       "      <td>Temperature Range</td>\n",
       "      <td>Not specified, but stable up to 473 K</td>\n",
       "    </tr>\n",
       "    <tr>\n",
       "      <th>228</th>\n",
       "      <td>A21</td>\n",
       "      <td>8</td>\n",
       "      <td>Carbon_adsorption.pdf</td>\n",
       "      <td>Maximum CO2 Adsorption Capacity</td>\n",
       "      <td>1.5 mmol g−1</td>\n",
       "    </tr>\n",
       "    <tr>\n",
       "      <th>229</th>\n",
       "      <td>A21</td>\n",
       "      <td>8</td>\n",
       "      <td>Carbon_adsorption.pdf</td>\n",
       "      <td>Adsorption Enhancement</td>\n",
       "      <td>Not specified</td>\n",
       "    </tr>\n",
       "  </tbody>\n",
       "</table>\n",
       "<p>230 rows × 5 columns</p>\n",
       "</div>"
      ],
      "text/plain": [
       "    Abstract_ID  Page_Number                 Source  \\\n",
       "0            A2            0  Carbon_adsorption.pdf   \n",
       "1            A2            0  Carbon_adsorption.pdf   \n",
       "2            A2            0  Carbon_adsorption.pdf   \n",
       "3            A2            0  Carbon_adsorption.pdf   \n",
       "4            A2            0  Carbon_adsorption.pdf   \n",
       "..          ...          ...                    ...   \n",
       "225         A21            8  Carbon_adsorption.pdf   \n",
       "226         A21            8  Carbon_adsorption.pdf   \n",
       "227         A21            8  Carbon_adsorption.pdf   \n",
       "228         A21            8  Carbon_adsorption.pdf   \n",
       "229         A21            8  Carbon_adsorption.pdf   \n",
       "\n",
       "                            Property  \\\n",
       "0                 Adsorbent Material   \n",
       "1                     Pressure Range   \n",
       "2                  Temperature Range   \n",
       "3    Maximum CO2 Adsorption Capacity   \n",
       "4             Adsorption Enhancement   \n",
       "..                               ...   \n",
       "225               Adsorbent Material   \n",
       "226                   Pressure Range   \n",
       "227                Temperature Range   \n",
       "228  Maximum CO2 Adsorption Capacity   \n",
       "229           Adsorption Enhancement   \n",
       "\n",
       "                                                 Value  \n",
       "0    Zeolitic imidazolate framework -8 (ZIF -8) imp...  \n",
       "1                                        Not specified  \n",
       "2                                        Not specified  \n",
       "3                                        Not specified  \n",
       "4                                        Not specified  \n",
       "..                                                 ...  \n",
       "225                                        MPS-TEPA-30  \n",
       "226                               <0.01 bar to 10 mbar  \n",
       "227              Not specified, but stable up to 473 K  \n",
       "228                                       1.5 mmol g−1  \n",
       "229                                      Not specified  \n",
       "\n",
       "[230 rows x 5 columns]"
      ]
     },
     "execution_count": 1,
     "metadata": {},
     "output_type": "execute_result"
    }
   ],
   "source": [
    "import pandas as pd\n",
    "data = pd.read_csv('co2_adsorption_properties_20250823_210213.csv')\n",
    "data"
   ]
  },
  {
   "cell_type": "code",
   "execution_count": 8,
   "id": "26867a15",
   "metadata": {},
   "outputs": [
    {
     "data": {
      "text/plain": [
       "[Document(metadata={'producer': 'LibreOffice 24.2', 'creator': 'Writer', 'creationdate': '2025-08-23T21:25:38+05:30', 'author': 'Kritesh Gupta', 'source': 'Carbon_adsorption1.pdf', 'total_pages': 11, 'page': 0, 'page_label': '1'}, page_content='Sn\\no. \\nText data\\n1. Abstract:  Carbon  dioxide  (CO2)  capture  technology  is  a  prominent  way  to \\nmitigate  global  climate  change  originating  from  the  excessive  emission  of \\ngreenhouse gas CO2. The structural modification of adsorbents with amine is a \\nnew attractive strategy to enhance their CO2 adsorption efficiency under low  \\npressure. The current work is looking to boost the CO2 uptake performance of  \\nZeolitic  imidazolate  framework-8  (ZIF-8)  impregnated  with  \\naminoethylethanolamine (AEEA) inside the porous network of crystalline ZIF-8  \\nnanoparticles via the wet functionalization process due to the enormous surface \\narea and remarkable thermally and chemical stability of ZIF-8. The parent ZIF-8  \\nand  amine  incorporated  ZIF-8  adsorbents  were  carefully  synthesized  and \\ncharacterized  by  various  approaches  through  HRXRD,  Micro  Raman,  FTIR, \\nFESEM, TEM, EDS, TGA, XPS, BET, and CHNS methods. The CO2 capture behaviour \\nof materials was examined using the iSorb HP2 adsorption equipment under  \\npressure  and  temperature  swing  circumstances,  particularly  within  the \\nspectrum of 0 to 30 bar and 25 to 80 °C. Response surface methodology (RSM)  \\nbased on the Box-Behnken design (BBD) was exploited to design experiments  \\nand investigate the optimum conditions for the desirable response i.e. CO2  \\nadsorption  performance,  which  was  affected  by  three  distinct  variables: \\ntemperature, CO2 partial pressure, and AEEA loading. Additionally, the CO2  \\nadsorption was mathematically modeled using numerous isotherm models. The \\nCO2 adsorption capacity (3.581 mmol/g)  of the prime adsorbent  30 % AEEA  \\ntreated ZIF-8 was highest among the amine incorporated ZIF-8 samples which  \\nwas 4.15 times higher than that of the pure ZIF-8 material (0.862 mmol/g) at 25  \\n°C/1 bar partial pressure.\\nConclusion: Not required\\nDoi: https://doi.org/10.1016/j.seppur .2024.131090\\n2. Abstract: The rapid increase in atmospheric CO2 concentrations, driven by \\nhuman activities, has become a critical factor in global climate change, posing \\nsevere risks to sustainable development. Addressing this challenge \\nnecessitates substantial CO2 removal, which demands innovative and efficient \\ntechnologies. Carbon dioxide adsorption on porous materials is a promising \\nstrategy to mitigate this issue. This study investigates the synthesis of ordered \\nmesoporous silica MCM-41 (Mobil Composition of Matter-41) by microwave \\nirradiation, a technique that offers significant advantages over conventional \\nhydrothermal methods. By optimizing the synthesis conditions, we produced \\nMCM-41 silica with superior structural properties in just 30 min. \\nCharacterization techniques, including X-ray diffraction, FTIR and NMR analysis, \\nN2 adsorption/desorption isotherms, and transmission electron microscopy, \\nconfirmed the formation of well-defined pores and hexagonal channels. \\nNotably, the synthesized MCM-41 exhibited a high CO2 adsorption capacity of \\n12.8 mmol g 1−  at 25 °C and 50 bar, outperforming silicas produced via \\nconventional methods and comparable to amine-modified silicas. These results'),\n",
       " Document(metadata={'producer': 'LibreOffice 24.2', 'creator': 'Writer', 'creationdate': '2025-08-23T21:25:38+05:30', 'author': 'Kritesh Gupta', 'source': 'Carbon_adsorption1.pdf', 'total_pages': 11, 'page': 1, 'page_label': '2'}, page_content=\"highlight the potential of microwave-assisted synthesis to improve CO2 capture \\nefficiency, offering a promising approach for future carbon capture and \\nstorage applications.\\nConclusion: Not required\\nDoi: https://doi.org/10.1016/j.seppur .2024.130871\\n3. Abstract: The utilization of eutectic molten salt technology has emerged as a \\nprominent area of investigation aimed at fabricating a novel carbon material \\nsorbent based on biomass wastes. The adsorption mechanism on CO2 \\nadsorption remains inadequately elucidated as well. Herein, the biochar \\nfabrication process involving eutectic molten salt method at intermediate-low \\ntemperature of 550 °C was successfully achieved and investigated in detail. The \\nimpacts of molten salt composition, monomer salt's anion and cation, and \\npyrolysis parameters were firstly studied on the resulting microporous biochar \\nof 1.8 nm pore diameter and 975 m2/g surface area. The optimized conditions \\nare 550 °C, 15 °C min 1 ramp rate, 120 min holding time, Na+ cation, NO3– −\\nanion, and ternary salt KCl/NaNO3/Na2SO4 of 32.5/30.4/37.1. The efficient \\nadsorbent exhibited abundant micropores and a substantial specific surface \\narea, leading to enhanced CO2 adsorption quantity of 3.75 mmol/g (the \\ncalculated capacity is up to 4.54 mmol/g) at pressure state of 1.6 MPa. \\nInvestigation into key factors, adsorption kinetics, and adsorption isotherm \\nrevealed that CO2 capture by optimal adsorbent predominantly stemmed from \\nmicropore filling, van der Waals forces, hydrogen bonds, and Lewis acid-base \\ninteractions. This research contributes novel insights into the utilization of \\nbiochar adsorbents for CO2 capture in the realm of industry.\\nConclusion: Eutectic molten salt as a liquid medium, biochar materials with \\nmicroporous structure were successfully fabricated by utilizing sawdust as a \\nraw material. In this study, the majority impact factors including ternary salts' \\ncomponents, the anions and cations of individual salts, and pyrolysis \\nparameters were studied for adjusting biochar’s specific surface area and pore \\nstructure. When employing KCl/NaNO3/Na2SO4 as the ternary salt \\ncomposition at mass ratio of 32.5/30.4/37.1(%), the resulted biochar could \\nreach specific surface area of 974.5 m2/g (involving micropore specific surface \\narea of 897.1 m2/g) with pore volume of 0.51 cm3 g 1 at pore size of 1.8 nm −\\nthrough controlling at pyrolysis temperature of 550 ℃, ramping rate of 15 ℃ \\nmin−1 and holding time of 120 min. In contrast, the pristine BC prepared in \\nabsence of the eutectic molten salt has only 34.5 m2/g with pore volume of \\n0.08 cm3 g−1. At CO2 pressure of 1.6 MPa in a pressure reactor , the adsorption \\nquantity of BC/M/S/T550/R15/H120 on CO2 was evaluated and can reached \\n3.75 mmol/g (it is only 1.2mmol/g for the pristine BC) at room temperature. \\nThe experimental findings aligned well with the pseudo-second-order kinetics \\nand the Freundlich model, while pore structure from macro- to micro-scale and \\nsurface properties (functional groups, alkaline sites, etc.) were characterized. A \\nhypothesis mechanism involving micropore adsorption filling, van der Waals\"),\n",
       " Document(metadata={'producer': 'LibreOffice 24.2', 'creator': 'Writer', 'creationdate': '2025-08-23T21:25:38+05:30', 'author': 'Kritesh Gupta', 'source': 'Carbon_adsorption1.pdf', 'total_pages': 11, 'page': 2, 'page_label': '3'}, page_content='forces, hydrogen bonds and Lewis acid-base interactions is proposed. This \\nresearch introduces a novel approach for producing biochar with a substantial \\nmicro-specific surface area and holds practical significance for addressing \\nindustrial CO2 emissions.\\nDOI: https://doi.org/10.1016/j.seppur .2024.129403\\n4. Abstract: Adsorption is fundamental to many industrial processes, including \\nseparation of carbon dioxide from other gases in pre- or post-combustion gas \\nmixtures. Adsorbents should have high capacity and selectivity, which are both \\nintimately linked with surface area, pore size distribution, and surface energy. \\nPorous carbons are cheap and scalable adsorbents, but greater understanding \\nof how their textural properties and surface chemistry affects their \\nperformance is needed. Here, we investigate the effect of nitrogen doping on \\nCO2 adsorption. Microporous carbon foams with large surface area (>2500 m2 \\ng 1) and pore volume (1.6 cm3 g 1) are synthesized, then coated with varying− −  \\namounts of carbon nitride (up to 17 at% nitrogen) to achieve high CO2 uptake \\n(25.5 mmol g 1)−  and selectivity (CO2:N2 = 21), whilst also giving insights into \\nthe relationship between structure and function. At low pressure (relevant to \\npost-combustion capture), moderate carbon nitride loading leads to enhanced \\nuptake and selectivity by combining large ultramicropore volume with the \\nintroduction of Lewis base sites, leading to high isosteric heat of adsorption. \\nHigher carbon nitride loading further increases selectivity but lowers uptake by \\nblocking micropores. Conversely, at high pressure (relevant to pre-combustion \\ncapture) the uncoated carbon foam displays superior uptake, because \\nmesoporosity is the dominant factor in this regime, rather than the presence of \\nultramicropores. Finally, the samples displayed excellent regeneration under \\nrepeated adsorption–desorption cycles, and breakthrough curves were \\nmeasured. These results underscore the delicate balance required for optimal \\nmaterial design when applying porous carbon adsorbents to CO2 separation \\nprocesses. Moving forward, improved adsorbents will contribute to the \\nproliferation of carbon capture and storage (CCS) and carbon capture and \\nutilisation (CCU) technologies, ultimately contributing reduced anthropogenic \\nCO2 emissions.\\nThe CO2 uptake of the carbon foam samples was measured at three different \\ntemperatures—273 K, 298 K, and 323 K—and at two pressures: 100 kPa and 2 \\nMPa. The results are as follows:\\nFor the sample CF (carbon foam), at 273 K and 100 kPa, the CO2 uptake was \\n5.09 ± 0.03 mmol/g, and at 2 MPa, it was 25.52 mmol/g. At 298 K, the uptake \\ndecreased to 2.90 ± 0.04 mmol/g at 100 kPa and 18.44 mmol/g at 2 MPa. At 323 \\nK, the uptake further decreased to 1.70 ± 0.04 mmol/g at 100 kPa and 14.09 \\nmmol/g at 2 MPa.\\nThe sample C3N4/CF-1 showed similar trends. At 273 K and 100 kPa, the CO2 \\nuptake was 5.24 ± 0.05 mmol/g, and at 2 MPa, it was 21.84 mmol/g. At 298 K,'),\n",
       " Document(metadata={'producer': 'LibreOffice 24.2', 'creator': 'Writer', 'creationdate': '2025-08-23T21:25:38+05:30', 'author': 'Kritesh Gupta', 'source': 'Carbon_adsorption1.pdf', 'total_pages': 11, 'page': 3, 'page_label': '4'}, page_content='the uptake was 3.16 ± 0.01 mmol/g at 100 kPa and 15.70 mmol/g at 2 MPa. At \\n323 K, it decreased to 1.97 ± 0.02 mmol/g at 100 kPa and 12.04 mmol/g at 2 \\nMPa.\\nThe C3N4/CF-24 sample had lower CO2 uptake values. At 273 K, the uptake was \\n2.83 ± 0.03 mmol/g at 100 kPa and 11.92 mmol/g at 2 MPa. At 298 K, the \\nuptake was 1.57 ± 0.04 mmol/g at 100 kPa and 8.19 mmol/g at 2 MPa. At 323 K, \\nthe uptake further decreased to 0.99 ± 0.02 mmol/g at 100 kPa and 6.40 \\nmmol/g at 2 MPa.\\nhttps://doi.org/10.1016/j.seppur.2024.129054\\n5. Abstract: The utilization of in-situ heteroatom doping and carbonization \\ntechniques to produce porous biochar from waste biomass sources has the \\npotential to significantly enhance electrochemical and CO2 adsorption \\nperformance of supercapacitors. In this work, an initiative N, S-codoped \\nbiochar was prepared through carbonation and KOH-activated pyrolysis of \\nbagasse-based polycondensate precursors, which were synthesized using \\nsugarcane bagasse as a carbon source, 3-amino-5-methio-1,2,4-triazole as a \\nnitrogen and sulfur source and triglycidyl isocyanurate (TGIC) as a cross-linker , \\nfor efficient CO2 capture and energy storage. Through comprehensive material \\ncharacterization and testing of the electrochemical and CO2 adsorption \\nperformance of the N,S-codoped bagasse-based porous biochar (NSBPB), the \\nresults demonstrated that the mesoporeous structure and the N, S-codoping \\ndisplayed a significant synergistic effect on electrochemical and CO2 \\nadsorption properties. The optimized NSBPB-600-2 (carbonization temperature = \\n600ᴼC, NSBPB-to-KOH mass ratio of 2) displayed a CO2 adsorption capacity of \\n3.76 mmol g 1− , and no significant decrease in adsorption capacity was \\nobserved over consecutive ten cycles. Moreover , the NSBPB-600-2 electrode \\ndelivered a specific capacitance of 217F g 1, and the NSBPB-600-2 symmetric −\\nsupercapacitor exhibited a energy density of 13 Wh·kg 1. This approach −\\ninvoving in-situ heteroatom doping of porous carbon materials using clean \\nbiomass carbon sources not only offers the advantages of simplicity, \\nenvironmental friendliness and low cost, but also holds great potential for \\napplications in CO2 capture and separation, as well as in supercapacitors.\\nthe maximum adsorption values are achieved as 3.76 mmol·g 1, 2.74 −\\nmmol·g 1, and 2.19 mmol·g 1 for the NSBPB-600-2 at temperatures 298.15 K,− −  \\n308.15 K and 318.15K, respectively, at 1000 mbar pressure. The. It is evident \\nthat the CO2 adsorption capacity undergoes gradual decreases as the \\nadsorption temperature increases, indicating that the CO2 adsorption process \\non the NSBPB-600-2 sample is exothermic.\\nhttps://doi.org/10.1016/j.seppur.2024.128826'),\n",
       " Document(metadata={'producer': 'LibreOffice 24.2', 'creator': 'Writer', 'creationdate': '2025-08-23T21:25:38+05:30', 'author': 'Kritesh Gupta', 'source': 'Carbon_adsorption1.pdf', 'total_pages': 11, 'page': 4, 'page_label': '5'}, page_content='6. Abstract:\\nCyanophyta blooms can lead to eutrophication and generate algal toxins. To \\nreduce their environmental risks, hydrothermal carbonization was innovatively \\napplied to simultaneously produce activated carbon (AC) and carbon dots \\n(CDs). AC was further used for CO2 adsorption while CDs were for preparing \\nfluorescent materials. Yields of AC and CDs were investigated under mild \\nconditions of 160–240 °C and 15–240 min. Characterization results show that \\nAC exhibited a large specific surface area of 990 m2 g 1 and pore volume of −\\n1.14 cm3 g 1, contributing to high CO2 adsorption capacities of 3.26 mmol −\\ng 1 (0 °C) and 2.06 mmol g 1 (25 °C)− − . Additionally, nitrogen and oxygen self-\\ndoping heteroatoms CDs, with a photoluminescence quantum yield of 2.58 %, \\nemitted stable blue fluorescence under the ultraviolet light and were \\nsuccessfully applied to produce invisible ink. This work provides a paradigm for \\nCO2 reduction and high-value material synthesis via the thermochemical \\nconversion of hazardous biomass.\\nDOI: https://doi.org/10.1016/j.joei.2024.101916\\n7 Abstract:\\nTo enhance CO2 sorption efficiency under low-pressure conditions and \\neffectively compete with N2 sorption in flue gas, modifications are \\nimplemented aimed at improving the adsorption capacity and selectivity of ZIF-\\n8, renowned for their robust stability. Deep eutectic solvent (DES) comprising \\ntetraethylammonium chloride (TEAC), tetrapropylammonium chloride (TPAC), \\nand tetrabutylammonium bromide (TBAB) as hydrogen-bond acceptors, along \\nwith ethanolamine (MEA) as the hydrogen-bond donor , were meticulously \\nprepared for this purpose. ZIF-8 underwent modification through DES loading, \\nresulting in the distinctive emergence of a “core-membrane” structure. \\nCharacterization revealed that the DES effectively adhered to the surface of ZIF-\\n8 in a membrane-like structure, without altering the chemical structure or pore \\nsize of ZIF-8. The most significant enhancement in sorption capacity was \\nobserved with TPAC&MEA modification. Considering the presence of N2 partial \\npressure in the flue gas, at 0.05 and 1 bar , the CO2 adsorption capacities \\nreached 1.92 and 3.03 mmol g 1, respectively, increasing 71.11 and 4.00 times−  \\ncompared to pristine ZIF-8. The ZIF-8 exhibited a CO2/N2 separation coefficient \\nof 72.77, which increased to a maximum of 997.50 after DES modification. \\nAdditionally, the modified material demonstrated exceptional cyclic and \\nthermal stability during testing. This study significantly elevates the CO2 \\nadsorption capacity and selectivity of solid materials within the low-pressure \\nrange, providing pivotal support for CO2 capture and decarbonization efforts.\\nAt 20 °C, DES@ZIF-8 demonstrates remarkable adsorption performance, as \\nillustrated in Fig. 5. Notably, DES-1-modified ZIF-8 exhibits the most superior \\nperformance at a DES-1 to ZIF-8 loading mass ratio of 0.5:1, showcasing an'),\n",
       " Document(metadata={'producer': 'LibreOffice 24.2', 'creator': 'Writer', 'creationdate': '2025-08-23T21:25:38+05:30', 'author': 'Kritesh Gupta', 'source': 'Carbon_adsorption1.pdf', 'total_pages': 11, 'page': 5, 'page_label': '6'}, page_content='adsorption capacity of 2.35 mmol/g. This represents a significant \\nenhancement, being 3.09 times higher than the original adsorption capacity. \\nBoth an increase and decrease in the DES loading mass ratio result in a \\nreduction of the adsorption capacity. This observation suggests the existence \\nof an optimal mass ratio for DES loading (33.3 wt%). Excessive DES loading \\nobstructs the flow channels of CO2, rendering adsorption sites unusable and \\ndiminishing CO2 adsorption. Conversely, insufficient DES loading leads to the \\nwastage of positions within the framework that could construct adsorption \\nsites, preventing the attainment of peak adsorption capacity.\\nDES-2-modified ZIF-8, incorporating an HBA with three carbon chains, achieves \\na peak adsorption capacity of 3.03 mmol/g at the optimal loading ratio (DES-2: \\nZIF-8 mass ratio of 1:1). This achievement represents a notable fourfold \\nincrease compared to the original adsorption capacity. Conversely, the \\nmaximum adsorption capacity of DES-3-modified ZIF-8 experiences a reduction \\nto 2.66 mmol/g, corresponding to a 3.50-fold increase. This reduction is \\nobserved with an increase in the carbon chain length.\\n8 Abstract:\\nThe preparation of hierarchical porous silica aerogels from coal gasification \\nfine slag (CGFS) offers an effective approach to achieving high-value utilization \\nof solid waste and reducing the production cost of solid adsorbent matrix \\nmaterials. However , the main challenges involve overcoming technical barriers \\nto efficiently and value-added conversion of CGFS into silica aerogels with CO₂ \\nadsorption properties, as well as elucidating the phase transformation \\nmechanisms during the synthesis process. In this study, CGFS was used as the \\nraw material to obtain a silicon-containing precursor through pre-\\ndecarbonization (with ash content as high as 99.82 %) and alkali dissolution \\ntreatment. A hierarchical porous silica aerogel was then synthesized using an \\nefficient hydrothermal process. The effect of alkali dissolution on silicon \\nextraction and the phase transformation mechanisms were thoroughly \\ndiscussed, and the leaching mechanism was analyzed through thermodynamic \\nand kinetic models. The results showed that the high leaching rate of silicon \\nwas attributed to the presence of a large amount of amorphous SiO₂ in the \\ndecarbonized fine slag (DCFS), while the formation of zeolite Na-P1 and \\nhydroxysodalite during the alkali dissolution process affected the efficiency of \\nsilicon extraction. Then, the structural formation mechanism and CO₂ \\nadsorption properties of the hierarchical porous silica aerogels were analyzed \\nusing N₂ adsorption-desorption and CO₂-TPD. The SiO₂-1-30-0.5 exhibited a \\nhigh CO₂ adsorption ability of 1.53 mmol g 1, and the CO₂ adsorption capacity −\\nmaintained 94.78 % of the original value and after 5 adsorption-desorption \\ncycles.\\nConclusions:'),\n",
       " Document(metadata={'producer': 'LibreOffice 24.2', 'creator': 'Writer', 'creationdate': '2025-08-23T21:25:38+05:30', 'author': 'Kritesh Gupta', 'source': 'Carbon_adsorption1.pdf', 'total_pages': 11, 'page': 6, 'page_label': '7'}, page_content='his study greenly and efficiently synthesized hierarchical porous silica aerogels \\nfrom CGFS through a pre-decarbonization and alkali-assisted hydrothermal \\ntreatment technique for CO2 adsorption. The results showed that the \\nsynthesized silica aerogels possessed a rich micro- and mesoporous structure, \\nwith a high specific surface area of 643.48 m2 g 1. The Si-O three-dimensional −\\nnetwork structure provided numerous active sites for CO2 adsorption. The \\nthree-dimensional network structure formed by Si-O bonds provided numerous \\nbasic sites for CO2 adsorption. Specifically, the SiO2-1-30-0.5 demonstrated a \\nhigh CO2 adsorption capacity of 1.53 mmol g 1 at 273 K, with its adsorption −\\nisotherm conforming to both the Langmuir and Freundlich models. After 5 \\nadsorption-desorption cycles, the sample showed only a 5.22 % decrease in \\nadsorption performance, demonstrating high cycle stability. This study \\nprovides an effective technical route for the high-value utilization of CGFS and \\nthe reduction of production costs for CO2 solid adsorbent materials.\\nDOI: https://doi.org/10.1016/j.micromeso.2024.113399\\n9 Abstract:\\nActivated carbon from agro-industrial waste, namely tea twigs derived from \\nthe processing of Camellia Sinensis branches, using a potassium hydroxide \\nactivator for CO2 adsorption has been conducted in this study. Various \\ncarbonization temperatures (4000C and 5000C) and heating times of 1 h and 3 \\nh were used in this study. The concentration of potassium hydroxide (40 % and \\n60 %) and the ratios of activator solutions to carbon precursor made from \\npyrolysis of tea twigs (2:1 and 4:1) were varied for the chemical activation \\nprocess. The effectiveness results of the obtained activated carbon were \\ncharacterized through using Brunauer-Emmett-Teller analyzer and \\nTemperature Programme Desorption-CO2 to determine the surface area and \\ncapacity maximum of CO2 adsorption. The optimum condition for the \\nsynthesis of activated carbon that produces high surface area was obtained at \\nsample CCS 400/1 A2B1 where biochar carbonized at temperature of 400 °C \\nkept for 1 h with a ratio of activator solution and precursor 4:1 using KOH \\nconcentration of 40 %. The highest surface area was obtained 1403 m2 g 1 −\\nwith pore volume 0.9 m2 g 1 and pore size 1.11 nm and proved the presence −\\nof microporous areas in produced activated carbon. The maximum CO2 \\nadsorption capacity obtained in this study was 5.1573 mmol g 1. This result −\\ncould be related to the higher amount of microporous present in the activated \\ncarbon that facilitates the access of CO2 to the active sites at the pores of \\nactivated carbon.\\nConclusion:\\nTea twigs derived from agricultural bio-waste were used to produce activated \\ncarbon in this study. The findings show that the formation of pore and surface \\nstructures is significantly influenced by the heating (carbonization) process \\nwhen combined with chemical activation. A greater induction of high-heat \\nenergy is needed to produce pores on the surface of activated carbon,'),\n",
       " Document(metadata={'producer': 'LibreOffice 24.2', 'creator': 'Writer', 'creationdate': '2025-08-23T21:25:38+05:30', 'author': 'Kritesh Gupta', 'source': 'Carbon_adsorption1.pdf', 'total_pages': 11, 'page': 7, 'page_label': '8'}, page_content='impacting both the surface area and the development of pores. Various \\ncarbonization temperatures (400 °C and 500 °C) and heating times (1 h and 3 h) \\nwere used in this study. The concentrations of potassium hydroxide (40 % and \\n60 %) and the ratios of activator solutions to the carbon precursor made from \\nthe pyrolysis of tea twigs (2:1 and 4:1) were varied for the chemical activation \\nprocess. The optimum condition for synthesizing activated carbon with a high \\nsurface area was achieved with sample CCS 400/1 A2B1, where biochar was \\ncarbonized at 400 °C for 1 h with a 4:1 ratio of activator solution to carbon \\nprecursor using a KOH concentration of 40 %. The highest surface area was \\n1403 m2 g⁻1, with a pore volume of 0.9 mL g⁻1 and a pore size of 1.11 nm, \\ndemonstrating the presence of microporous areas in the produced activated \\ncarbon. The maximum CO₂ adsorption capacity obtained in this study was \\n5.1573 mmol g⁻1. This result can be attributed to the higher amount of \\nmicropores present in the activated carbon, which facilitates the access of \\ncarbon dioxide gas to the active sites within the pores.\\nAccording to this study, a carbonization temperature of 400 °C is the optimal \\ncondition for carbonizing the raw material to produce activated carbon with a \\nhigh specific surface area and high CO₂ adsorption capacity. The ratio of \\nactivator agent to carbon precursor , along with the activator concentration \\nduring chemical activation, has a significant effect on the performance of the \\nactivated carbon. The best treatment for chemical activation using KOH, based \\non the results of this study, was a KOH to carbon precursor ratio of 4:1 with a \\nconcentration of 40 %. Pore size was linked to the most efficient carbon dioxide \\nadsorption, as indicated by the highest CO₂ adsorption values achieved for the \\nactivated carbon under each parameter condition. The activated carbon \\ncontains a higher percentage of microporous material, facilitating easier access \\nfor adsorbate to reach the active sites. The densely porous, predominantly \\nmicroporous structure was also validated by the SEM images, which included \\nnetwork structures and three-dimensional channels.\\nDOI: https://doi.org/10.1016/j.crgsc.2024.100440\\n10 Abstract:\\nResin-based porous carbon materials are considered to be an important \\ndirection for CO2 adsorption and supercapacitors due to their controllable \\nchemical structure, large specific surface area, and stable physicochemical \\nproperties. But at present, the main source of resin-based porous carbon \\nmaterials is petroleum-based polymer materials, which is incongruous with the \\ntenets of green chemistry. Here, a bio-based phthalonitrile precursor \\ncontaining s-triazine ring structure (TDPH) was synthesized from vanillin, then \\na nitrogen/oxygen co-doped hierarchical porous carbon with excellent \\nproperties, was prepared using TDPH via a two-step process, with urea/zinc \\nchloride as hardener and potassium hydroxide as activator , respectively. The \\ncarbon material prepared under optimal conditions can achieve a maximum \\nCO2 adsorption capacity of 6.81 mmol g 1 at 273 K due to its high specific −\\nsurface area (1607 m2 g 1) and high N/O content (7.06 wt%/14.74 wt%). It is −\\nworth noting that the CO2 adsorption capacity at 298 K can still reach 96.3 % of'),\n",
       " Document(metadata={'producer': 'LibreOffice 24.2', 'creator': 'Writer', 'creationdate': '2025-08-23T21:25:38+05:30', 'author': 'Kritesh Gupta', 'source': 'Carbon_adsorption1.pdf', 'total_pages': 11, 'page': 8, 'page_label': '9'}, page_content='the initial adsorption after 7 cycles. In addition, the electrochemical properties \\nof the resultant porous carbon were tested under a 1 M H2SO4 three-electrode \\nsystem, and the highest specific capacitance at a current density of 0.1 A g 1 −\\nwas 473 F g 1 and the specific capacitance retention can still reach 87 % after −\\n65,000 cycles. This work broadens the source of resin-based porous carbon \\nmaterials and paves a new way for the functionalization of bio-based resins.\\nConclusion: \\nIn conclusion, this paper demonstrated a novel strategy for facile synthesis of \\nbio-based N/O co-doped hierarchical porous carbon materials by using 4-\\nnitrophthalonitrile and a bio-based source of s-triazine triphenol monomer \\nthrough a process of curing, carbonization, and activation. The objective of this \\nstudy was to investigate the effect of curing temperature on the chemical \\nstructure of PN resins and the properties of porous carbon materials. The \\npresence of a considerable number of heat-resistant aromatic N-heterocycles \\nin the phthalonitrile resin allows for the attainment of a nitrogen content of up \\nto 11.79\\u2009% in the prepared porous carbon. However , an excessive curing \\ntemperature results in a reduction of nitrogen content in the carbon material. \\nThis phenomenon may be attributed to the breakdown of nitrogen-containing \\nchemical structures, such as isoindoline and phthalocyanine rings, during the \\nresin curing process. Furthermore, the resultant hierarchical porous carbon \\nmaterial displayed excellent potential for CO₂ adsorption and energy storage, \\nattributable to its large SSA, superior N/O atoms content, suitable pore size \\ndistribution, and abundant micropores at the same time. Particularly, the \\nsample TDPH450/600 exhibited the ultra-high CO2 adsorbing capacity of 6.81\\u2009\\nmmol\\u2009g⁻¹ at 273\\u2009K and superior specific capacitance of 473\\u2009F\\u2009g 1 at 0.1\\u2009A\\u2009g 1, − −\\ndue to the TDPH450/600 possessing abundant N/O content (7.06\\u2009wt%/14.74\\u2009wt\\n%) and superior SSA (1607\\u2009m2g 1). In addition, the porous carbon obtained −\\nexhibited excellent cyclic stability in both of the aforementioned applications, \\nwhich substantiates the potential of TDPHx/600 applications. This work \\npresents a novel approach to the straightforward fabrication of bio-based \\nmultifunctional porous carbon, which offers a promising avenue for alleviating \\nthe energy crisis.\\nDoi: https://doi.org/10.1016/j.mtcomm.2024.111117\\n11. Abstract:\\nA series of porous hypercrosslinked polymers (HCP-x) were synthesized from \\nwaste polystyrene foam via Fridel-Crafts alkylation reaction, aiming to optimize \\nthe utilization of waste plastics. The impact of various crosslinkers on the \\nstructural characteristics and CO2 adsorption properties of HCP-x was \\ninvestigated. The results indicated that HCP-x polymers possess high specific \\nsurface areas spanning 830–1182 m2 g 1, abundant narrow micropores, and −\\nexceptional thermal stability. Notably, HCP-2 exhibited the highest CO2'),\n",
       " Document(metadata={'producer': 'LibreOffice 24.2', 'creator': 'Writer', 'creationdate': '2025-08-23T21:25:38+05:30', 'author': 'Kritesh Gupta', 'source': 'Carbon_adsorption1.pdf', 'total_pages': 11, 'page': 9, 'page_label': '10'}, page_content='adsorption capacity of 2.77 mmol g 1 at 273 K and 1.0 bar . These −\\nhypercrosslinked polymers also demonstrated a favorable CO2/N2 ideal \\nselectivity and robust cyclic adsorption performance. Breakthrough \\nexperiments confirmed the selective adsorption of CO2 from simulated flue \\ngas containing CO2/N2 (15/85). Additionally, the mechanism underlying CO2 \\nadsorption on HCP-x was elucidated by analyzing adsorption thermodynamics \\nand diffusion kinetics. This study not only introduces an innovative method for \\nrecycling waste polystyrene foam but also underscores the potential of HCP-x \\nas an effective adsorbent for CO2 capture.\\nConclusion:\\nIn summary, a series of porous HCP-x materials were successfully synthesized \\nfrom waste polystyrene via the Friedel-Crafts alkylation reaction, exhibiting \\nhigh specific surface areas (830–1182 m2 g 1) and pore volumes (0.98–1.67 −\\ncm3 g 1). A systematic investigation was conducted to explore the effects of −\\ncrosslinkers on the structure of HCP-x and their CO2 adsorption performance. \\nThe results revealed that the pores in HCP-x are primarily narrow micropores, \\nwith a maximum CO2 uptake capacity of 2.77 mmol g 1 at 273 K and 1.0 bar . −\\nNotably, the adsorbent HCP-2 demonstrated exceptional cyclic adsorption \\nperformance. The adsorption enthalpy (ΔH) of prepared HCP-x ranged from \\n19.71 to 14.09 kJ mol 1, indicating exothermic adsorption processes for − − −\\nCO2 on HCP-x. Breakthrough experiments further underscored the significant \\nselective separation capacity of HCP-2 for CO2 in simulated mixed gas streams. \\nMoreover , the kinetics and diffusion models analyses indicated that the HCP-x \\npossessed fast kinetics, high adsorption capacity, and favorable intraparticle \\ndiffusion of CO2 molecules, attributed to their unique porous structures. This \\nstudy introduces an innovative method for repurposing discarded polystyrene \\nfoam and highlights the potential of HCP-x as an adsorbent material for CO2 \\ncapture.\\nDOI: https://doi.org/10.1016/j.micromeso.2024.113360\\n12. Abstract:\\nThe utilization of ambient low-pressure CO2 adsorption for carbon neutrality \\ninitiatives holds great potential. However , conventional liquid amine absorption \\nmethods for CO2 capture are plagued by high energy consumption and \\nequipment corrosion issues. In this study, we present a novel approach using \\nindustrial waste silica fume (SF) as a precursor and tetraethylenepentamine \\n(TEPA) as a chemical modifying agent to efficiently synthesize low-cost \\nmesoporous solid amine adsorbents within the waste-derived mesoporous \\npowder sorbents (MPS) series. Employing the static adsorption technique, the \\nimpact of both adsorption temperature and amine loading on the CO2 \\nadsorption efficacy was comprehensively investigated. The optimized sample, \\nMPS-TEPA-30, demonstrated a superior CO2 adsorption capacity, achieving 2.22 \\nmmol g 1 at 323 K and 1 bar , a significant 6.8-fold increase compared to the −'),\n",
       " Document(metadata={'producer': 'LibreOffice 24.2', 'creator': 'Writer', 'creationdate': '2025-08-23T21:25:38+05:30', 'author': 'Kritesh Gupta', 'source': 'Carbon_adsorption1.pdf', 'total_pages': 11, 'page': 10, 'page_label': '11'}, page_content='unmodified MPS material (0.326 mmol g 1). Additionally, MPS-TEPA-30 −\\ndemonstrated notable performance advantages, surpassing SBA15-TEPA-30 \\nand MCM41-TEPA-30 with near 1.49- and 2.12-fold increases in adsorption \\ncapacity, respectively. Impressively, MPS-TEPA-30 exhibited remarkable \\nadsorption ability beyond 1.5 mmol g 1 at ultralow pressures (<0.01 bar), −\\nsuggesting its potential for ambient ultralow-pressure CO2 capture. Moreover , \\nMPS-TEPA-30 showed exceptional stability over multiple adsorption–desorption \\ncycles, with only a marginal 6 % decrease in CO2 capture efficiency after the \\nseventh cycle. Thermogravimetric analysis confirmed the robust thermal \\nstability of the amine-functionalized adsorbent (∼473 K), rendering it suitable \\nfor high-temperature adsorption–desorption processes. The Ideal Adsorbed \\nSolution Theory (IAST) equation predicted an excellent adsorption selectivity of \\n1600 for the CO2/N2 (1:1) mixture at 323 K and 10 mbar , underscoring the \\npromising prospects of MPS-TEPA-30 in CO2 capture and selective separation \\napplications from ambient condition.\\nConclusion:')]"
      ]
     },
     "execution_count": 8,
     "metadata": {},
     "output_type": "execute_result"
    }
   ],
   "source": [
    "from langchain_community.document_loaders import PyPDFLoader\n",
    "loader = PyPDFLoader(\"Carbon_adsorption1.pdf\")\n",
    "documents = loader.load()\n",
    "documents"
   ]
  },
  {
   "cell_type": "code",
   "execution_count": 9,
   "id": "c1494da8",
   "metadata": {},
   "outputs": [
    {
     "data": {
      "application/vnd.microsoft.datawrangler.viewer.v0+json": {
       "columns": [
        {
         "name": "index",
         "rawType": "int64",
         "type": "integer"
        },
        {
         "name": "0",
         "rawType": "object",
         "type": "unknown"
        },
        {
         "name": "1",
         "rawType": "object",
         "type": "unknown"
        },
        {
         "name": "2",
         "rawType": "object",
         "type": "unknown"
        },
        {
         "name": "3",
         "rawType": "object",
         "type": "unknown"
        }
       ],
       "ref": "2a1e2645-5230-4231-bce6-4b16564ad1b3",
       "rows": [
        [
         "0",
         "('id', None)",
         "('metadata', {'producer': 'LibreOffice 24.2', 'creator': 'Writer', 'creationdate': '2025-08-23T21:25:38+05:30', 'author': 'Kritesh Gupta', 'source': 'Carbon_adsorption1.pdf', 'total_pages': 11, 'page': 0, 'page_label': '1'})",
         "('page_content', 'Sn\\no. \\nText data\\n1. Abstract:  Carbon  dioxide  (CO2)  capture  technology  is  a  prominent  way  to \\nmitigate  global  climate  change  originating  from  the  excessive  emission  of \\ngreenhouse gas CO2. The structural modification of adsorbents with amine is a \\nnew attractive strategy to enhance their CO2 adsorption efficiency under low  \\npressure. The current work is looking to boost the CO2 uptake performance of  \\nZeolitic  imidazolate  framework-8  (ZIF-8)  impregnated  with  \\naminoethylethanolamine (AEEA) inside the porous network of crystalline ZIF-8  \\nnanoparticles via the wet functionalization process due to the enormous surface \\narea and remarkable thermally and chemical stability of ZIF-8. The parent ZIF-8  \\nand  amine  incorporated  ZIF-8  adsorbents  were  carefully  synthesized  and \\ncharacterized  by  various  approaches  through  HRXRD,  Micro  Raman,  FTIR, \\nFESEM, TEM, EDS, TGA, XPS, BET, and CHNS methods. The CO2 capture behaviour \\nof materials was examined using the iSorb HP2 adsorption equipment under  \\npressure  and  temperature  swing  circumstances,  particularly  within  the \\nspectrum of 0 to 30 bar and 25 to 80 °C. Response surface methodology (RSM)  \\nbased on the Box-Behnken design (BBD) was exploited to design experiments  \\nand investigate the optimum conditions for the desirable response i.e. CO2  \\nadsorption  performance,  which  was  affected  by  three  distinct  variables: \\ntemperature, CO2 partial pressure, and AEEA loading. Additionally, the CO2  \\nadsorption was mathematically modeled using numerous isotherm models. The \\nCO2 adsorption capacity (3.581 mmol/g)  of the prime adsorbent  30 % AEEA  \\ntreated ZIF-8 was highest among the amine incorporated ZIF-8 samples which  \\nwas 4.15 times higher than that of the pure ZIF-8 material (0.862 mmol/g) at 25  \\n°C/1 bar partial pressure.\\nConclusion: Not required\\nDoi: https://doi.org/10.1016/j.seppur .2024.131090\\n2. Abstract: The rapid increase in atmospheric CO2 concentrations, driven by \\nhuman activities, has become a critical factor in global climate change, posing \\nsevere risks to sustainable development. Addressing this challenge \\nnecessitates substantial CO2 removal, which demands innovative and efficient \\ntechnologies. Carbon dioxide adsorption on porous materials is a promising \\nstrategy to mitigate this issue. This study investigates the synthesis of ordered \\nmesoporous silica MCM-41 (Mobil Composition of Matter-41) by microwave \\nirradiation, a technique that offers significant advantages over conventional \\nhydrothermal methods. By optimizing the synthesis conditions, we produced \\nMCM-41 silica with superior structural properties in just 30 min. \\nCharacterization techniques, including X-ray diffraction, FTIR and NMR analysis, \\nN2 adsorption/desorption isotherms, and transmission electron microscopy, \\nconfirmed the formation of well-defined pores and hexagonal channels. \\nNotably, the synthesized MCM-41 exhibited a high CO2 adsorption capacity of \\n12.8 mmol g 1−  at 25 °C and 50 bar, outperforming silicas produced via \\nconventional methods and comparable to amine-modified silicas. These results')",
         "('type', 'Document')"
        ],
        [
         "1",
         "('id', None)",
         "('metadata', {'producer': 'LibreOffice 24.2', 'creator': 'Writer', 'creationdate': '2025-08-23T21:25:38+05:30', 'author': 'Kritesh Gupta', 'source': 'Carbon_adsorption1.pdf', 'total_pages': 11, 'page': 1, 'page_label': '2'})",
         "('page_content', \"highlight the potential of microwave-assisted synthesis to improve CO2 capture \\nefficiency, offering a promising approach for future carbon capture and \\nstorage applications.\\nConclusion: Not required\\nDoi: https://doi.org/10.1016/j.seppur .2024.130871\\n3. Abstract: The utilization of eutectic molten salt technology has emerged as a \\nprominent area of investigation aimed at fabricating a novel carbon material \\nsorbent based on biomass wastes. The adsorption mechanism on CO2 \\nadsorption remains inadequately elucidated as well. Herein, the biochar \\nfabrication process involving eutectic molten salt method at intermediate-low \\ntemperature of 550 °C was successfully achieved and investigated in detail. The \\nimpacts of molten salt composition, monomer salt's anion and cation, and \\npyrolysis parameters were firstly studied on the resulting microporous biochar \\nof 1.8 nm pore diameter and 975 m2/g surface area. The optimized conditions \\nare 550 °C, 15 °C min 1 ramp rate, 120 min holding time, Na+ cation, NO3– −\\nanion, and ternary salt KCl/NaNO3/Na2SO4 of 32.5/30.4/37.1. The efficient \\nadsorbent exhibited abundant micropores and a substantial specific surface \\narea, leading to enhanced CO2 adsorption quantity of 3.75 mmol/g (the \\ncalculated capacity is up to 4.54 mmol/g) at pressure state of 1.6 MPa. \\nInvestigation into key factors, adsorption kinetics, and adsorption isotherm \\nrevealed that CO2 capture by optimal adsorbent predominantly stemmed from \\nmicropore filling, van der Waals forces, hydrogen bonds, and Lewis acid-base \\ninteractions. This research contributes novel insights into the utilization of \\nbiochar adsorbents for CO2 capture in the realm of industry.\\nConclusion: Eutectic molten salt as a liquid medium, biochar materials with \\nmicroporous structure were successfully fabricated by utilizing sawdust as a \\nraw material. In this study, the majority impact factors including ternary salts' \\ncomponents, the anions and cations of individual salts, and pyrolysis \\nparameters were studied for adjusting biochar’s specific surface area and pore \\nstructure. When employing KCl/NaNO3/Na2SO4 as the ternary salt \\ncomposition at mass ratio of 32.5/30.4/37.1(%), the resulted biochar could \\nreach specific surface area of 974.5 m2/g (involving micropore specific surface \\narea of 897.1 m2/g) with pore volume of 0.51 cm3 g 1 at pore size of 1.8 nm −\\nthrough controlling at pyrolysis temperature of 550 ℃, ramping rate of 15 ℃ \\nmin−1 and holding time of 120 min. In contrast, the pristine BC prepared in \\nabsence of the eutectic molten salt has only 34.5 m2/g with pore volume of \\n0.08 cm3 g−1. At CO2 pressure of 1.6 MPa in a pressure reactor , the adsorption \\nquantity of BC/M/S/T550/R15/H120 on CO2 was evaluated and can reached \\n3.75 mmol/g (it is only 1.2mmol/g for the pristine BC) at room temperature. \\nThe experimental findings aligned well with the pseudo-second-order kinetics \\nand the Freundlich model, while pore structure from macro- to micro-scale and \\nsurface properties (functional groups, alkaline sites, etc.) were characterized. A \\nhypothesis mechanism involving micropore adsorption filling, van der Waals\")",
         "('type', 'Document')"
        ],
        [
         "2",
         "('id', None)",
         "('metadata', {'producer': 'LibreOffice 24.2', 'creator': 'Writer', 'creationdate': '2025-08-23T21:25:38+05:30', 'author': 'Kritesh Gupta', 'source': 'Carbon_adsorption1.pdf', 'total_pages': 11, 'page': 2, 'page_label': '3'})",
         "('page_content', 'forces, hydrogen bonds and Lewis acid-base interactions is proposed. This \\nresearch introduces a novel approach for producing biochar with a substantial \\nmicro-specific surface area and holds practical significance for addressing \\nindustrial CO2 emissions.\\nDOI: https://doi.org/10.1016/j.seppur .2024.129403\\n4. Abstract: Adsorption is fundamental to many industrial processes, including \\nseparation of carbon dioxide from other gases in pre- or post-combustion gas \\nmixtures. Adsorbents should have high capacity and selectivity, which are both \\nintimately linked with surface area, pore size distribution, and surface energy. \\nPorous carbons are cheap and scalable adsorbents, but greater understanding \\nof how their textural properties and surface chemistry affects their \\nperformance is needed. Here, we investigate the effect of nitrogen doping on \\nCO2 adsorption. Microporous carbon foams with large surface area (>2500 m2 \\ng 1) and pore volume (1.6 cm3 g 1) are synthesized, then coated with varying− −  \\namounts of carbon nitride (up to 17 at% nitrogen) to achieve high CO2 uptake \\n(25.5 mmol g 1)−  and selectivity (CO2:N2 = 21), whilst also giving insights into \\nthe relationship between structure and function. At low pressure (relevant to \\npost-combustion capture), moderate carbon nitride loading leads to enhanced \\nuptake and selectivity by combining large ultramicropore volume with the \\nintroduction of Lewis base sites, leading to high isosteric heat of adsorption. \\nHigher carbon nitride loading further increases selectivity but lowers uptake by \\nblocking micropores. Conversely, at high pressure (relevant to pre-combustion \\ncapture) the uncoated carbon foam displays superior uptake, because \\nmesoporosity is the dominant factor in this regime, rather than the presence of \\nultramicropores. Finally, the samples displayed excellent regeneration under \\nrepeated adsorption–desorption cycles, and breakthrough curves were \\nmeasured. These results underscore the delicate balance required for optimal \\nmaterial design when applying porous carbon adsorbents to CO2 separation \\nprocesses. Moving forward, improved adsorbents will contribute to the \\nproliferation of carbon capture and storage (CCS) and carbon capture and \\nutilisation (CCU) technologies, ultimately contributing reduced anthropogenic \\nCO2 emissions.\\nThe CO2 uptake of the carbon foam samples was measured at three different \\ntemperatures—273 K, 298 K, and 323 K—and at two pressures: 100 kPa and 2 \\nMPa. The results are as follows:\\nFor the sample CF (carbon foam), at 273 K and 100 kPa, the CO2 uptake was \\n5.09 ± 0.03 mmol/g, and at 2 MPa, it was 25.52 mmol/g. At 298 K, the uptake \\ndecreased to 2.90 ± 0.04 mmol/g at 100 kPa and 18.44 mmol/g at 2 MPa. At 323 \\nK, the uptake further decreased to 1.70 ± 0.04 mmol/g at 100 kPa and 14.09 \\nmmol/g at 2 MPa.\\nThe sample C3N4/CF-1 showed similar trends. At 273 K and 100 kPa, the CO2 \\nuptake was 5.24 ± 0.05 mmol/g, and at 2 MPa, it was 21.84 mmol/g. At 298 K,')",
         "('type', 'Document')"
        ],
        [
         "3",
         "('id', None)",
         "('metadata', {'producer': 'LibreOffice 24.2', 'creator': 'Writer', 'creationdate': '2025-08-23T21:25:38+05:30', 'author': 'Kritesh Gupta', 'source': 'Carbon_adsorption1.pdf', 'total_pages': 11, 'page': 3, 'page_label': '4'})",
         "('page_content', 'the uptake was 3.16 ± 0.01 mmol/g at 100 kPa and 15.70 mmol/g at 2 MPa. At \\n323 K, it decreased to 1.97 ± 0.02 mmol/g at 100 kPa and 12.04 mmol/g at 2 \\nMPa.\\nThe C3N4/CF-24 sample had lower CO2 uptake values. At 273 K, the uptake was \\n2.83 ± 0.03 mmol/g at 100 kPa and 11.92 mmol/g at 2 MPa. At 298 K, the \\nuptake was 1.57 ± 0.04 mmol/g at 100 kPa and 8.19 mmol/g at 2 MPa. At 323 K, \\nthe uptake further decreased to 0.99 ± 0.02 mmol/g at 100 kPa and 6.40 \\nmmol/g at 2 MPa.\\nhttps://doi.org/10.1016/j.seppur.2024.129054\\n5. Abstract: The utilization of in-situ heteroatom doping and carbonization \\ntechniques to produce porous biochar from waste biomass sources has the \\npotential to significantly enhance electrochemical and CO2 adsorption \\nperformance of supercapacitors. In this work, an initiative N, S-codoped \\nbiochar was prepared through carbonation and KOH-activated pyrolysis of \\nbagasse-based polycondensate precursors, which were synthesized using \\nsugarcane bagasse as a carbon source, 3-amino-5-methio-1,2,4-triazole as a \\nnitrogen and sulfur source and triglycidyl isocyanurate (TGIC) as a cross-linker , \\nfor efficient CO2 capture and energy storage. Through comprehensive material \\ncharacterization and testing of the electrochemical and CO2 adsorption \\nperformance of the N,S-codoped bagasse-based porous biochar (NSBPB), the \\nresults demonstrated that the mesoporeous structure and the N, S-codoping \\ndisplayed a significant synergistic effect on electrochemical and CO2 \\nadsorption properties. The optimized NSBPB-600-2 (carbonization temperature = \\n600ᴼC, NSBPB-to-KOH mass ratio of 2) displayed a CO2 adsorption capacity of \\n3.76 mmol g 1− , and no significant decrease in adsorption capacity was \\nobserved over consecutive ten cycles. Moreover , the NSBPB-600-2 electrode \\ndelivered a specific capacitance of 217F g 1, and the NSBPB-600-2 symmetric −\\nsupercapacitor exhibited a energy density of 13 Wh·kg 1. This approach −\\ninvoving in-situ heteroatom doping of porous carbon materials using clean \\nbiomass carbon sources not only offers the advantages of simplicity, \\nenvironmental friendliness and low cost, but also holds great potential for \\napplications in CO2 capture and separation, as well as in supercapacitors.\\nthe maximum adsorption values are achieved as 3.76 mmol·g 1, 2.74 −\\nmmol·g 1, and 2.19 mmol·g 1 for the NSBPB-600-2 at temperatures 298.15 K,− −  \\n308.15 K and 318.15K, respectively, at 1000 mbar pressure. The. It is evident \\nthat the CO2 adsorption capacity undergoes gradual decreases as the \\nadsorption temperature increases, indicating that the CO2 adsorption process \\non the NSBPB-600-2 sample is exothermic.\\nhttps://doi.org/10.1016/j.seppur.2024.128826')",
         "('type', 'Document')"
        ],
        [
         "4",
         "('id', None)",
         "('metadata', {'producer': 'LibreOffice 24.2', 'creator': 'Writer', 'creationdate': '2025-08-23T21:25:38+05:30', 'author': 'Kritesh Gupta', 'source': 'Carbon_adsorption1.pdf', 'total_pages': 11, 'page': 4, 'page_label': '5'})",
         "('page_content', '6. Abstract:\\nCyanophyta blooms can lead to eutrophication and generate algal toxins. To \\nreduce their environmental risks, hydrothermal carbonization was innovatively \\napplied to simultaneously produce activated carbon (AC) and carbon dots \\n(CDs). AC was further used for CO2 adsorption while CDs were for preparing \\nfluorescent materials. Yields of AC and CDs were investigated under mild \\nconditions of 160–240 °C and 15–240 min. Characterization results show that \\nAC exhibited a large specific surface area of 990 m2 g 1 and pore volume of −\\n1.14 cm3 g 1, contributing to high CO2 adsorption capacities of 3.26 mmol −\\ng 1 (0 °C) and 2.06 mmol g 1 (25 °C)− − . Additionally, nitrogen and oxygen self-\\ndoping heteroatoms CDs, with a photoluminescence quantum yield of 2.58 %, \\nemitted stable blue fluorescence under the ultraviolet light and were \\nsuccessfully applied to produce invisible ink. This work provides a paradigm for \\nCO2 reduction and high-value material synthesis via the thermochemical \\nconversion of hazardous biomass.\\nDOI: https://doi.org/10.1016/j.joei.2024.101916\\n7 Abstract:\\nTo enhance CO2 sorption efficiency under low-pressure conditions and \\neffectively compete with N2 sorption in flue gas, modifications are \\nimplemented aimed at improving the adsorption capacity and selectivity of ZIF-\\n8, renowned for their robust stability. Deep eutectic solvent (DES) comprising \\ntetraethylammonium chloride (TEAC), tetrapropylammonium chloride (TPAC), \\nand tetrabutylammonium bromide (TBAB) as hydrogen-bond acceptors, along \\nwith ethanolamine (MEA) as the hydrogen-bond donor , were meticulously \\nprepared for this purpose. ZIF-8 underwent modification through DES loading, \\nresulting in the distinctive emergence of a “core-membrane” structure. \\nCharacterization revealed that the DES effectively adhered to the surface of ZIF-\\n8 in a membrane-like structure, without altering the chemical structure or pore \\nsize of ZIF-8. The most significant enhancement in sorption capacity was \\nobserved with TPAC&MEA modification. Considering the presence of N2 partial \\npressure in the flue gas, at 0.05 and 1 bar , the CO2 adsorption capacities \\nreached 1.92 and 3.03 mmol g 1, respectively, increasing 71.11 and 4.00 times−  \\ncompared to pristine ZIF-8. The ZIF-8 exhibited a CO2/N2 separation coefficient \\nof 72.77, which increased to a maximum of 997.50 after DES modification. \\nAdditionally, the modified material demonstrated exceptional cyclic and \\nthermal stability during testing. This study significantly elevates the CO2 \\nadsorption capacity and selectivity of solid materials within the low-pressure \\nrange, providing pivotal support for CO2 capture and decarbonization efforts.\\nAt 20 °C, DES@ZIF-8 demonstrates remarkable adsorption performance, as \\nillustrated in Fig. 5. Notably, DES-1-modified ZIF-8 exhibits the most superior \\nperformance at a DES-1 to ZIF-8 loading mass ratio of 0.5:1, showcasing an')",
         "('type', 'Document')"
        ],
        [
         "5",
         "('id', None)",
         "('metadata', {'producer': 'LibreOffice 24.2', 'creator': 'Writer', 'creationdate': '2025-08-23T21:25:38+05:30', 'author': 'Kritesh Gupta', 'source': 'Carbon_adsorption1.pdf', 'total_pages': 11, 'page': 5, 'page_label': '6'})",
         "('page_content', 'adsorption capacity of 2.35 mmol/g. This represents a significant \\nenhancement, being 3.09 times higher than the original adsorption capacity. \\nBoth an increase and decrease in the DES loading mass ratio result in a \\nreduction of the adsorption capacity. This observation suggests the existence \\nof an optimal mass ratio for DES loading (33.3 wt%). Excessive DES loading \\nobstructs the flow channels of CO2, rendering adsorption sites unusable and \\ndiminishing CO2 adsorption. Conversely, insufficient DES loading leads to the \\nwastage of positions within the framework that could construct adsorption \\nsites, preventing the attainment of peak adsorption capacity.\\nDES-2-modified ZIF-8, incorporating an HBA with three carbon chains, achieves \\na peak adsorption capacity of 3.03 mmol/g at the optimal loading ratio (DES-2: \\nZIF-8 mass ratio of 1:1). This achievement represents a notable fourfold \\nincrease compared to the original adsorption capacity. Conversely, the \\nmaximum adsorption capacity of DES-3-modified ZIF-8 experiences a reduction \\nto 2.66 mmol/g, corresponding to a 3.50-fold increase. This reduction is \\nobserved with an increase in the carbon chain length.\\n8 Abstract:\\nThe preparation of hierarchical porous silica aerogels from coal gasification \\nfine slag (CGFS) offers an effective approach to achieving high-value utilization \\nof solid waste and reducing the production cost of solid adsorbent matrix \\nmaterials. However , the main challenges involve overcoming technical barriers \\nto efficiently and value-added conversion of CGFS into silica aerogels with CO₂ \\nadsorption properties, as well as elucidating the phase transformation \\nmechanisms during the synthesis process. In this study, CGFS was used as the \\nraw material to obtain a silicon-containing precursor through pre-\\ndecarbonization (with ash content as high as 99.82 %) and alkali dissolution \\ntreatment. A hierarchical porous silica aerogel was then synthesized using an \\nefficient hydrothermal process. The effect of alkali dissolution on silicon \\nextraction and the phase transformation mechanisms were thoroughly \\ndiscussed, and the leaching mechanism was analyzed through thermodynamic \\nand kinetic models. The results showed that the high leaching rate of silicon \\nwas attributed to the presence of a large amount of amorphous SiO₂ in the \\ndecarbonized fine slag (DCFS), while the formation of zeolite Na-P1 and \\nhydroxysodalite during the alkali dissolution process affected the efficiency of \\nsilicon extraction. Then, the structural formation mechanism and CO₂ \\nadsorption properties of the hierarchical porous silica aerogels were analyzed \\nusing N₂ adsorption-desorption and CO₂-TPD. The SiO₂-1-30-0.5 exhibited a \\nhigh CO₂ adsorption ability of 1.53 mmol g 1, and the CO₂ adsorption capacity −\\nmaintained 94.78 % of the original value and after 5 adsorption-desorption \\ncycles.\\nConclusions:')",
         "('type', 'Document')"
        ],
        [
         "6",
         "('id', None)",
         "('metadata', {'producer': 'LibreOffice 24.2', 'creator': 'Writer', 'creationdate': '2025-08-23T21:25:38+05:30', 'author': 'Kritesh Gupta', 'source': 'Carbon_adsorption1.pdf', 'total_pages': 11, 'page': 6, 'page_label': '7'})",
         "('page_content', 'his study greenly and efficiently synthesized hierarchical porous silica aerogels \\nfrom CGFS through a pre-decarbonization and alkali-assisted hydrothermal \\ntreatment technique for CO2 adsorption. The results showed that the \\nsynthesized silica aerogels possessed a rich micro- and mesoporous structure, \\nwith a high specific surface area of 643.48 m2 g 1. The Si-O three-dimensional −\\nnetwork structure provided numerous active sites for CO2 adsorption. The \\nthree-dimensional network structure formed by Si-O bonds provided numerous \\nbasic sites for CO2 adsorption. Specifically, the SiO2-1-30-0.5 demonstrated a \\nhigh CO2 adsorption capacity of 1.53 mmol g 1 at 273 K, with its adsorption −\\nisotherm conforming to both the Langmuir and Freundlich models. After 5 \\nadsorption-desorption cycles, the sample showed only a 5.22 % decrease in \\nadsorption performance, demonstrating high cycle stability. This study \\nprovides an effective technical route for the high-value utilization of CGFS and \\nthe reduction of production costs for CO2 solid adsorbent materials.\\nDOI: https://doi.org/10.1016/j.micromeso.2024.113399\\n9 Abstract:\\nActivated carbon from agro-industrial waste, namely tea twigs derived from \\nthe processing of Camellia Sinensis branches, using a potassium hydroxide \\nactivator for CO2 adsorption has been conducted in this study. Various \\ncarbonization temperatures (4000C and 5000C) and heating times of 1 h and 3 \\nh were used in this study. The concentration of potassium hydroxide (40 % and \\n60 %) and the ratios of activator solutions to carbon precursor made from \\npyrolysis of tea twigs (2:1 and 4:1) were varied for the chemical activation \\nprocess. The effectiveness results of the obtained activated carbon were \\ncharacterized through using Brunauer-Emmett-Teller analyzer and \\nTemperature Programme Desorption-CO2 to determine the surface area and \\ncapacity maximum of CO2 adsorption. The optimum condition for the \\nsynthesis of activated carbon that produces high surface area was obtained at \\nsample CCS 400/1 A2B1 where biochar carbonized at temperature of 400 °C \\nkept for 1 h with a ratio of activator solution and precursor 4:1 using KOH \\nconcentration of 40 %. The highest surface area was obtained 1403 m2 g 1 −\\nwith pore volume 0.9 m2 g 1 and pore size 1.11 nm and proved the presence −\\nof microporous areas in produced activated carbon. The maximum CO2 \\nadsorption capacity obtained in this study was 5.1573 mmol g 1. This result −\\ncould be related to the higher amount of microporous present in the activated \\ncarbon that facilitates the access of CO2 to the active sites at the pores of \\nactivated carbon.\\nConclusion:\\nTea twigs derived from agricultural bio-waste were used to produce activated \\ncarbon in this study. The findings show that the formation of pore and surface \\nstructures is significantly influenced by the heating (carbonization) process \\nwhen combined with chemical activation. A greater induction of high-heat \\nenergy is needed to produce pores on the surface of activated carbon,')",
         "('type', 'Document')"
        ],
        [
         "7",
         "('id', None)",
         "('metadata', {'producer': 'LibreOffice 24.2', 'creator': 'Writer', 'creationdate': '2025-08-23T21:25:38+05:30', 'author': 'Kritesh Gupta', 'source': 'Carbon_adsorption1.pdf', 'total_pages': 11, 'page': 7, 'page_label': '8'})",
         "('page_content', 'impacting both the surface area and the development of pores. Various \\ncarbonization temperatures (400 °C and 500 °C) and heating times (1 h and 3 h) \\nwere used in this study. The concentrations of potassium hydroxide (40 % and \\n60 %) and the ratios of activator solutions to the carbon precursor made from \\nthe pyrolysis of tea twigs (2:1 and 4:1) were varied for the chemical activation \\nprocess. The optimum condition for synthesizing activated carbon with a high \\nsurface area was achieved with sample CCS 400/1 A2B1, where biochar was \\ncarbonized at 400 °C for 1 h with a 4:1 ratio of activator solution to carbon \\nprecursor using a KOH concentration of 40 %. The highest surface area was \\n1403 m2 g⁻1, with a pore volume of 0.9 mL g⁻1 and a pore size of 1.11 nm, \\ndemonstrating the presence of microporous areas in the produced activated \\ncarbon. The maximum CO₂ adsorption capacity obtained in this study was \\n5.1573 mmol g⁻1. This result can be attributed to the higher amount of \\nmicropores present in the activated carbon, which facilitates the access of \\ncarbon dioxide gas to the active sites within the pores.\\nAccording to this study, a carbonization temperature of 400 °C is the optimal \\ncondition for carbonizing the raw material to produce activated carbon with a \\nhigh specific surface area and high CO₂ adsorption capacity. The ratio of \\nactivator agent to carbon precursor , along with the activator concentration \\nduring chemical activation, has a significant effect on the performance of the \\nactivated carbon. The best treatment for chemical activation using KOH, based \\non the results of this study, was a KOH to carbon precursor ratio of 4:1 with a \\nconcentration of 40 %. Pore size was linked to the most efficient carbon dioxide \\nadsorption, as indicated by the highest CO₂ adsorption values achieved for the \\nactivated carbon under each parameter condition. The activated carbon \\ncontains a higher percentage of microporous material, facilitating easier access \\nfor adsorbate to reach the active sites. The densely porous, predominantly \\nmicroporous structure was also validated by the SEM images, which included \\nnetwork structures and three-dimensional channels.\\nDOI: https://doi.org/10.1016/j.crgsc.2024.100440\\n10 Abstract:\\nResin-based porous carbon materials are considered to be an important \\ndirection for CO2 adsorption and supercapacitors due to their controllable \\nchemical structure, large specific surface area, and stable physicochemical \\nproperties. But at present, the main source of resin-based porous carbon \\nmaterials is petroleum-based polymer materials, which is incongruous with the \\ntenets of green chemistry. Here, a bio-based phthalonitrile precursor \\ncontaining s-triazine ring structure (TDPH) was synthesized from vanillin, then \\na nitrogen/oxygen co-doped hierarchical porous carbon with excellent \\nproperties, was prepared using TDPH via a two-step process, with urea/zinc \\nchloride as hardener and potassium hydroxide as activator , respectively. The \\ncarbon material prepared under optimal conditions can achieve a maximum \\nCO2 adsorption capacity of 6.81 mmol g 1 at 273 K due to its high specific −\\nsurface area (1607 m2 g 1) and high N/O content (7.06 wt%/14.74 wt%). It is −\\nworth noting that the CO2 adsorption capacity at 298 K can still reach 96.3 % of')",
         "('type', 'Document')"
        ],
        [
         "8",
         "('id', None)",
         "('metadata', {'producer': 'LibreOffice 24.2', 'creator': 'Writer', 'creationdate': '2025-08-23T21:25:38+05:30', 'author': 'Kritesh Gupta', 'source': 'Carbon_adsorption1.pdf', 'total_pages': 11, 'page': 8, 'page_label': '9'})",
         "('page_content', 'the initial adsorption after 7 cycles. In addition, the electrochemical properties \\nof the resultant porous carbon were tested under a 1 M H2SO4 three-electrode \\nsystem, and the highest specific capacitance at a current density of 0.1 A g 1 −\\nwas 473 F g 1 and the specific capacitance retention can still reach 87 % after −\\n65,000 cycles. This work broadens the source of resin-based porous carbon \\nmaterials and paves a new way for the functionalization of bio-based resins.\\nConclusion: \\nIn conclusion, this paper demonstrated a novel strategy for facile synthesis of \\nbio-based N/O co-doped hierarchical porous carbon materials by using 4-\\nnitrophthalonitrile and a bio-based source of s-triazine triphenol monomer \\nthrough a process of curing, carbonization, and activation. The objective of this \\nstudy was to investigate the effect of curing temperature on the chemical \\nstructure of PN resins and the properties of porous carbon materials. The \\npresence of a considerable number of heat-resistant aromatic N-heterocycles \\nin the phthalonitrile resin allows for the attainment of a nitrogen content of up \\nto 11.79\\u2009% in the prepared porous carbon. However , an excessive curing \\ntemperature results in a reduction of nitrogen content in the carbon material. \\nThis phenomenon may be attributed to the breakdown of nitrogen-containing \\nchemical structures, such as isoindoline and phthalocyanine rings, during the \\nresin curing process. Furthermore, the resultant hierarchical porous carbon \\nmaterial displayed excellent potential for CO₂ adsorption and energy storage, \\nattributable to its large SSA, superior N/O atoms content, suitable pore size \\ndistribution, and abundant micropores at the same time. Particularly, the \\nsample TDPH450/600 exhibited the ultra-high CO2 adsorbing capacity of 6.81\\u2009\\nmmol\\u2009g⁻¹ at 273\\u2009K and superior specific capacitance of 473\\u2009F\\u2009g 1 at 0.1\\u2009A\\u2009g 1, − −\\ndue to the TDPH450/600 possessing abundant N/O content (7.06\\u2009wt%/14.74\\u2009wt\\n%) and superior SSA (1607\\u2009m2g 1). In addition, the porous carbon obtained −\\nexhibited excellent cyclic stability in both of the aforementioned applications, \\nwhich substantiates the potential of TDPHx/600 applications. This work \\npresents a novel approach to the straightforward fabrication of bio-based \\nmultifunctional porous carbon, which offers a promising avenue for alleviating \\nthe energy crisis.\\nDoi: https://doi.org/10.1016/j.mtcomm.2024.111117\\n11. Abstract:\\nA series of porous hypercrosslinked polymers (HCP-x) were synthesized from \\nwaste polystyrene foam via Fridel-Crafts alkylation reaction, aiming to optimize \\nthe utilization of waste plastics. The impact of various crosslinkers on the \\nstructural characteristics and CO2 adsorption properties of HCP-x was \\ninvestigated. The results indicated that HCP-x polymers possess high specific \\nsurface areas spanning 830–1182 m2 g 1, abundant narrow micropores, and −\\nexceptional thermal stability. Notably, HCP-2 exhibited the highest CO2')",
         "('type', 'Document')"
        ],
        [
         "9",
         "('id', None)",
         "('metadata', {'producer': 'LibreOffice 24.2', 'creator': 'Writer', 'creationdate': '2025-08-23T21:25:38+05:30', 'author': 'Kritesh Gupta', 'source': 'Carbon_adsorption1.pdf', 'total_pages': 11, 'page': 9, 'page_label': '10'})",
         "('page_content', 'adsorption capacity of 2.77 mmol g 1 at 273 K and 1.0 bar . These −\\nhypercrosslinked polymers also demonstrated a favorable CO2/N2 ideal \\nselectivity and robust cyclic adsorption performance. Breakthrough \\nexperiments confirmed the selective adsorption of CO2 from simulated flue \\ngas containing CO2/N2 (15/85). Additionally, the mechanism underlying CO2 \\nadsorption on HCP-x was elucidated by analyzing adsorption thermodynamics \\nand diffusion kinetics. This study not only introduces an innovative method for \\nrecycling waste polystyrene foam but also underscores the potential of HCP-x \\nas an effective adsorbent for CO2 capture.\\nConclusion:\\nIn summary, a series of porous HCP-x materials were successfully synthesized \\nfrom waste polystyrene via the Friedel-Crafts alkylation reaction, exhibiting \\nhigh specific surface areas (830–1182 m2 g 1) and pore volumes (0.98–1.67 −\\ncm3 g 1). A systematic investigation was conducted to explore the effects of −\\ncrosslinkers on the structure of HCP-x and their CO2 adsorption performance. \\nThe results revealed that the pores in HCP-x are primarily narrow micropores, \\nwith a maximum CO2 uptake capacity of 2.77 mmol g 1 at 273 K and 1.0 bar . −\\nNotably, the adsorbent HCP-2 demonstrated exceptional cyclic adsorption \\nperformance. The adsorption enthalpy (ΔH) of prepared HCP-x ranged from \\n19.71 to 14.09 kJ mol 1, indicating exothermic adsorption processes for − − −\\nCO2 on HCP-x. Breakthrough experiments further underscored the significant \\nselective separation capacity of HCP-2 for CO2 in simulated mixed gas streams. \\nMoreover , the kinetics and diffusion models analyses indicated that the HCP-x \\npossessed fast kinetics, high adsorption capacity, and favorable intraparticle \\ndiffusion of CO2 molecules, attributed to their unique porous structures. This \\nstudy introduces an innovative method for repurposing discarded polystyrene \\nfoam and highlights the potential of HCP-x as an adsorbent material for CO2 \\ncapture.\\nDOI: https://doi.org/10.1016/j.micromeso.2024.113360\\n12. Abstract:\\nThe utilization of ambient low-pressure CO2 adsorption for carbon neutrality \\ninitiatives holds great potential. However , conventional liquid amine absorption \\nmethods for CO2 capture are plagued by high energy consumption and \\nequipment corrosion issues. In this study, we present a novel approach using \\nindustrial waste silica fume (SF) as a precursor and tetraethylenepentamine \\n(TEPA) as a chemical modifying agent to efficiently synthesize low-cost \\nmesoporous solid amine adsorbents within the waste-derived mesoporous \\npowder sorbents (MPS) series. Employing the static adsorption technique, the \\nimpact of both adsorption temperature and amine loading on the CO2 \\nadsorption efficacy was comprehensively investigated. The optimized sample, \\nMPS-TEPA-30, demonstrated a superior CO2 adsorption capacity, achieving 2.22 \\nmmol g 1 at 323 K and 1 bar , a significant 6.8-fold increase compared to the −')",
         "('type', 'Document')"
        ],
        [
         "10",
         "('id', None)",
         "('metadata', {'producer': 'LibreOffice 24.2', 'creator': 'Writer', 'creationdate': '2025-08-23T21:25:38+05:30', 'author': 'Kritesh Gupta', 'source': 'Carbon_adsorption1.pdf', 'total_pages': 11, 'page': 10, 'page_label': '11'})",
         "('page_content', 'unmodified MPS material (0.326 mmol g 1). Additionally, MPS-TEPA-30 −\\ndemonstrated notable performance advantages, surpassing SBA15-TEPA-30 \\nand MCM41-TEPA-30 with near 1.49- and 2.12-fold increases in adsorption \\ncapacity, respectively. Impressively, MPS-TEPA-30 exhibited remarkable \\nadsorption ability beyond 1.5 mmol g 1 at ultralow pressures (<0.01 bar), −\\nsuggesting its potential for ambient ultralow-pressure CO2 capture. Moreover , \\nMPS-TEPA-30 showed exceptional stability over multiple adsorption–desorption \\ncycles, with only a marginal 6 % decrease in CO2 capture efficiency after the \\nseventh cycle. Thermogravimetric analysis confirmed the robust thermal \\nstability of the amine-functionalized adsorbent (∼473 K), rendering it suitable \\nfor high-temperature adsorption–desorption processes. The Ideal Adsorbed \\nSolution Theory (IAST) equation predicted an excellent adsorption selectivity of \\n1600 for the CO2/N2 (1:1) mixture at 323 K and 10 mbar , underscoring the \\npromising prospects of MPS-TEPA-30 in CO2 capture and selective separation \\napplications from ambient condition.\\nConclusion:')",
         "('type', 'Document')"
        ]
       ],
       "shape": {
        "columns": 4,
        "rows": 11
       }
      },
      "text/html": [
       "<div>\n",
       "<style scoped>\n",
       "    .dataframe tbody tr th:only-of-type {\n",
       "        vertical-align: middle;\n",
       "    }\n",
       "\n",
       "    .dataframe tbody tr th {\n",
       "        vertical-align: top;\n",
       "    }\n",
       "\n",
       "    .dataframe thead th {\n",
       "        text-align: right;\n",
       "    }\n",
       "</style>\n",
       "<table border=\"1\" class=\"dataframe\">\n",
       "  <thead>\n",
       "    <tr style=\"text-align: right;\">\n",
       "      <th></th>\n",
       "      <th>0</th>\n",
       "      <th>1</th>\n",
       "      <th>2</th>\n",
       "      <th>3</th>\n",
       "    </tr>\n",
       "  </thead>\n",
       "  <tbody>\n",
       "    <tr>\n",
       "      <th>0</th>\n",
       "      <td>(id, None)</td>\n",
       "      <td>(metadata, {'producer': 'LibreOffice 24.2', 'c...</td>\n",
       "      <td>(page_content, Sn\\no. \\nText data\\n1. Abstract...</td>\n",
       "      <td>(type, Document)</td>\n",
       "    </tr>\n",
       "    <tr>\n",
       "      <th>1</th>\n",
       "      <td>(id, None)</td>\n",
       "      <td>(metadata, {'producer': 'LibreOffice 24.2', 'c...</td>\n",
       "      <td>(page_content, highlight the potential of micr...</td>\n",
       "      <td>(type, Document)</td>\n",
       "    </tr>\n",
       "    <tr>\n",
       "      <th>2</th>\n",
       "      <td>(id, None)</td>\n",
       "      <td>(metadata, {'producer': 'LibreOffice 24.2', 'c...</td>\n",
       "      <td>(page_content, forces, hydrogen bonds and Lewi...</td>\n",
       "      <td>(type, Document)</td>\n",
       "    </tr>\n",
       "    <tr>\n",
       "      <th>3</th>\n",
       "      <td>(id, None)</td>\n",
       "      <td>(metadata, {'producer': 'LibreOffice 24.2', 'c...</td>\n",
       "      <td>(page_content, the uptake was 3.16 ± 0.01 mmol...</td>\n",
       "      <td>(type, Document)</td>\n",
       "    </tr>\n",
       "    <tr>\n",
       "      <th>4</th>\n",
       "      <td>(id, None)</td>\n",
       "      <td>(metadata, {'producer': 'LibreOffice 24.2', 'c...</td>\n",
       "      <td>(page_content, 6. Abstract:\\nCyanophyta blooms...</td>\n",
       "      <td>(type, Document)</td>\n",
       "    </tr>\n",
       "    <tr>\n",
       "      <th>5</th>\n",
       "      <td>(id, None)</td>\n",
       "      <td>(metadata, {'producer': 'LibreOffice 24.2', 'c...</td>\n",
       "      <td>(page_content, adsorption capacity of 2.35 mmo...</td>\n",
       "      <td>(type, Document)</td>\n",
       "    </tr>\n",
       "    <tr>\n",
       "      <th>6</th>\n",
       "      <td>(id, None)</td>\n",
       "      <td>(metadata, {'producer': 'LibreOffice 24.2', 'c...</td>\n",
       "      <td>(page_content, his study greenly and efficient...</td>\n",
       "      <td>(type, Document)</td>\n",
       "    </tr>\n",
       "    <tr>\n",
       "      <th>7</th>\n",
       "      <td>(id, None)</td>\n",
       "      <td>(metadata, {'producer': 'LibreOffice 24.2', 'c...</td>\n",
       "      <td>(page_content, impacting both the surface area...</td>\n",
       "      <td>(type, Document)</td>\n",
       "    </tr>\n",
       "    <tr>\n",
       "      <th>8</th>\n",
       "      <td>(id, None)</td>\n",
       "      <td>(metadata, {'producer': 'LibreOffice 24.2', 'c...</td>\n",
       "      <td>(page_content, the initial adsorption after 7 ...</td>\n",
       "      <td>(type, Document)</td>\n",
       "    </tr>\n",
       "    <tr>\n",
       "      <th>9</th>\n",
       "      <td>(id, None)</td>\n",
       "      <td>(metadata, {'producer': 'LibreOffice 24.2', 'c...</td>\n",
       "      <td>(page_content, adsorption capacity of 2.77 mmo...</td>\n",
       "      <td>(type, Document)</td>\n",
       "    </tr>\n",
       "    <tr>\n",
       "      <th>10</th>\n",
       "      <td>(id, None)</td>\n",
       "      <td>(metadata, {'producer': 'LibreOffice 24.2', 'c...</td>\n",
       "      <td>(page_content, unmodified MPS material (0.326 ...</td>\n",
       "      <td>(type, Document)</td>\n",
       "    </tr>\n",
       "  </tbody>\n",
       "</table>\n",
       "</div>"
      ],
      "text/plain": [
       "             0                                                  1  \\\n",
       "0   (id, None)  (metadata, {'producer': 'LibreOffice 24.2', 'c...   \n",
       "1   (id, None)  (metadata, {'producer': 'LibreOffice 24.2', 'c...   \n",
       "2   (id, None)  (metadata, {'producer': 'LibreOffice 24.2', 'c...   \n",
       "3   (id, None)  (metadata, {'producer': 'LibreOffice 24.2', 'c...   \n",
       "4   (id, None)  (metadata, {'producer': 'LibreOffice 24.2', 'c...   \n",
       "5   (id, None)  (metadata, {'producer': 'LibreOffice 24.2', 'c...   \n",
       "6   (id, None)  (metadata, {'producer': 'LibreOffice 24.2', 'c...   \n",
       "7   (id, None)  (metadata, {'producer': 'LibreOffice 24.2', 'c...   \n",
       "8   (id, None)  (metadata, {'producer': 'LibreOffice 24.2', 'c...   \n",
       "9   (id, None)  (metadata, {'producer': 'LibreOffice 24.2', 'c...   \n",
       "10  (id, None)  (metadata, {'producer': 'LibreOffice 24.2', 'c...   \n",
       "\n",
       "                                                    2                 3  \n",
       "0   (page_content, Sn\\no. \\nText data\\n1. Abstract...  (type, Document)  \n",
       "1   (page_content, highlight the potential of micr...  (type, Document)  \n",
       "2   (page_content, forces, hydrogen bonds and Lewi...  (type, Document)  \n",
       "3   (page_content, the uptake was 3.16 ± 0.01 mmol...  (type, Document)  \n",
       "4   (page_content, 6. Abstract:\\nCyanophyta blooms...  (type, Document)  \n",
       "5   (page_content, adsorption capacity of 2.35 mmo...  (type, Document)  \n",
       "6   (page_content, his study greenly and efficient...  (type, Document)  \n",
       "7   (page_content, impacting both the surface area...  (type, Document)  \n",
       "8   (page_content, the initial adsorption after 7 ...  (type, Document)  \n",
       "9   (page_content, adsorption capacity of 2.77 mmo...  (type, Document)  \n",
       "10  (page_content, unmodified MPS material (0.326 ...  (type, Document)  "
      ]
     },
     "execution_count": 9,
     "metadata": {},
     "output_type": "execute_result"
    }
   ],
   "source": [
    "import pandas as pd\n",
    "df = pd.DataFrame(documents)\n",
    "df"
   ]
  },
  {
   "cell_type": "code",
   "execution_count": 22,
   "id": "e9ba0db6",
   "metadata": {},
   "outputs": [
    {
     "ename": "KeyError",
     "evalue": "10",
     "output_type": "error",
     "traceback": [
      "\u001b[31m---------------------------------------------------------------------------\u001b[39m",
      "\u001b[31mValueError\u001b[39m                                Traceback (most recent call last)",
      "\u001b[36mFile \u001b[39m\u001b[32m~/miniconda3/envs/myenv/lib/python3.11/site-packages/pandas/core/indexes/range.py:413\u001b[39m, in \u001b[36mRangeIndex.get_loc\u001b[39m\u001b[34m(self, key)\u001b[39m\n\u001b[32m    412\u001b[39m \u001b[38;5;28;01mtry\u001b[39;00m:\n\u001b[32m--> \u001b[39m\u001b[32m413\u001b[39m     \u001b[38;5;28;01mreturn\u001b[39;00m \u001b[38;5;28mself\u001b[39m._range.index(new_key)\n\u001b[32m    414\u001b[39m \u001b[38;5;28;01mexcept\u001b[39;00m \u001b[38;5;167;01mValueError\u001b[39;00m \u001b[38;5;28;01mas\u001b[39;00m err:\n",
      "\u001b[31mValueError\u001b[39m: 10 is not in range",
      "\nThe above exception was the direct cause of the following exception:\n",
      "\u001b[31mKeyError\u001b[39m                                  Traceback (most recent call last)",
      "\u001b[36mCell\u001b[39m\u001b[36m \u001b[39m\u001b[32mIn[22]\u001b[39m\u001b[32m, line 1\u001b[39m\n\u001b[32m----> \u001b[39m\u001b[32m1\u001b[39m \u001b[43mdf\u001b[49m\u001b[43m[\u001b[49m\u001b[32;43m10\u001b[39;49m\u001b[43m]\u001b[49m\n",
      "\u001b[36mFile \u001b[39m\u001b[32m~/miniconda3/envs/myenv/lib/python3.11/site-packages/pandas/core/frame.py:4107\u001b[39m, in \u001b[36mDataFrame.__getitem__\u001b[39m\u001b[34m(self, key)\u001b[39m\n\u001b[32m   4105\u001b[39m \u001b[38;5;28;01mif\u001b[39;00m \u001b[38;5;28mself\u001b[39m.columns.nlevels > \u001b[32m1\u001b[39m:\n\u001b[32m   4106\u001b[39m     \u001b[38;5;28;01mreturn\u001b[39;00m \u001b[38;5;28mself\u001b[39m._getitem_multilevel(key)\n\u001b[32m-> \u001b[39m\u001b[32m4107\u001b[39m indexer = \u001b[38;5;28;43mself\u001b[39;49m\u001b[43m.\u001b[49m\u001b[43mcolumns\u001b[49m\u001b[43m.\u001b[49m\u001b[43mget_loc\u001b[49m\u001b[43m(\u001b[49m\u001b[43mkey\u001b[49m\u001b[43m)\u001b[49m\n\u001b[32m   4108\u001b[39m \u001b[38;5;28;01mif\u001b[39;00m is_integer(indexer):\n\u001b[32m   4109\u001b[39m     indexer = [indexer]\n",
      "\u001b[36mFile \u001b[39m\u001b[32m~/miniconda3/envs/myenv/lib/python3.11/site-packages/pandas/core/indexes/range.py:415\u001b[39m, in \u001b[36mRangeIndex.get_loc\u001b[39m\u001b[34m(self, key)\u001b[39m\n\u001b[32m    413\u001b[39m         \u001b[38;5;28;01mreturn\u001b[39;00m \u001b[38;5;28mself\u001b[39m._range.index(new_key)\n\u001b[32m    414\u001b[39m     \u001b[38;5;28;01mexcept\u001b[39;00m \u001b[38;5;167;01mValueError\u001b[39;00m \u001b[38;5;28;01mas\u001b[39;00m err:\n\u001b[32m--> \u001b[39m\u001b[32m415\u001b[39m         \u001b[38;5;28;01mraise\u001b[39;00m \u001b[38;5;167;01mKeyError\u001b[39;00m(key) \u001b[38;5;28;01mfrom\u001b[39;00m\u001b[38;5;250m \u001b[39m\u001b[34;01merr\u001b[39;00m\n\u001b[32m    416\u001b[39m \u001b[38;5;28;01mif\u001b[39;00m \u001b[38;5;28misinstance\u001b[39m(key, Hashable):\n\u001b[32m    417\u001b[39m     \u001b[38;5;28;01mraise\u001b[39;00m \u001b[38;5;167;01mKeyError\u001b[39;00m(key)\n",
      "\u001b[31mKeyError\u001b[39m: 10"
     ]
    }
   ],
   "source": []
  },
  {
   "cell_type": "code",
   "execution_count": null,
   "id": "e386e5de",
   "metadata": {},
   "outputs": [],
   "source": []
  },
  {
   "cell_type": "code",
   "execution_count": null,
   "id": "c7597c89",
   "metadata": {},
   "outputs": [],
   "source": []
  },
  {
   "cell_type": "code",
   "execution_count": null,
   "id": "a203a2e7",
   "metadata": {},
   "outputs": [],
   "source": []
  },
  {
   "cell_type": "code",
   "execution_count": null,
   "id": "81cf4398",
   "metadata": {},
   "outputs": [],
   "source": []
  },
  {
   "cell_type": "code",
   "execution_count": null,
   "id": "9e106f66",
   "metadata": {},
   "outputs": [],
   "source": []
  },
  {
   "cell_type": "code",
   "execution_count": null,
   "id": "02cbfe96",
   "metadata": {},
   "outputs": [],
   "source": []
  }
 ],
 "metadata": {
  "kernelspec": {
   "display_name": "myenv",
   "language": "python",
   "name": "python3"
  },
  "language_info": {
   "codemirror_mode": {
    "name": "ipython",
    "version": 3
   },
   "file_extension": ".py",
   "mimetype": "text/x-python",
   "name": "python",
   "nbconvert_exporter": "python",
   "pygments_lexer": "ipython3",
   "version": "3.11.13"
  }
 },
 "nbformat": 4,
 "nbformat_minor": 5
}
